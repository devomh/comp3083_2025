{
 "cells": [
  {
   "cell_type": "markdown",
   "id": "5b135b5f",
   "metadata": {},
   "source": [
    "# Module 2: Objects and Methods Fundamentals\n",
    "\n",
    "## The Dot Notation Philosophy\n",
    "\n",
    "You've written `\"hello\".upper()` and `my_list.append(5)` countless times. Now it's time to understand the **profound paradigm shift** behind that simple dot.\n",
    "\n",
    "**Key Insight**: The dot notation `object.method()` represents **sending a message to an object**. You're not running a function on data—you're asking an object to perform an action on itself.\n",
    "\n",
    "This is the essence of **Object-Oriented Programming (OOP)**.\n",
    "\n",
    "### Quick Recap: Objects and Classes\n",
    "\n",
    "From Module 1, remember:\n",
    "- **Object** = A bundle of data + behavior + identity\n",
    "- **Class** = A blueprint/template that defines what objects of that type can do\n",
    "- **Instance** = A specific object created from a class (e.g., \"hello\" is an instance of the `str` class)\n",
    "\n",
    "In this module, we focus on how to **interact with objects** through the dot notation.\n",
    "\n",
    "---\n",
    "\n",
    "## 1. Methods vs. Functions: The Crucial Distinction\n",
    "\n",
    "### Functions: Standalone Procedures\n",
    "\n",
    "A **function** is a standalone piece of code that takes inputs and produces outputs."
   ]
  },
  {
   "cell_type": "code",
   "execution_count": null,
   "id": "27974776",
   "metadata": {},
   "outputs": [],
   "source": [
    "# Functions take objects as arguments\n",
    "len([1, 2, 3])        # Ask the function: \"What's the length of this list?\"\n",
    "max([5, 2, 8, 1])     # Ask the function: \"What's the max of these values?\"\n",
    "sorted([3, 1, 2])     # Ask the function: \"Give me a sorted version of this\"\n",
    "\n",
    "# The function operates ON the object\n",
    "result = sum([1, 2, 3, 4])  # sum() operates on the list"
   ]
  },
  {
   "cell_type": "markdown",
   "id": "ddb00b1c",
   "metadata": {},
   "source": [
    "**Mental Model**: Functions are like external services. You hand them data and they process it.\n",
    "\n",
    "### Methods: Object Behavior\n",
    "\n",
    "A **method** is behavior that belongs to an object. It's called ON the object using dot notation."
   ]
  },
  {
   "cell_type": "code",
   "execution_count": null,
   "id": "506919b8",
   "metadata": {},
   "outputs": [],
   "source": [
    "# Methods are invoked BY objects\n",
    "[1, 2, 3].count(2)      # Ask the list: \"How many times does 2 appear in you?\"\n",
    "\"hello\".upper()         # Ask the string: \"Give me your uppercase version\"\n",
    "[3, 1, 2].sort()        # Tell the list: \"Sort yourself\"\n",
    "\n",
    "# The object performs the action on itself\n",
    "my_list = [1, 2, 3]\n",
    "my_list.append(4)  # The list modifies itself"
   ]
  },
  {
   "cell_type": "markdown",
   "id": "7f624f8b",
   "metadata": {},
   "source": [
    "**Mental Model**: Methods are like asking an object to do something. The object is an active agent, not passive data.\n",
    "\n",
    "### Side-by-Side Comparison"
   ]
  },
  {
   "cell_type": "code",
   "execution_count": null,
   "id": "5d8024d5",
   "metadata": {},
   "outputs": [],
   "source": [
    "# Function approach (external operation)\n",
    "text = \"hello world\"\n",
    "length = len(text)          # Function: len(object)\n",
    "words = text.split()        # Method: object.method()\n",
    "\n",
    "# Method approach (object behavior)\n",
    "numbers = [3, 1, 4, 1, 5]\n",
    "count = numbers.count(1)    # Method: object.method(args)\n",
    "numbers.sort()              # Method: object.method()\n",
    "\n",
    "# Some operations have both!\n",
    "numbers = [3, 1, 2]\n",
    "sorted_func = sorted(numbers)  # Function: returns new list\n",
    "numbers.sort()                  # Method: modifies in place"
   ]
  },
  {
   "cell_type": "markdown",
   "id": "9d1f98a7",
   "metadata": {},
   "source": [
    "**Why Both Exist?**\n",
    "- **Functions** like `len()`, `max()`, `sum()` work across many types (duck typing)\n",
    "- **Methods** are type-specific behaviors unique to that object type\n",
    "- **Design choice**: Python favors methods for object-specific operations\n",
    "\n",
    "---\n",
    "\n",
    "## 2. Reading the Dot: \"Object Receives Message\"\n",
    "\n",
    "When you see `object.method()`, read it as:\n",
    "\n",
    "> \"I'm asking the **object** to execute its **method** behavior.\"\n",
    "\n",
    "### Examples with Natural Language"
   ]
  },
  {
   "cell_type": "code",
   "execution_count": null,
   "id": "e577366b",
   "metadata": {},
   "outputs": [],
   "source": [
    "# Code: name.upper()\n",
    "# Read as: \"Ask the name object to give me its uppercase version\"\n",
    "name = \"alice\"\n",
    "shout = name.upper()  # \"ALICE\"\n",
    "\n",
    "# Code: numbers.append(10)\n",
    "# Read as: \"Tell the numbers list to append 10 to itself\"\n",
    "numbers = [1, 2, 3]\n",
    "numbers.append(10)  # numbers is now [1, 2, 3, 10]\n",
    "\n",
    "# Code: data.get('key', default)\n",
    "# Read as: \"Ask the data dictionary to get 'key' or return default\"\n",
    "data = {\"name\": \"Alice\"}\n",
    "age = data.get('age', 0)  # Returns 0 (default)\n",
    "\n",
    "# Code: path.exists()\n",
    "# Read as: \"Ask the path object if it exists in the filesystem\"\n",
    "from pathlib import Path\n",
    "file_path = Path(\"data.txt\")\n",
    "if file_path.exists():\n",
    "    print(\"File found!\")"
   ]
  },
  {
   "cell_type": "markdown",
   "id": "1057c8e9",
   "metadata": {
    "lines_to_next_cell": 0
   },
   "source": [
    "### Why This Mental Model Matters\n",
    "\n",
    "**Procedural Thinking (OLD)**:\n",
    "\n",
    "```python\n",
    "# Thinking: \"Run the upper function on name\"\n",
    "result = upper(name)  # This doesn't exist in Python!\n",
    "```"
   ]
  },
  {
   "cell_type": "markdown",
   "id": "791672c2",
   "metadata": {
    "lines_to_next_cell": 0
   },
   "source": [
    "**Object-Oriented Thinking (NEW)**:\n",
    "\n",
    "```python\n",
    "# Thinking: \"Ask name to uppercase itself\"\n",
    "result = name.upper()  # This is Python!\n",
    "```"
   ]
  },
  {
   "cell_type": "markdown",
   "id": "f5796af4",
   "metadata": {},
   "source": [
    "This shift from \"functions operating on passive data\" to \"objects performing actions\" is the **core of object-oriented programming**.\n",
    "\n",
    "---\n",
    "\n",
    "## 3. Object State vs. Behavior\n",
    "\n",
    "Every object bundles together:\n",
    "- **State** (data/attributes) — What the object knows\n",
    "- **Behavior** (methods) — What the object can do\n",
    "\n",
    "### Accessing State: Attributes\n",
    "\n",
    "**Attributes** are data attached to an object. Access them without parentheses."
   ]
  },
  {
   "cell_type": "code",
   "execution_count": null,
   "id": "6127b689",
   "metadata": {},
   "outputs": [],
   "source": [
    "from datetime import datetime\n",
    "\n",
    "# Create a datetime object\n",
    "now = datetime.now()\n",
    "\n",
    "# Access attributes (state)\n",
    "print(now.year)    # 2025\n",
    "print(now.month)   # 10\n",
    "print(now.day)     # 16\n",
    "print(now.hour)    # 14\n",
    "print(now.minute)  # 30\n",
    "\n",
    "# Attributes are data, not actions\n",
    "print(type(now.year))  # <class 'int'>"
   ]
  },
  {
   "cell_type": "markdown",
   "id": "224e57fa",
   "metadata": {},
   "source": [
    "### Invoking Behavior: Methods\n",
    "\n",
    "**Methods** are actions the object can perform. Call them with parentheses."
   ]
  },
  {
   "cell_type": "code",
   "execution_count": null,
   "id": "2ca71907",
   "metadata": {},
   "outputs": [],
   "source": [
    "from datetime import datetime\n",
    "\n",
    "now = datetime.now()\n",
    "\n",
    "# Invoke methods (behavior)\n",
    "formatted = now.strftime(\"%Y-%m-%d\")      # \"2025-10-16\"\n",
    "iso_format = now.isoformat()              # \"2025-10-16T14:30:00\"\n",
    "weekday = now.strftime(\"%A\")              # \"Thursday\"\n",
    "\n",
    "# Methods are functions, they do things\n",
    "print(type(now.strftime))  # <class 'builtin_function_or_method'>"
   ]
  },
  {
   "cell_type": "markdown",
   "id": "31a9307e",
   "metadata": {},
   "source": [
    "### Key Difference: Parentheses\n",
    "\n",
    "```python\n",
    "# ❌ Common mistake: Forgetting parentheses\n",
    "text = \"hello\"\n",
    "result = text.upper  # Returns the method object, doesn't call it!\n",
    "print(result)  # <built-in method upper of str object at 0x...>\n",
    "\n",
    "# ✅ Correct: Call the method with parentheses\n",
    "result = text.upper()\n",
    "print(result)  # \"HELLO\"\n",
    "\n",
    "# Attributes: NO parentheses\n",
    "now = datetime.now()\n",
    "year = now.year   # ✅ Correct\n",
    "year = now.year() # ❌ Error: int is not callable\n",
    "\n",
    "# Methods: WITH parentheses\n",
    "upper = text.upper()   # ✅ Correct\n",
    "upper = text.upper     # ❌ Wrong: doesn't execute method\n",
    "```"
   ]
  },
  {
   "cell_type": "markdown",
   "id": "b109df5e",
   "metadata": {},
   "source": [
    "---\n",
    "\n",
    "## 4. Method Chaining: Fluent Interfaces\n",
    "\n",
    "Some methods return objects, allowing you to chain multiple method calls.\n",
    "\n",
    "### Chaining with Immutable Objects\n",
    "\n",
    "Immutable objects return new objects, perfect for chaining:"
   ]
  },
  {
   "cell_type": "code",
   "execution_count": null,
   "id": "7b5a6df2",
   "metadata": {},
   "outputs": [],
   "source": [
    "# String method chaining\n",
    "text = \"  Hello World  \"\n",
    "result = text.strip().lower().replace(\" \", \"_\")\n",
    "print(result)  # \"hello_world\"\n",
    "\n",
    "# Breaking it down:\n",
    "# Step 1: text.strip() → \"Hello World\"\n",
    "# Step 2: .lower() → \"hello world\"\n",
    "# Step 3: .replace(\" \", \"_\") → \"hello_world\"\n",
    "\n",
    "# Each method returns a NEW string object"
   ]
  },
  {
   "cell_type": "markdown",
   "id": "bcec00e6",
   "metadata": {},
   "source": [
    "### Chaining Example: Path Operations"
   ]
  },
  {
   "cell_type": "code",
   "execution_count": null,
   "id": "32a40404",
   "metadata": {},
   "outputs": [],
   "source": [
    "from pathlib import Path\n",
    "\n",
    "# Chain Path operations\n",
    "home_docs = Path.home() / \"Documents\" / \"projects\"\n",
    "print(home_docs)\n",
    "\n",
    "# Even though / is an operator, it returns a Path object\n",
    "# So you can chain it with methods:\n",
    "if home_docs.exists():\n",
    "    files = list(home_docs.glob(\"*.py\"))"
   ]
  },
  {
   "cell_type": "markdown",
   "id": "104db228",
   "metadata": {},
   "source": [
    "### Non-Chainable: Methods That Return `None`\n",
    "\n",
    "**Important**: Methods that modify mutable objects in place usually return `None`.\n",
    "\n",
    "```python\n",
    "# ❌ This doesn't work - sort() returns None\n",
    "numbers = [3, 1, 2]\n",
    "result = numbers.sort().reverse()  # Error! NoneType has no method 'reverse'\n",
    "\n",
    "# ✅ Do modifications separately\n",
    "numbers = [3, 1, 2]\n",
    "numbers.sort()     # Returns None, modifies in place\n",
    "numbers.reverse()  # Returns None, modifies in place\n",
    "print(numbers)     # [3, 2, 1]\n",
    "\n",
    "# ✅ Or use functions that return new objects\n",
    "numbers = [3, 1, 2]\n",
    "result = sorted(numbers, reverse=True)  # Returns [3, 2, 1]\n",
    "```"
   ]
  },
  {
   "cell_type": "markdown",
   "id": "2bd02237",
   "metadata": {},
   "source": [
    "**Design Principle**: Returning `None` from mutating methods signals \"I changed the object in place, I didn't create a new one.\"\n",
    "\n",
    "---\n",
    "\n",
    "## 5. Exploring APIs with `dir()` and `help()`\n",
    "\n",
    "The most important skill: **teaching yourself** how to use objects by exploring their APIs.\n",
    "\n",
    "### Using `dir()` to Discover Methods\n",
    "\n",
    "`dir(object)` returns a list of all attributes and methods:"
   ]
  },
  {
   "cell_type": "code",
   "execution_count": null,
   "id": "f8a7b2aa",
   "metadata": {},
   "outputs": [],
   "source": [
    "# Discover what a string can do\n",
    "text = \"hello\"\n",
    "methods = dir(text)\n",
    "\n",
    "# Filter out special methods (those starting with underscore)\n",
    "public_methods = [m for m in methods if not m.startswith('_')]\n",
    "print(public_methods)\n",
    "# ['capitalize', 'casefold', 'center', 'count', 'encode', 'endswith', ...]\n",
    "\n",
    "# Search for specific methods\n",
    "count_methods = [m for m in dir(text) if 'count' in m.lower()]\n",
    "print(count_methods)  # ['count']"
   ]
  },
  {
   "cell_type": "markdown",
   "id": "fa24dcab",
   "metadata": {},
   "source": [
    "### Using `help()` to Understand Methods\n",
    "\n",
    "`help(object.method)` shows detailed documentation:"
   ]
  },
  {
   "cell_type": "code",
   "execution_count": null,
   "id": "9549a429",
   "metadata": {},
   "outputs": [],
   "source": [
    "# Get detailed help on a method\n",
    "text = \"hello\"\n",
    "help(text.count)\n",
    "\n",
    "# Output shows:\n",
    "# count(sub[, start[, end]]) -> int\n",
    "#     Return the number of non-overlapping occurrences of substring sub\n",
    "#     in string S[start:end]. Optional arguments start and end are\n",
    "#     interpreted as in slice notation.\n",
    "\n",
    "# Now you understand how to use it!\n",
    "text = \"hello world hello\"\n",
    "print(text.count(\"hello\"))        # 2\n",
    "print(text.count(\"hello\", 0, 5))  # 1 (only first 5 characters)"
   ]
  },
  {
   "cell_type": "markdown",
   "id": "88b378ac",
   "metadata": {},
   "source": [
    "### Interactive Exploration Pattern\n",
    "\n",
    "**Pro Tip**: Use this workflow to learn any new object:"
   ]
  },
  {
   "cell_type": "code",
   "execution_count": null,
   "id": "28e09cf0",
   "metadata": {},
   "outputs": [],
   "source": [
    "# 1. Create an instance\n",
    "from collections import Counter\n",
    "word_counts = Counter(['apple', 'banana', 'apple'])\n",
    "\n",
    "# 2. Explore available methods\n",
    "methods = [m for m in dir(word_counts) if not m.startswith('_')]\n",
    "print(\"Available methods:\", methods)\n",
    "\n",
    "# 3. Get help on interesting methods\n",
    "help(word_counts.most_common)\n",
    "\n",
    "# 4. Experiment!\n",
    "print(word_counts.most_common(1))  # [('apple', 2)]"
   ]
  },
  {
   "cell_type": "markdown",
   "id": "b5b7d70b",
   "metadata": {},
   "source": [
    "---\n",
    "\n",
    "## Exercises\n",
    "\n",
    "### Exercise 1: Method Hunt\n",
    "\n",
    "Use `dir()` to find methods matching specific criteria."
   ]
  },
  {
   "cell_type": "code",
   "execution_count": null,
   "id": "b6981e4b",
   "metadata": {},
   "outputs": [],
   "source": [
    "# Part A: Find all methods of a list that contain 'remove'\n",
    "my_list = [1, 2, 3]\n",
    "remove_methods = [m for m in dir(my_list) if 'remove' in m.lower()]\n",
    "print(f\"Remove methods: {remove_methods}\")\n",
    "\n",
    "# Part B: Find all methods of a string that start with 'is'\n",
    "text = \"Hello123\"\n",
    "is_methods = [m for m in dir(text) if m.startswith('is')]\n",
    "print(f\"Is methods: {is_methods}\")\n",
    "\n",
    "# Part C: Experiment with one method from each category\n",
    "# Test one 'is' method from strings\n",
    "print(f\"text.isalpha(): {text.isalpha()}\")  # False (contains numbers)\n",
    "\n",
    "# Your tasks:\n",
    "# 1. Find all dictionary methods that contain 'get'\n",
    "# 2. Find all list methods that end with 'sort'\n",
    "# 3. Discover and test a method you've never used on each type"
   ]
  },
  {
   "cell_type": "markdown",
   "id": "1ec4ac27",
   "metadata": {},
   "source": [
    "---\n",
    "\n",
    "### Exercise 2: Method vs. Function Sort\n",
    "\n",
    "Categorize each operation as either a **method call** or **function call**."
   ]
  },
  {
   "cell_type": "code",
   "execution_count": null,
   "id": "72fcd87d",
   "metadata": {},
   "outputs": [],
   "source": [
    "# Example code snippets\n",
    "snippets = [\n",
    "    \"len([1, 2, 3])\",           # Function or method?\n",
    "    \"[1, 2, 3].count(2)\",       # Function or method?\n",
    "    \"max([5, 2, 8])\",           # Function or method?\n",
    "    \"numbers.append(10)\",       # Function or method?\n",
    "    \"sorted([3, 1, 2])\",        # Function or method?\n",
    "    \"text.upper()\",             # Function or method?\n",
    "    \"sum([1, 2, 3])\",           # Function or method?\n",
    "    \"data.get('key')\",          # Function or method?\n",
    "    \"isinstance(x, int)\",       # Function or method?\n",
    "    \"name.split(',')\",          # Function or method?\n",
    "]\n",
    "\n",
    "# Your task: Create two lists\n",
    "methods = []\n",
    "functions = []\n",
    "\n",
    "# Bonus: Explain the difference in when you'd use each"
   ]
  },
  {
   "cell_type": "markdown",
   "id": "34af3690",
   "metadata": {},
   "source": [
    "---\n",
    "\n",
    "### Exercise 3: Chain Reaction\n",
    "\n",
    "Rewrite these nested function calls as method chains."
   ]
  },
  {
   "cell_type": "code",
   "execution_count": null,
   "id": "c4590a3c",
   "metadata": {},
   "outputs": [],
   "source": [
    "# Example:\n",
    "# Nested: upper(strip(text))\n",
    "# Chained: text.strip().upper()\n",
    "\n",
    "# Challenge 1: Nested functions to method chain\n",
    "text = \"  HELLO WORLD  \"\n",
    "# Nested version:\n",
    "# result = upper(strip(text))\n",
    "# Method chain version:\n",
    "result = 'Your code here'\n",
    "\n",
    "# Challenge 2:\n",
    "words = \"apple,banana,cherry\"\n",
    "# Nested version (pseudocode):\n",
    "# result = sorted(split(words, ','))\n",
    "# Method chain version:\n",
    "result = 'Your code here'\n",
    "\n",
    "# Challenge 3:\n",
    "numbers = [1, 2, 3, 4, 5]\n",
    "# Create a comma-separated string of the numbers\n",
    "# Try to use method chaining!\n",
    "# Hint: convert numbers to strings first, then join\n",
    "result = 'Your code here'\n",
    "\n",
    "# Challenge 4: Build your own chain\n",
    "# Start with \"  hello world  \" and create \"HELLO_WORLD\" using method chaining\n",
    "# Your code here"
   ]
  },
  {
   "cell_type": "markdown",
   "id": "22907951",
   "metadata": {},
   "source": [
    "---\n",
    "\n",
    "### Exercise 4: State vs. Behavior\n",
    "\n",
    "For each item, identify if it's **state (attribute)** or **behavior (method)**."
   ]
  },
  {
   "cell_type": "code",
   "execution_count": null,
   "id": "a255506f",
   "metadata": {},
   "outputs": [],
   "source": [
    "from datetime import datetime\n",
    "from pathlib import Path\n",
    "\n",
    "now = datetime.now()\n",
    "file_path = Path(\"data/sample.txt\")\n",
    "\n",
    "# Classify each:\n",
    "items = [\n",
    "    (\"now.year\", \"attribute or method?\"),\n",
    "    (\"now.strftime('%Y')\", \"attribute or method?\"),\n",
    "    (\"file_path.name\", \"attribute or method?\"),\n",
    "    (\"file_path.exists()\", \"attribute or method?\"),\n",
    "    (\"file_path.suffix\", \"attribute or method?\"),\n",
    "    (\"now.isoformat()\", \"attribute or method?\"),\n",
    "    (\"file_path.parent\", \"attribute or method?\"),\n",
    "    (\"now.weekday()\", \"attribute or method?\"),\n",
    "]\n",
    "\n",
    "# Your task:\n",
    "# 1. Classify each item\n",
    "# 2. Explain how you can tell the difference\n",
    "# 3. Test each one to verify your classification"
   ]
  },
  {
   "cell_type": "markdown",
   "id": "b3f83ec6",
   "metadata": {},
   "source": [
    "---\n",
    "\n",
    "### Exercise 5: Documentation Deep Dive\n",
    "\n",
    "Use `help()` to solve these problems WITHOUT looking at tutorials or Stack Overflow."
   ]
  },
  {
   "cell_type": "code",
   "execution_count": null,
   "id": "4d820a29",
   "metadata": {},
   "outputs": [],
   "source": [
    "# Challenge 1: String splitting with maxsplit\n",
    "# Use help(str.split) to figure out how to split only the first 2 commas\n",
    "text = \"apple,banana,cherry,date,elderberry\"\n",
    "# Expected result: ['apple', 'banana', 'cherry,date,elderberry']\n",
    "result = 'Your code using split with maxsplit parameter'\n",
    "\n",
    "# Challenge 2: List insertion\n",
    "# Use help(list.insert) to insert \"Python\" at index 2\n",
    "languages = [\"Java\", \"C++\", \"JavaScript\", \"Ruby\"]\n",
    "# Expected: [\"Java\", \"C++\", \"Python\", \"JavaScript\", \"Ruby\"]\n",
    "# Your code here\n",
    "\n",
    "# Challenge 3: String formatting\n",
    "# Use help(str.format) to create: \"Alice scored 95 points\"\n",
    "name = \"Alice\"\n",
    "score = 95\n",
    "result = 'Your code using .format()'\n",
    "\n",
    "# Challenge 4: Dictionary setdefault\n",
    "# Use help(dict.setdefault) to solve this problem:\n",
    "word_index = {}\n",
    "words = [\"hello\", \"world\", \"hello\", \"python\"]\n",
    "for i, word in enumerate(words):\n",
    "    # Add index to word's list, creating list if word is new\n",
    "    # Use setdefault - don't use if statements!\n",
    "    # Your code here\n",
    "    pass\n",
    "\n",
    "print(word_index)\n",
    "# Expected: {'hello': [0, 2], 'world': [1], 'python': [3]}\n",
    "\n",
    "# Challenge 5: Discover a new method\n",
    "# Pick an object type (str, list, dict, set)\n",
    "# Find a method you've never used via dir()\n",
    "# Use help() to learn what it does\n",
    "# Write code that demonstrates it"
   ]
  },
  {
   "cell_type": "markdown",
   "id": "16a2902b",
   "metadata": {},
   "source": [
    "---\n",
    "\n",
    "## Real-World Application: Method-Based Design\n",
    "\n",
    "Let's see how methods make code more readable and maintainable.\n",
    "\n",
    "### Example: Data Processing Pipeline"
   ]
  },
  {
   "cell_type": "code",
   "execution_count": null,
   "id": "0b508ddf",
   "metadata": {},
   "outputs": [],
   "source": [
    "# Procedural style (function-based)\n",
    "def process_data_procedural(text):\n",
    "    text = strip_whitespace(text)\n",
    "    text = convert_to_lowercase(text)\n",
    "    text = replace_spaces(text, '_')\n",
    "    words = split_text(text, '_')\n",
    "    words = filter_empty(words)\n",
    "    words = remove_duplicates(words)\n",
    "    return sort_words(words)\n",
    "\n",
    "# Object-oriented style (method-based)\n",
    "def process_data_oop(text):\n",
    "    words = (text\n",
    "             .strip()\n",
    "             .lower()\n",
    "             .replace(' ', '_')\n",
    "             .split('_'))\n",
    "    # Use set to remove duplicates, sorted to sort\n",
    "    return sorted(set(word for word in words if word))\n",
    "\n",
    "# The OOP version:\n",
    "# - Reads left to right (natural flow)\n",
    "# - Uses built-in methods (no custom functions needed)\n",
    "# - Is more concise and maintainable"
   ]
  },
  {
   "cell_type": "markdown",
   "id": "1f11cc47",
   "metadata": {},
   "source": [
    "### Example: Path Operations"
   ]
  },
  {
   "cell_type": "code",
   "execution_count": null,
   "id": "f8babae5",
   "metadata": {},
   "outputs": [],
   "source": [
    "from pathlib import Path\n",
    "\n",
    "# Old way (os.path functions)\n",
    "import os\n",
    "file_path = \"/home/user/documents/report.txt\"\n",
    "directory = os.path.dirname(file_path)\n",
    "filename = os.path.basename(file_path)\n",
    "name_only = os.path.splitext(filename)[0]\n",
    "extension = os.path.splitext(filename)[1]\n",
    "\n",
    "# New way (Path methods)\n",
    "file_path = Path(\"/home/user/documents/report.txt\")\n",
    "directory = file_path.parent\n",
    "filename = file_path.name\n",
    "name_only = file_path.stem\n",
    "extension = file_path.suffix\n",
    "\n",
    "# The method-based approach is:\n",
    "# - More readable (attributes have clear names)\n",
    "# - Harder to mess up (no index errors)\n",
    "# - Chainable for complex operations"
   ]
  },
  {
   "cell_type": "markdown",
   "id": "685e42ce",
   "metadata": {},
   "source": [
    "---\n",
    "\n",
    "## Key Takeaways\n",
    "\n",
    "By completing this module, you should understand:\n",
    "\n",
    "✅ **Methods belong to objects**, functions are standalone\n",
    "\n",
    "✅ **Dot notation** represents objects performing actions on themselves\n",
    "\n",
    "✅ **Attributes (state)** are accessed without parentheses: `object.attribute`\n",
    "\n",
    "✅ **Methods (behavior)** are called with parentheses: `object.method()`\n",
    "\n",
    "✅ **Method chaining** works when methods return objects\n",
    "\n",
    "✅ **Mutating methods return `None`** to signal in-place modification\n",
    "\n",
    "✅ **`dir()` and `help()`** are your tools for exploring any object's API\n",
    "\n",
    "✅ **Reading documentation** is a critical skill for independent programming\n",
    "\n",
    "---\n",
    "\n",
    "## What's Next?\n",
    "\n",
    "In **Module 3**, we'll apply this object-oriented thinking to Python's standard library. You'll master essential modules like `datetime`, `pathlib`, `collections`, and `random` — all designed around rich object APIs.\n",
    "\n",
    "You'll see how consistent method patterns make learning new libraries easier, and you'll build practical tools using these powerful objects.\n",
    "\n",
    "---\n",
    "\n",
    "## Additional Resources\n",
    "\n",
    "- [Python Data Model - Methods](https://docs.python.org/3/reference/datamodel.html)\n",
    "- [Real Python - Python's Instance, Class, and Static Methods](https://realpython.com/instance-class-and-static-methods-demystified/)\n",
    "- [Fluent Python (Book) - Chapter 1](https://www.oreilly.com/library/view/fluent-python/9781491946237/)"
   ]
  }
 ],
 "metadata": {
  "jupytext": {
   "cell_metadata_filter": "-all",
   "main_language": "python",
   "notebook_metadata_filter": "-all"
  },
  "kernelspec": {
   "display_name": "base",
   "language": "python",
   "name": "python3"
  },
  "language_info": {
   "codemirror_mode": {
    "name": "ipython",
    "version": 3
   },
   "file_extension": ".py",
   "mimetype": "text/x-python",
   "name": "python",
   "nbconvert_exporter": "python",
   "pygments_lexer": "ipython3",
   "version": "3.11.5"
  }
 },
 "nbformat": 4,
 "nbformat_minor": 5
}
