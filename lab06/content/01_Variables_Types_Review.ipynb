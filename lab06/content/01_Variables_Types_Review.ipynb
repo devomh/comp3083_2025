{
 "cells": [
  {
   "cell_type": "markdown",
   "id": "2e667e30",
   "metadata": {},
   "source": [
    "# Module 1: Variables and Types Review\n",
    "\n",
    "## Reconceptualizing Variables as Object References\n",
    "\n",
    "Welcome to a new way of thinking about variables! You've used variables hundreds of times, but now we'll understand what's *really* happening in Python's memory when you write `x = 42`.\n",
    "\n",
    "**Key Insight**: In Python, **everything is an object**. Even simple integers have methods, identity, and type. Variables are not boxes that hold values—they're **names that reference objects**.\n",
    "\n",
    "---\n",
    "\n",
    "## 1. Everything is an Object\n",
    "\n",
    "### What is an Object?\n",
    "\n",
    "An **object** is a self-contained unit that bundles together:\n",
    "- **Data** (attributes/properties) — What it knows\n",
    "- **Behavior** (methods) — What it can do\n",
    "- **Identity** — A unique existence in memory\n",
    "\n",
    "Think of objects as **entities** that combine information with the operations you can perform on that information.\n",
    "\n",
    "**Real-world analogy**: A car is an object. It has:\n",
    "- **Data**: color, speed, fuel level, position\n",
    "- **Behavior**: accelerate(), brake(), turn()\n",
    "- **Identity**: This specific car (VIN number)\n",
    "\n",
    "### What is a Class?\n",
    "\n",
    "A **class** is a blueprint or template for creating objects. It defines:\n",
    "- What data the objects will store\n",
    "- What operations the objects can perform\n",
    "\n",
    "**Analogy**: A class is like an architectural blueprint, objects are the actual buildings constructed from that blueprint."
   ]
  },
  {
   "cell_type": "code",
   "execution_count": null,
   "id": "16a38a59",
   "metadata": {},
   "outputs": [],
   "source": [
    "# Python has built-in classes:\n",
    "# - int class creates integer objects\n",
    "# - str class creates string objects\n",
    "# - list class creates list objects\n",
    "\n",
    "x = 42              # Creates an int object\n",
    "name = \"Alice\"      # Creates a str object\n",
    "items = [1, 2, 3]   # Creates a list object"
   ]
  },
  {
   "cell_type": "markdown",
   "id": "5a1c5b01",
   "metadata": {},
   "source": [
    "In Python, **types are classes**. When you check `type(42)`, you see `<class 'int'>` — the integer class.\n",
    "\n",
    "### Everything is an Object in Python\n",
    "\n",
    "In Python, all data are objects. Every object has three fundamental properties:\n",
    "\n",
    "1. **Identity** — A unique identifier (memory address)\n",
    "2. **Type** — What kind of object it is (which class created it)\n",
    "3. **Value** — The data it holds\n",
    "\n",
    "### Inspecting Objects\n",
    "\n",
    "Python provides built-in functions to inspect these properties:"
   ]
  },
  {
   "cell_type": "code",
   "execution_count": null,
   "id": "91a5a5c5",
   "metadata": {},
   "outputs": [],
   "source": [
    "# Create a simple integer\n",
    "x = 42\n",
    "\n",
    "# Check its type\n",
    "print(type(x))  # <class 'int'>\n",
    "\n",
    "# Check its identity (memory address)\n",
    "print(id(x))  # 140234567891234 (will vary)\n",
    "\n",
    "# Discover what methods it has!\n",
    "print(dir(x))  # Lists all available attributes and methods"
   ]
  },
  {
   "cell_type": "markdown",
   "id": "b2e67527",
   "metadata": {},
   "source": [
    "**Surprising Truth**: Even integers have methods! Try this:"
   ]
  },
  {
   "cell_type": "code",
   "execution_count": null,
   "id": "a63f6b23",
   "metadata": {},
   "outputs": [],
   "source": [
    "# Integers have methods like other objects\n",
    "number = 42\n",
    "print(number.bit_length())  # 6 (number of bits needed to represent 42)\n",
    "print(number.to_bytes(2, 'big'))  # b'\\x00*' (convert to bytes)"
   ]
  },
  {
   "cell_type": "markdown",
   "id": "863df7e9",
   "metadata": {},
   "source": [
    "### The Box Analogy\n",
    "\n",
    "Think of objects as boxes in a warehouse:\n",
    "- Each box has a **location** (identity/memory address)\n",
    "- Each box has a **label** describing its contents (type)\n",
    "- Each box contains **something** (value)\n",
    "- Variables are **name tags** pointing to boxes"
   ]
  },
  {
   "cell_type": "code",
   "execution_count": null,
   "id": "a91144f1",
   "metadata": {},
   "outputs": [],
   "source": [
    "# The variable 'name' is a tag pointing to a string object\n",
    "name = \"Alice\"\n",
    "\n",
    "# We can create another tag pointing to the same box\n",
    "another_name = name  # Both tags point to same object\n",
    "\n",
    "print(id(name) == id(another_name))  # True - same box!"
   ]
  },
  {
   "cell_type": "markdown",
   "id": "c953fda2",
   "metadata": {},
   "source": [
    "---\n",
    "\n",
    "## 2. Identity vs. Equality: `is` vs. `==`\n",
    "\n",
    "This is a **critical distinction** that trips up many programmers.\n",
    "\n",
    "- **`==`** checks if two objects have the **same value** (equality)\n",
    "- **`is`** checks if two variables reference the **exact same object** (identity)\n",
    "\n",
    "### Example: Two Lists with Same Values"
   ]
  },
  {
   "cell_type": "code",
   "execution_count": null,
   "id": "92010323",
   "metadata": {},
   "outputs": [],
   "source": [
    "# Create two separate lists with identical contents\n",
    "list1 = [1, 2, 3]\n",
    "list2 = [1, 2, 3]\n",
    "\n",
    "# Value equality (do they contain the same values?)\n",
    "print(list1 == list2)  # True - same contents\n",
    "\n",
    "# Identity (are they the same object in memory?)\n",
    "print(list1 is list2)  # False - different objects\n",
    "\n",
    "# Proof: different memory addresses\n",
    "print(id(list1))  # e.g., 140234567891234\n",
    "print(id(list2))  # e.g., 140234567891456"
   ]
  },
  {
   "cell_type": "markdown",
   "id": "d80aec3b",
   "metadata": {},
   "source": [
    "### Example: Aliasing (Two Names, One Object)"
   ]
  },
  {
   "cell_type": "code",
   "execution_count": null,
   "id": "b022e121",
   "metadata": {},
   "outputs": [],
   "source": [
    "# Create one list\n",
    "original = [1, 2, 3]\n",
    "\n",
    "# Create an alias (another name for the same object)\n",
    "alias = original\n",
    "\n",
    "# Both equality AND identity are True\n",
    "print(alias == original)  # True - same values\n",
    "print(alias is original)  # True - SAME OBJECT\n",
    "\n",
    "# Modifying through alias affects original\n",
    "alias.append(4)\n",
    "print(original)  # [1, 2, 3, 4] - changed!"
   ]
  },
  {
   "cell_type": "markdown",
   "id": "edbe2cee",
   "metadata": {},
   "source": [
    "### When to Use `is` vs. `==`\n",
    "\n",
    "**Rule of Thumb**:\n",
    "- Use `==` for value comparison (99% of cases)\n",
    "- Use `is` only for:\n",
    "  - Checking if something is `None`: `if value is None:`\n",
    "  - Checking if two names reference the exact same object (rare)"
   ]
  },
  {
   "cell_type": "code",
   "execution_count": null,
   "id": "d3df3c65",
   "metadata": {},
   "outputs": [],
   "source": [
    "# ✅ Correct usage\n",
    "if response is None:\n",
    "    print(\"No response received\")\n",
    "\n",
    "if user_input == \"quit\":  # Value comparison\n",
    "    break\n",
    "\n",
    "# ❌ Common mistake\n",
    "if name is \"Alice\":  # DON'T DO THIS\n",
    "    pass  # Unreliable! Use == instead"
   ]
  },
  {
   "cell_type": "markdown",
   "id": "96898f82",
   "metadata": {},
   "source": [
    "**Why the mistake?** String interning makes small strings sometimes share identity, but it's not guaranteed. Always use `==` for value comparison.\n",
    "\n",
    "---\n",
    "\n",
    "## 3. Mutability: The Fundamental Divide\n",
    "\n",
    "Python objects fall into two categories:\n",
    "\n",
    "### Immutable Objects (Sealed Boxes)\n",
    "Once created, they **cannot be changed**. Operations create **new objects**.\n",
    "\n",
    "**Immutable Types**:\n",
    "- `int`, `float`, `complex`\n",
    "- `str` (strings)\n",
    "- `tuple`\n",
    "- `frozenset`\n",
    "- `bool`, `NoneType`"
   ]
  },
  {
   "cell_type": "code",
   "execution_count": null,
   "id": "f4d288c7",
   "metadata": {},
   "outputs": [],
   "source": [
    "# Strings are immutable\n",
    "name = \"alice\"\n",
    "name.upper()  # Creates NEW string \"ALICE\", doesn't change original\n",
    "\n",
    "print(name)  # Still \"alice\" - original unchanged\n",
    "\n",
    "# To use the new value, assign it\n",
    "name = name.upper()\n",
    "print(name)  # Now \"ALICE\""
   ]
  },
  {
   "cell_type": "markdown",
   "id": "f750b58f",
   "metadata": {},
   "source": [
    "**Analogy**: Immutable objects are sealed boxes. If you want to change contents, you must create a new box with different contents.\n",
    "\n",
    "### Mutable Objects (Boxes with Doors)\n",
    "Can be **modified in place** without creating new objects.\n",
    "\n",
    "**Mutable Types**:\n",
    "- `list`\n",
    "- `dict`\n",
    "- `set`"
   ]
  },
  {
   "cell_type": "code",
   "execution_count": null,
   "id": "3e35dd5b",
   "metadata": {},
   "outputs": [],
   "source": [
    "# Lists are mutable\n",
    "numbers = [1, 2, 3]\n",
    "numbers.append(4)  # Modifies IN PLACE\n",
    "\n",
    "print(numbers)  # [1, 2, 3, 4] - original changed"
   ]
  },
  {
   "cell_type": "markdown",
   "id": "dc1ec16d",
   "metadata": {},
   "source": [
    "**Analogy**: Mutable objects have doors. You can open them and change contents without replacing the whole box.\n",
    "\n",
    "### Why Mutability Matters: The Aliasing Problem"
   ]
  },
  {
   "cell_type": "code",
   "execution_count": null,
   "id": "8f17a0aa",
   "metadata": {},
   "outputs": [],
   "source": [
    "# Immutable example (no surprises)\n",
    "x = 10\n",
    "y = x\n",
    "x = 20  # Creates NEW int object, rebinds x\n",
    "\n",
    "print(x)  # 20\n",
    "print(y)  # 10 - unchanged\n",
    "\n",
    "# Mutable example (surprise!)\n",
    "list1 = [1, 2, 3]\n",
    "list2 = list1  # Both names point to SAME list\n",
    "list1.append(4)  # Modifies the shared list\n",
    "\n",
    "print(list1)  # [1, 2, 3, 4]\n",
    "print(list2)  # [1, 2, 3, 4] - also changed!"
   ]
  },
  {
   "cell_type": "markdown",
   "id": "d5fa4856",
   "metadata": {},
   "source": [
    "### Creating Independent Copies"
   ]
  },
  {
   "cell_type": "code",
   "execution_count": null,
   "id": "9239d8c0",
   "metadata": {},
   "outputs": [],
   "source": [
    "# For lists: use .copy() or list()\n",
    "original = [1, 2, 3]\n",
    "independent = original.copy()  # or list(original)\n",
    "\n",
    "original.append(4)\n",
    "print(original)     # [1, 2, 3, 4]\n",
    "print(independent)  # [1, 2, 3] - unaffected\n",
    "\n",
    "# For nested structures: use copy.deepcopy()\n",
    "import copy\n",
    "\n",
    "nested = [[1, 2], [3, 4]]\n",
    "shallow = nested.copy()  # Copies outer list only\n",
    "deep = copy.deepcopy(nested)  # Copies all levels\n",
    "\n",
    "nested[0].append(99)\n",
    "print(nested)   # [[1, 2, 99], [3, 4]]\n",
    "print(shallow)  # [[1, 2, 99], [3, 4]] - inner list shared!\n",
    "print(deep)     # [[1, 2], [3, 4]] - fully independent"
   ]
  },
  {
   "cell_type": "markdown",
   "id": "40b7e764",
   "metadata": {},
   "source": [
    "---\n",
    "\n",
    "## 4. Type Checking Patterns\n",
    "\n",
    "### Runtime Type Checking with `isinstance()`\n",
    "\n",
    "**Best Practice**: Use `isinstance()` instead of `type()` for type checking."
   ]
  },
  {
   "cell_type": "code",
   "execution_count": null,
   "id": "a9c0fd23",
   "metadata": {},
   "outputs": [],
   "source": [
    "# ✅ Preferred: isinstance()\n",
    "def process_data(data):\n",
    "    if isinstance(data, list):\n",
    "        return sum(data)\n",
    "    elif isinstance(data, dict):\n",
    "        return sum(data.values())\n",
    "    else:\n",
    "        return data\n",
    "\n",
    "# ❌ Avoid: comparing type() directly\n",
    "def process_data_bad(data):\n",
    "    if type(data) == list:  # Less flexible\n",
    "        return sum(data)"
   ]
  },
  {
   "cell_type": "markdown",
   "id": "9c57f24d",
   "metadata": {},
   "source": [
    "**Why `isinstance()` is better**:\n",
    "- Works with inheritance (advanced topic)\n",
    "- More Pythonic and readable\n",
    "- Can check multiple types: `isinstance(x, (int, float))`\n",
    "\n",
    "### Type Hints (Documentation + IDE Support)\n",
    "\n",
    "**Type hints** are annotations that document expected types. They don't enforce types at runtime but provide valuable documentation and IDE autocomplete."
   ]
  },
  {
   "cell_type": "code",
   "execution_count": null,
   "id": "a026677d",
   "metadata": {},
   "outputs": [],
   "source": [
    "# Basic type hints\n",
    "def greet(name: str) -> str:\n",
    "    return f\"Hello, {name}!\"\n",
    "\n",
    "def calculate_average(scores: list) -> float:\n",
    "    return sum(scores) / len(scores)\n",
    "\n",
    "# Type hints with specific types (Python 3.9+)\n",
    "def process_scores(scores: list[float]) -> float:\n",
    "    return sum(scores) / len(scores)\n",
    "\n",
    "# Type hints for dictionaries\n",
    "def get_student_gpa(student: dict[str, float]) -> float:\n",
    "    return student['gpa']"
   ]
  },
  {
   "cell_type": "markdown",
   "id": "7f6e00db",
   "metadata": {},
   "source": [
    "**Benefits**:\n",
    "1. **Self-documentation**: Function signatures show expected types\n",
    "2. **IDE autocomplete**: Editor knows what methods are available\n",
    "3. **Error detection**: Tools like `mypy` can catch type errors before runtime"
   ]
  },
  {
   "cell_type": "code",
   "execution_count": null,
   "id": "7a3da397",
   "metadata": {},
   "outputs": [],
   "source": [
    "# Example: IDE autocomplete benefits\n",
    "def uppercase_name(name: str) -> str:\n",
    "    # Type hint tells IDE that 'name' is a string\n",
    "    # IDE will suggest .upper(), .lower(), .split(), etc.\n",
    "    return name.upper()"
   ]
  },
  {
   "cell_type": "markdown",
   "id": "621f1414",
   "metadata": {},
   "source": [
    "### Using the `typing` Module (Preview)\n",
    "\n",
    "For complex types, use the `typing` module:"
   ]
  },
  {
   "cell_type": "code",
   "execution_count": null,
   "id": "9fe18623",
   "metadata": {},
   "outputs": [],
   "source": [
    "from typing import List, Dict, Optional, Union\n",
    "\n",
    "# List of strings\n",
    "def process_names(names: List[str]) -> int:\n",
    "    return len(names)\n",
    "\n",
    "# Dictionary with string keys and integer values\n",
    "def count_items(inventory: Dict[str, int]) -> int:\n",
    "    return sum(inventory.values())\n",
    "\n",
    "# Optional means \"can be None\"\n",
    "def find_student(student_id: str) -> Optional[Dict]:\n",
    "    # Returns dict or None\n",
    "    return None\n",
    "\n",
    "# Union means \"one of these types\"\n",
    "def format_value(value: Union[int, float, str]) -> str:\n",
    "    return str(value)"
   ]
  },
  {
   "cell_type": "markdown",
   "id": "20f38d79",
   "metadata": {},
   "source": [
    "We'll explore `typing` in depth in Module 4.\n",
    "\n",
    "---\n",
    "\n",
    "## Exercises\n",
    "\n",
    "### Exercise 1: Identity Detective\n",
    "\n",
    "Predict the output of the following code. Then run it to check your understanding."
   ]
  },
  {
   "cell_type": "code",
   "execution_count": null,
   "id": "562857e8",
   "metadata": {},
   "outputs": [],
   "source": [
    "# Part A\n",
    "a = [1, 2, 3]\n",
    "b = [1, 2, 3]\n",
    "c = a\n",
    "\n",
    "print(\"Part A:\")\n",
    "print(f\"a == b: {a == b}\")  # Predict: ?\n",
    "print(f\"a is b: {a is b}\")  # Predict: ?\n",
    "print(f\"a is c: {a is c}\")  # Predict: ?\n",
    "\n",
    "# Part B\n",
    "x = 100\n",
    "y = 100\n",
    "print(\"\\nPart B:\")\n",
    "print(f\"x is y: {x is y}\")  # Predict: ?\n",
    "\n",
    "# Part C (surprising!)\n",
    "str1 = \"hello\"\n",
    "str2 = \"hello\"\n",
    "print(\"\\nPart C:\")\n",
    "print(f\"str1 is str2: {str1 is str2}\")  # Predict: ?\n",
    "\n",
    "# Part D\n",
    "large_num1 = 1000\n",
    "large_num2 = 1000\n",
    "print(\"\\nPart D:\")\n",
    "print(f\"large_num1 is large_num2: {large_num1 is large_num2}\")  # Predict: ?"
   ]
  },
  {
   "cell_type": "markdown",
   "id": "6ee393a1",
   "metadata": {},
   "source": [
    "**Questions**:\n",
    "1. Why is `a is b` False but `a is c` True?\n",
    "2. Why might `str1 is str2` be True? (Hint: string interning)\n",
    "3. What's the difference between small and large integer behavior?\n",
    "\n",
    "---\n",
    "\n",
    "### Exercise 2: Mutation Station\n",
    "\n",
    "For each operation, determine if it creates a **new object** or modifies **in place**."
   ]
  },
  {
   "cell_type": "code",
   "execution_count": null,
   "id": "9ac093fd",
   "metadata": {},
   "outputs": [],
   "source": [
    "# Test each operation\n",
    "numbers = [5, 2, 8, 1, 9]\n",
    "text = \"hello world\"\n",
    "data = {\"name\": \"Alice\", \"age\": 30}\n",
    "\n",
    "# Operation 1\n",
    "numbers.sort()  # New object or in-place? ________\n",
    "\n",
    "# Operation 2\n",
    "result = sorted(numbers)  # New object or in-place? ________\n",
    "\n",
    "# Operation 3\n",
    "upper_text = text.upper()  # New object or in-place? ________\n",
    "\n",
    "# Operation 4\n",
    "text.replace(\"world\", \"Python\")  # New object or in-place? ________\n",
    "\n",
    "# Operation 5\n",
    "data[\"city\"] = \"Boston\"  # New object or in-place? ________\n",
    "\n",
    "# Operation 6\n",
    "numbers.append(10)  # New object or in-place? ________\n",
    "\n",
    "# Operation 7\n",
    "new_numbers = numbers + [11, 12]  # New object or in-place? ________"
   ]
  },
  {
   "cell_type": "markdown",
   "id": "2345534f",
   "metadata": {},
   "source": [
    "**Challenge**: Rewrite each in-place operation as a new-object operation, and vice versa.\n",
    "\n",
    "---\n",
    "\n",
    "### Exercise 3: Type Explorer\n",
    "\n",
    "Use `type()`, `dir()`, and `help()` to explore objects."
   ]
  },
  {
   "cell_type": "code",
   "execution_count": null,
   "id": "76879d33",
   "metadata": {},
   "outputs": [],
   "source": [
    "# Create various objects\n",
    "number = 42\n",
    "text = \"Python\"\n",
    "items = [1, 2, 3]\n",
    "person = {\"name\": \"Alice\", \"age\": 30}\n",
    "\n",
    "# Task 1: Find all methods that start with 'is' for a string\n",
    "text_methods = [m for m in dir(text) if m.startswith('is')]\n",
    "print(f\"String 'is' methods: {text_methods}\")\n",
    "\n",
    "# Task 2: Find all methods that contain 'add' for a list\n",
    "# Your code here\n",
    "\n",
    "# Task 3: Use help() to understand what str.isdigit() does\n",
    "help(text.isdigit)\n",
    "\n",
    "# Task 4: Discover a method you've never used before on:\n",
    "# - integers (hint: check dir(number))\n",
    "# - lists (hint: look for methods you haven't learned yet)\n",
    "# - dictionaries (hint: explore dict methods)\n",
    "\n",
    "# Your exploration code here"
   ]
  },
  {
   "cell_type": "markdown",
   "id": "1c9c3ce9",
   "metadata": {},
   "source": [
    "---\n",
    "\n",
    "### Exercise 4: Reference Puzzle\n",
    "\n",
    "Debug the following code. It's supposed to create independent student records, but modifications to one student affect others. Why?"
   ]
  },
  {
   "cell_type": "code",
   "execution_count": null,
   "id": "f6515360",
   "metadata": {},
   "outputs": [],
   "source": [
    "# Buggy code\n",
    "default_courses = [\"MATH101\", \"ENG101\"]\n",
    "\n",
    "students = []\n",
    "for name in [\"Alice\", \"Bob\", \"Charlie\"]:\n",
    "    student = {\n",
    "        \"name\": name,\n",
    "        \"courses\": default_courses\n",
    "    }\n",
    "    students.append(student)\n",
    "\n",
    "# Try to add a course to Alice\n",
    "students[0][\"courses\"].append(\"COMP3083\")\n",
    "\n",
    "# Print all students\n",
    "for student in students:\n",
    "    print(f\"{student['name']}: {student['courses']}\")\n",
    "\n",
    "# Expected: Only Alice has COMP3083\n",
    "# Actual: All students have COMP3083!"
   ]
  },
  {
   "cell_type": "markdown",
   "id": "d5b915fc",
   "metadata": {},
   "source": [
    "**Tasks**:\n",
    "1. Explain why all students have \"COMP3083\"\n",
    "2. Fix the code so each student has independent course lists\n",
    "3. Verify using `id()` that each student's course list is different\n",
    "\n",
    "---\n",
    "\n",
    "### Exercise 5: Type Annotation Practice\n",
    "\n",
    "Add type hints to the following functions:"
   ]
  },
  {
   "cell_type": "code",
   "execution_count": null,
   "id": "7933cbe3",
   "metadata": {},
   "outputs": [],
   "source": [
    "# Function 1: Calculate total price with tax\n",
    "def calculate_total(price, tax_rate):\n",
    "    return price * (1 + tax_rate)\n",
    "\n",
    "# Function 2: Find students with GPA above threshold\n",
    "def filter_students(students, min_gpa):\n",
    "    return [s for s in students if s['gpa'] >= min_gpa]\n",
    "\n",
    "# Function 3: Create a greeting message\n",
    "def create_greeting(name, title=None):\n",
    "    if title:\n",
    "        return f\"Hello, {title} {name}!\"\n",
    "    return f\"Hello, {name}!\"\n",
    "\n",
    "# Function 4: Count word frequency\n",
    "def word_frequency(text):\n",
    "    words = text.lower().split()\n",
    "    freq = {}\n",
    "    for word in words:\n",
    "        freq[word] = freq.get(word, 0) + 1\n",
    "    return freq"
   ]
  },
  {
   "cell_type": "markdown",
   "id": "d59123c2",
   "metadata": {},
   "source": [
    "**Hints**:\n",
    "- Use `float`, `str`, `list`, `dict` as appropriate\n",
    "- For optional parameters, use `Optional[type]` from `typing`\n",
    "- For dictionaries, specify key and value types: `Dict[str, int]`\n",
    "\n",
    "---\n",
    "\n",
    "### Exercise 6: Memory Model Drawing\n",
    "\n",
    "For the following code, draw a memory diagram showing:\n",
    "- Objects (boxes with type and value)\n",
    "- Variable names (arrows pointing to objects)\n",
    "- Identity relationships"
   ]
  },
  {
   "cell_type": "code",
   "execution_count": null,
   "id": "8efa90d5",
   "metadata": {},
   "outputs": [],
   "source": [
    "# Code to visualize\n",
    "a = [1, 2, 3]\n",
    "b = a\n",
    "c = [1, 2, 3]\n",
    "d = a.copy()\n",
    "\n",
    "a.append(4)"
   ]
  },
  {
   "cell_type": "markdown",
   "id": "34be3c95",
   "metadata": {},
   "source": [
    "**Questions**:\n",
    "1. After `a.append(4)`, what does each variable reference?\n",
    "2. Which variables point to the same object?\n",
    "3. Which variables have equal values (`==`) but different identities?\n",
    "\n",
    "**Tool**: Use [Python Tutor](https://pythontutor.com/) to visualize and check your understanding!\n",
    "\n",
    "---\n",
    "\n",
    "## Key Takeaways\n",
    "\n",
    "By completing this module, you should understand:\n",
    "\n",
    "✅ **Everything in Python is an object** with identity, type, and value\n",
    "\n",
    "✅ **Variables are references**, not containers — they point to objects\n",
    "\n",
    "✅ **`is` checks identity** (same object), **`==` checks equality** (same value)\n",
    "\n",
    "✅ **Immutable objects** (int, str, tuple) can't be changed; operations create new objects\n",
    "\n",
    "✅ **Mutable objects** (list, dict, set) can be modified in place\n",
    "\n",
    "✅ **Aliasing** can cause unexpected behavior with mutable objects\n",
    "\n",
    "✅ **Type hints** improve code documentation and IDE support\n",
    "\n",
    "---\n",
    "\n",
    "## What's Next?\n",
    "\n",
    "In **Module 2**, we'll explore the **dot notation philosophy** — understanding `object.method()` as \"sending a message to an object.\" You'll learn the crucial distinction between methods and functions, and master the art of exploring object APIs.\n",
    "\n",
    "---\n",
    "\n",
    "## Additional Resources\n",
    "\n",
    "- [Python Data Model (Official Docs)](https://docs.python.org/3/reference/datamodel.html)\n",
    "- [Python Tutor - Visualize Code Execution](https://pythontutor.com/)\n",
    "- [Real Python - Immutability in Python](https://realpython.com/python-immutability/)\n",
    "- [PEP 484 - Type Hints](https://peps.python.org/pep-0484/)"
   ]
  }
 ],
 "metadata": {
  "jupytext": {
   "cell_metadata_filter": "-all",
   "main_language": "python",
   "notebook_metadata_filter": "-all"
  }
 },
 "nbformat": 4,
 "nbformat_minor": 5
}
