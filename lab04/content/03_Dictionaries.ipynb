{
 "cells": [
  {
   "cell_type": "markdown",
   "id": "57f0fe6f",
   "metadata": {},
   "source": [
    "# Dictionaries in Python\n",
    "\n",
    "## Overview\n",
    "\n",
    "Dictionaries are unordered (in Python versions before 3.7), mutable collections that store data in key-value pairs. They are ideal for representing structured data, creating fast lookups, and organizing information where each piece of data has a unique identifier (the key).\n",
    "\n",
    "## Dictionary Creation and Basic Operations\n",
    "\n",
    "### Creating Dictionaries"
   ]
  },
  {
   "cell_type": "code",
   "execution_count": null,
   "id": "f741d3c4",
   "metadata": {},
   "outputs": [],
   "source": [
    "# A dictionary of a student\n",
    "student = {\n",
    "    \"name\": \"Alice Johnson\",\n",
    "    \"age\": 20,\n",
    "    \"major\": \"Computer Science\",\n",
    "    \"gpa\": 3.8\n",
    "}\n",
    "print(f\"Student data: {student}\")\n",
    "\n",
    "# Empty dictionary\n",
    "empty_dict = {}\n",
    "\n",
    "# Using the dict() constructor\n",
    "from_keywords = dict(name=\"Bob\", age=25, city=\"New York\")\n",
    "print(f\"From keywords: {from_keywords}\")"
   ]
  },
  {
   "cell_type": "markdown",
   "id": "4d416199",
   "metadata": {},
   "source": [
    "### Basic Dictionary Operations"
   ]
  },
  {
   "cell_type": "code",
   "execution_count": null,
   "id": "edc77a91",
   "metadata": {},
   "outputs": [],
   "source": [
    "person = {\"name\": \"Charlie\", \"age\": 30, \"job\": \"Engineer\"}\n",
    "\n",
    "# Get dictionary length\n",
    "print(f\"Length of person dict: {len(person)}\")\n",
    "\n",
    "# Check if a key exists\n",
    "print(f\"'name' in person: {\"name\" in person}\")\n",
    "print(f\"'salary' in person: {\"salary\" in person}\")"
   ]
  },
  {
   "cell_type": "markdown",
   "id": "1cfa82a9",
   "metadata": {},
   "source": [
    "## Accessing and Modifying Dictionary Data\n",
    "\n",
    "### Accessing Values"
   ]
  },
  {
   "cell_type": "code",
   "execution_count": null,
   "id": "a25f08fa",
   "metadata": {},
   "outputs": [],
   "source": [
    "student = {\n",
    "    \"name\": \"Diana\",\n",
    "    \"grades\": [85, 92, 78],\n",
    "    \"active\": True\n",
    "}\n",
    "\n",
    "# Direct key access (raises KeyError if key doesn't exist)\n",
    "print(f\"Name: {student['name']}\")\n",
    "\n",
    "# Safe access with the get() method\n",
    "# Returns None if the key is not found\n",
    "print(f\"Major: {student.get('major')}\")\n",
    "# Returns a default value if the key is not found\n",
    "print(f\"Major: {student.get('major', 'Undeclared')}\")"
   ]
  },
  {
   "cell_type": "markdown",
   "id": "70b8adeb",
   "metadata": {},
   "source": [
    "### Adding and Updating Values"
   ]
  },
  {
   "cell_type": "code",
   "execution_count": null,
   "id": "3987e398",
   "metadata": {},
   "outputs": [],
   "source": [
    "inventory = {\"apples\": 50, \"bananas\": 30}\n",
    "print(f\"Initial inventory: {inventory}\")\n",
    "\n",
    "# Add a new key-value pair\n",
    "inventory[\"oranges\"] = 25\n",
    "print(f\"Added oranges: {inventory}\")\n",
    "\n",
    "# Update an existing value\n",
    "inventory[\"apples\"] = 45\n",
    "print(f\"Updated apples: {inventory}\")\n",
    "\n",
    "# Update multiple values at once\n",
    "inventory.update({\"bananas\": 35, \"grapes\": 20})\n",
    "print(f\"Updated with dict: {inventory}\")"
   ]
  },
  {
   "cell_type": "markdown",
   "id": "22125897",
   "metadata": {},
   "source": [
    "### Removing Items"
   ]
  },
  {
   "cell_type": "code",
   "execution_count": null,
   "id": "9e09f34b",
   "metadata": {},
   "outputs": [],
   "source": [
    "scores = {\"Alice\": 95, \"Bob\": 87, \"Charlie\": 92, \"Diana\": 98}\n",
    "\n",
    "# Remove a specific key and return its value\n",
    "removed_score = scores.pop(\"Bob\")\n",
    "print(f\"Removed Bob's score of {removed_score}. Current: {scores}\")\n",
    "\n",
    "# Delete a specific key (without returning it)\n",
    "del scores[\"Alice\"]\n",
    "print(f\"Deleted Alice: {scores}\")\n",
    "\n",
    "# Clear all items from the dictionary\n",
    "scores.clear()\n",
    "print(f\"Cleared scores: {scores}\")"
   ]
  },
  {
   "cell_type": "markdown",
   "id": "d3e79582",
   "metadata": {},
   "source": [
    "## Iterating Through Dictionaries"
   ]
  },
  {
   "cell_type": "code",
   "execution_count": null,
   "id": "c2f45f2d",
   "metadata": {},
   "outputs": [],
   "source": [
    "student_grades = {\"Alice\": 92, \"Bob\": 87, \"Charlie\": 95}\n",
    "\n",
    "# Iterate over keys (the default behavior)\n",
    "print(\"\\nIterating over keys:\")\n",
    "for student in student_grades:\n",
    "    print(f\"  {student} has a grade of {student_grades[student]}\")\n",
    "\n",
    "# Iterate over values\n",
    "print(\"\\nIterating over values:\")\n",
    "for grade in student_grades.values():\n",
    "    print(f\"  Grade: {grade}\")\n",
    "\n",
    "# Iterate over key-value pairs (most common)\n",
    "print(\"\\nIterating over items (key-value pairs):\")\n",
    "for student, grade in student_grades.items():\n",
    "    print(f\"  {student}: {grade}\")"
   ]
  },
  {
   "cell_type": "markdown",
   "id": "4942eeea",
   "metadata": {},
   "source": [
    "## Dictionary Comprehensions\n",
    "\n",
    "Similar to list comprehensions, dictionary comprehensions offer a concise way to create and transform dictionaries."
   ]
  },
  {
   "cell_type": "code",
   "execution_count": null,
   "id": "205bfbfe",
   "metadata": {},
   "outputs": [],
   "source": [
    "# Create a dictionary of squares\n",
    "numbers = [1, 2, 3, 4, 5]\n",
    "squares = {x: x**2 for x in numbers}\n",
    "print(f\"Squares dict: {squares}\")\n",
    "\n",
    "# Filter a dictionary\n",
    "students_scores = {\"Alice\": 95, \"Bob\": 72, \"Charlie\": 88, \"Diana\": 91}\n",
    "high_scorers = {name: score for name, score in students_scores.items() if score >= 90}\n",
    "print(f\"High scorers: {high_scorers}\")"
   ]
  },
  {
   "cell_type": "markdown",
   "id": "b59c340c",
   "metadata": {},
   "source": [
    "## Nested Dictionaries\n",
    "\n",
    "Dictionaries can contain other dictionaries, which is useful for modeling complex, structured data."
   ]
  },
  {
   "cell_type": "code",
   "execution_count": null,
   "id": "e0b18d46",
   "metadata": {},
   "outputs": [],
   "source": [
    "university = {\n",
    "    \"departments\": {\n",
    "        \"CS\": {\n",
    "            \"name\": \"Computer Science\",\n",
    "            \"head\": \"Dr. Johnson\",\n",
    "            \"courses\": [\"COMP3083\", \"COMP4087\"]\n",
    "        },\n",
    "        \"MATH\": {\n",
    "            \"name\": \"Mathematics\", \n",
    "            \"head\": \"Dr. Brown\",\n",
    "            \"courses\": [\"MATH2050\", \"MATH3060\"]\n",
    "        }\n",
    "    }\n",
    "}\n",
    "\n",
    "# Accessing nested data\n",
    "cs_dept_name = university[\"departments\"][\"CS\"][\"name\"]\n",
    "print(f\"CS Department: {cs_dept_name}\")\n",
    "\n",
    "math_head = university.get(\"departments\", {}).get(\"MATH\", {}).get(\"head\", \"N/A\")\n",
    "print(f\"Math Department Head: {math_head}\")"
   ]
  },
  {
   "cell_type": "markdown",
   "id": "34c0834f",
   "metadata": {},
   "source": [
    "## Practical Examples\n",
    "\n",
    "### Example 1: Word Frequency Counter\n",
    "This is a classic use case for dictionaries: counting the occurrences of items in a sequence."
   ]
  },
  {
   "cell_type": "code",
   "execution_count": null,
   "id": "86bce3b8",
   "metadata": {},
   "outputs": [],
   "source": [
    "text = \"\"\"\n",
    "Python is a powerful programming language. Python is easy to learn and\n",
    "Python is widely used. Programming with Python is fun and programming\n",
    "skills are valuable.\n",
    "\"\"\"\n",
    "\n",
    "# Clean and split the text into words\n",
    "clean_text = text.lower().replace(\".\", \"\").replace(\",\", \"\")\n",
    "words = clean_text.split()\n",
    "\n",
    "# Count frequencies\n",
    "word_freq = {}\n",
    "for word in words:\n",
    "    word_freq[word] = word_freq.get(word, 0) + 1\n",
    "\n",
    "# Sort the words by frequency in descending order\n",
    "# sorted_words = sorted(word_freq.items(), key=lambda item: item[1], reverse=True)\n",
    "\n",
    "print(\"--- Word Frequency Report ---\")\n",
    "print(f\"Total unique words: {len(word_freq)}\")\n",
    "print(\"Top 5 most frequent words:\")\n",
    "for word, count in sorted_words[:5]:\n",
    "    print(f\"  '{word}': {count} times\")"
   ]
  },
  {
   "cell_type": "markdown",
   "id": "a5eada12",
   "metadata": {},
   "source": [
    "### Example 2: Student Gradebook\n",
    "This example shows how a nested dictionary can effectively model a real-world structure like a gradebook."
   ]
  },
  {
   "cell_type": "code",
   "execution_count": null,
   "id": "f6abb5ec",
   "metadata": {},
   "outputs": [],
   "source": [
    "gradebook = {\n",
    "    \"COMP3083\": {\n",
    "        \"course_name\": \"Programming I\",\n",
    "        \"students\": {\n",
    "            \"12345\": {\"name\": \"Alice\", \"grades\": [85, 92, 78, 90]},\n",
    "            \"67890\": {\"name\": \"Bob\", \"grades\": [91, 88, 95, 87]},\n",
    "            \"54321\": {\"name\": \"Charlie\", \"grades\": [76, 82, 79, 85]}\n",
    "        }\n",
    "    }\n",
    "}\n",
    "\n",
    "# Calculate and add average to each student\n",
    "course = gradebook[\"COMP3083\"]\n",
    "for student_id, student_info in course[\"students\"].items():\n",
    "    grades = student_info[\"grades\"]\n",
    "    average = sum(grades) / len(grades)\n",
    "    student_info[\"average\"] = round(average, 1)\n",
    "\n",
    "# Generate a report\n",
    "print(\"\\n--- Grade Report for COMP3083 ---\")\n",
    "for student_id, student_info in course[\"students\"].items():\n",
    "    name = student_info[\"name\"]\n",
    "    avg = student_info[\"average\"]\n",
    "    print(f\"  Student: {name} (ID: {student_id}), Average: {avg}%\")"
   ]
  },
  {
   "cell_type": "markdown",
   "id": "3fadaac8",
   "metadata": {},
   "source": [
    "## Best Practices\n",
    "\n",
    "1.  **Use `get()` for safe access**: When a key might be missing, `d.get(key, default_value)` is safer than `d[key]` because it avoids a `KeyError`.\n",
    "2.  **Keys must be immutable**: Dictionary keys must be of a type that cannot be changed, such as strings, numbers, or tuples.\n",
    "3.  **Use `setdefault()` to initialize keys**: `d.setdefault(key, [])` is a concise way to create a key with a default value (like an empty list) only if it doesn't already exist.\n",
    "4.  **Iterate with `.items()`**: When you need both the key and the value in a loop, using `for key, value in d.items():` is the most direct and readable approach.\n",
    "\n",
    "--- \n",
    "\n",
    "## Exercises\n",
    "\n",
    "### 1. Ages Dictionary\n",
    "Create a dictionary called `edades` that stores the names and ages of the following people:\n",
    "- Carlos, 22\n",
    "- Jorge, 15\n",
    "- Melinda, 19\n",
    "- Laura, 9\n",
    "\n",
    "### 2. Formatted Dictionary Output\n",
    "Using the `edades` dictionary from the previous exercise, write a loop that prints its content in the following format:\n",
    "```\n",
    "Estudiante: Carlos    | Edad:  22 años\n",
    "Estudiante: Jorge     | Edad:  15 años\n",
    "...\n",
    "```\n",
    "*Hint: Use f-string formatting to align the text.*\n",
    "\n",
    "### 3. Name Lookup\n",
    "Write a program that asks the user for a name and, using the `edades` dictionary, returns the person's age. If the name is not in the dictionary, it should print the message \"No registrado\".\n",
    "\n",
    "### 4. Word Frequency Counter\n",
    "Write a program that, given a sentence, counts how many times each word appears. The result should be a dictionary where the keys are the words and the values are their frequencies. Assume the text is lowercase and has no punctuation.\n",
    "\n",
    "**Example Input:** `\"I think I will do great I think\"`\n",
    "**Example Output:** `{'i': 2, 'think': 2, 'will': 1, 'do': 1, 'great': 1}`"
   ]
  }
 ],
 "metadata": {
  "jupytext": {
   "cell_metadata_filter": "-all",
   "main_language": "python",
   "notebook_metadata_filter": "-all"
  }
 },
 "nbformat": 4,
 "nbformat_minor": 5
}
