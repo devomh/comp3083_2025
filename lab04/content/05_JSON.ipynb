{
 "cells": [
  {
   "cell_type": "markdown",
   "id": "b64970da",
   "metadata": {},
   "source": [
    "# JSON in Python\n",
    "\n",
    "## Overview\n",
    "\n",
    "JSON (JavaScript Object Notation) is a lightweight, text-based data interchange format that is easy for humans to read and for machines to parse. It has become the de facto standard for data exchange in web APIs, configuration files, and data storage.\n",
    "\n",
    "### JSON Structure and Syntax\n",
    "\n",
    "JSON is built on two main structures:\n",
    "-   **Objects**: Collections of key-value pairs, enclosed in curly braces `{}` (like Python dictionaries).\n",
    "-   **Arrays**: Ordered lists of values, enclosed in square brackets `[]` (like Python lists).\n",
    "\n",
    "JSON supports strings, numbers, booleans (`true`/`false`), `null`, objects, and arrays.\n",
    "\n",
    "## Python's `json` Module\n",
    "\n",
    "Python's built-in `json` module provides the tools to work with JSON data.\n",
    "\n",
    "-   `json.dumps()`: **Dumps** a Python object to a JSON formatted **string**.\n",
    "-   `json.loads()`: **Loads** a JSON formatted **string** into a Python object.\n",
    "-   `json.dump()`: **Dumps** a Python object to a **file**.\n",
    "-   `json.load()`: **Loads** a JSON object from a **file**.\n",
    "\n",
    "### Converting Python to JSON (Serialization)\n",
    "\n",
    "Serialization is the process of converting a Python object into a JSON string."
   ]
  },
  {
   "cell_type": "code",
   "execution_count": null,
   "id": "4e01630a",
   "metadata": {},
   "outputs": [],
   "source": [
    "import json\n",
    "\n",
    "# Python dictionary\n",
    "student_data = {\n",
    "    \"name\": \"Alice Johnson\",\n",
    "    \"student_id\": \"12345\",\n",
    "    \"is_enrolled\": True,\n",
    "    \"courses\": [\"COMP3083\", \"MATH2050\"],\n",
    "    \"gpa\": 3.8,\n",
    "    \"advisor\": None\n",
    "}\n",
    "\n",
    "# Convert to a compact JSON string\n",
    "json_string = json.dumps(student_data)\n",
    "print(\"Compact JSON string:\")\n",
    "print(json_string)\n",
    "\n",
    "# Convert to a pretty-printed JSON string for readability\n",
    "pretty_json = json.dumps(student_data, indent=2, sort_keys=True)\n",
    "print(\"\\nPretty JSON string:\")\n",
    "print(pretty_json)"
   ]
  },
  {
   "cell_type": "markdown",
   "id": "2615fa8d",
   "metadata": {},
   "source": [
    "### Converting JSON to Python (Deserialization)\n",
    "\n",
    "Deserialization is the process of parsing a JSON string into a Python object."
   ]
  },
  {
   "cell_type": "code",
   "execution_count": null,
   "id": "ac1dd6ce",
   "metadata": {},
   "outputs": [],
   "source": [
    "import json\n",
    "\n",
    "json_string = '''\n",
    "{\n",
    "  \"name\": \"Bob Smith\",\n",
    "  \"age\": 22,\n",
    "  \"courses\": [\"PHYS1010\", \"MATH2051\"],\n",
    "  \"active\": true,\n",
    "  \"graduation_year\": null\n",
    "}\n",
    "'''\n",
    "\n",
    "# Convert JSON string to Python dictionary\n",
    "student_data = json.loads(json_string)\n",
    "\n",
    "print(\"Python object:\")\n",
    "print(student_data)\n",
    "\n",
    "# You can now access the data like a normal Python dictionary\n",
    "print(f\"\\nStudent name: {student_data['name']}\")\n",
    "print(f\"First course: {student_data['courses'][0]}\")"
   ]
  },
  {
   "cell_type": "markdown",
   "id": "e553872f",
   "metadata": {},
   "source": [
    "## File Operations with JSON\n",
    "\n",
    "Working with JSON files is a very common task.\n",
    "\n",
    "### Saving Data to a JSON File"
   ]
  },
  {
   "cell_type": "code",
   "execution_count": null,
   "id": "67a631a2",
   "metadata": {},
   "outputs": [],
   "source": [
    "import json\n",
    "\n",
    "students_database = {\n",
    "    \"university\": \"Springfield University\",\n",
    "    \"students\": [\n",
    "        {\n",
    "            \"id\": \"001\",\n",
    "            \"name\": \"Alice Johnson\",\n",
    "            \"major\": \"Computer Science\",\n",
    "            \"gpa\": 3.8\n",
    "        },\n",
    "        {\n",
    "            \"id\": \"002\",\n",
    "            \"name\": \"Bob Smith\", \n",
    "            \"major\": \"Mathematics\",\n",
    "            \"gpa\": 3.6\n",
    "        }\n",
    "    ]\n",
    "}\n",
    "\n",
    "# Save the dictionary to a file with pretty-printing\n",
    "# The 'w' means we are opening the file for writing\n",
    "with open(\"students_database.json\", \"w\") as file:\n",
    "    json.dump(students_database, file, indent=2)\n",
    "\n",
    "print(\"Data saved to students_database.json\")"
   ]
  },
  {
   "cell_type": "markdown",
   "id": "1bd07a39",
   "metadata": {},
   "source": [
    "### Loading Data from a JSON File"
   ]
  },
  {
   "cell_type": "code",
   "execution_count": null,
   "id": "4ccad5b4",
   "metadata": {},
   "outputs": [],
   "source": [
    "import json\n",
    "\n",
    "# Load data from the JSON file we just created\n",
    "# The 'r' means we are opening the file for reading\n",
    "try:\n",
    "    with open(\"students_database.json\", \"r\") as file:\n",
    "        loaded_data = json.load(file)\n",
    "    \n",
    "    print(\"\\nData loaded successfully!\")\n",
    "    print(f\"University: {loaded_data['university']}\")\n",
    "    print(f\"Number of students: {len(loaded_data['students'])}\")\n",
    "\n",
    "except FileNotFoundError:\n",
    "    print(\"JSON file not found. Please check the file path.\")\n",
    "except json.JSONDecodeError as e:\n",
    "    print(f\"Error parsing JSON: {e}\")"
   ]
  },
  {
   "cell_type": "markdown",
   "id": "56e0f285",
   "metadata": {},
   "source": [
    "## Practical Application: Configuration Manager\n",
    "\n",
    "JSON files are commonly used for application configuration. This example shows a simple configuration manager."
   ]
  },
  {
   "cell_type": "code",
   "execution_count": null,
   "id": "61d9ba3c",
   "metadata": {},
   "outputs": [],
   "source": [
    "import json\n",
    "\n",
    "def get_config(config_file=\"app_config.json\"):\n",
    "    \"\"\"Loads configuration from a JSON file.\"\"\"\n",
    "    try:\n",
    "        with open(config_file, \"r\") as f:\n",
    "            return json.load(f)\n",
    "    except FileNotFoundError:\n",
    "        print(f\"Config file '{config_file}' not found. Returning default config.\")\n",
    "        # Default configuration\n",
    "        return {\n",
    "            \"app_name\": \"My Awesome App\",\n",
    "            \"version\": \"1.0\",\n",
    "            \"database\": {\n",
    "                \"host\": \"localhost\",\n",
    "                \"port\": 5432\n",
    "            },\n",
    "            \"debug_mode\": False\n",
    "        }\n",
    "\n",
    "# Load configuration\n",
    "config = get_config()\n",
    "\n",
    "# Use configuration settings in the application\n",
    "print(f\"\\nRunning {config.get('app_name')} v{config.get('version')}\")\n",
    "if config.get('debug_mode', False):\n",
    "    print(\"Debug mode is ON.\")\n",
    "else:\n",
    "    print(\"Debug mode is OFF.\")\n",
    "\n",
    "print(f\"Connecting to database at {config.get('database', {}).get('host')}\")"
   ]
  },
  {
   "cell_type": "markdown",
   "id": "f3549934",
   "metadata": {},
   "source": [
    "## Handling Special Data Types\n",
    "\n",
    "JSON does not natively support types like Python's `datetime` or `Decimal`. To handle these, you can create a custom encoder."
   ]
  },
  {
   "cell_type": "code",
   "execution_count": null,
   "id": "4ad9990c",
   "metadata": {},
   "outputs": [],
   "source": [
    "import json\n",
    "from datetime import datetime, date\n",
    "\n",
    "class CustomJSONEncoder(json.JSONEncoder):\n",
    "    \"\"\"Custom JSON encoder to handle datetime objects.\"\"\"\n",
    "    def default(self, obj):\n",
    "        if isinstance(obj, (datetime, date)):\n",
    "            return obj.isoformat() # Convert datetime to ISO 8601 string\n",
    "        return super().default(obj)\n",
    "\n",
    "data_with_dates = {\n",
    "    \"event\": \"Conference 2024\",\n",
    "    \"start_date\": datetime(2024, 10, 15, 9, 0),\n",
    "    \"end_date\": date(2024, 10, 17),\n",
    "}\n",
    "\n",
    "# Use the custom encoder with the `cls` argument\n",
    "json_output = json.dumps(data_with_dates, cls=CustomJSONEncoder, indent=2)\n",
    "\n",
    "print(\"\\n--- JSON with Custom Encoder ---\")\n",
    "print(json_output)"
   ]
  },
  {
   "cell_type": "markdown",
   "id": "f5db576b",
   "metadata": {},
   "source": [
    "---\n",
    "\n",
    "## Exercises\n",
    "\n",
    "### 1. Create and Save a JSON object\n",
    "\n",
    "1.  Create a Python dictionary that represents a simple contact card for a person. It should include keys for `name`, `email`, `phone`, and a list of `hobbies`.\n",
    "2.  Use the `json` module to save this dictionary to a file named `contact.json`. Make sure the output in the file is nicely formatted (pretty-printed).\n",
    "\n",
    "### 2. Load and Access JSON Data\n",
    "\n",
    "1.  Write a Python script that loads the data from the `contact.json` file you created in the previous exercise.\n",
    "2.  After loading the data into a Python dictionary, print a message to the console that says: `\"[Name]'s second hobby is [Hobby].\"` by accessing the appropriate values from the dictionary.\n",
    "\n"
   ]
  }
 ],
 "metadata": {
  "jupytext": {
   "cell_metadata_filter": "-all",
   "main_language": "python",
   "notebook_metadata_filter": "-all"
  }
 },
 "nbformat": 4,
 "nbformat_minor": 5
}
