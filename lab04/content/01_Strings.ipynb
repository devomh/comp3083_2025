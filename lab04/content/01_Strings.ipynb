{
 "cells": [
  {
   "cell_type": "markdown",
   "id": "295a7170",
   "metadata": {},
   "source": [
    "# Strings in Python\n",
    "\n",
    "## Overview\n",
    "\n",
    "Strings are sequences of characters used to represent text data. They are one of the most fundamental data types in Python and essential for processing textual information, user input, and data formatting.\n",
    "\n",
    "## String Creation and Basic Operations\n",
    "\n",
    "### Creating Strings"
   ]
  },
  {
   "cell_type": "code",
   "execution_count": null,
   "id": "4e8ae5b6",
   "metadata": {},
   "outputs": [],
   "source": [
    "# Different ways to create strings\n",
    "single_quotes = 'Hello, World!'\n",
    "double_quotes = \"Hello, World!\"\n",
    "triple_quotes = \"\"\"This is a\n",
    "multi-line string\n",
    "that can span several lines\"\"\"\n",
    "\n",
    "# Empty string\n",
    "empty_string = \"\""
   ]
  },
  {
   "cell_type": "markdown",
   "id": "ea4ea620",
   "metadata": {},
   "source": [
    "### Basic String Operations"
   ]
  },
  {
   "cell_type": "code",
   "execution_count": null,
   "id": "82739393",
   "metadata": {},
   "outputs": [],
   "source": [
    "message = \"Python Programming\"\n",
    "\n",
    "# Length of string\n",
    "print(f\"Length: {len(message)}\")\n",
    "\n",
    "# Concatenation\n",
    "first_name = \"Alice\"\n",
    "last_name = \"Johnson\"\n",
    "full_name = first_name + \" \" + last_name\n",
    "print(full_name)\n",
    "\n",
    "# Repetition\n",
    "separator = \"-\" * 20\n",
    "print(separator)"
   ]
  },
  {
   "cell_type": "markdown",
   "id": "7367620b",
   "metadata": {},
   "source": [
    "## String Indexing and Slicing\n",
    "\n",
    "### Indexing"
   ]
  },
  {
   "cell_type": "code",
   "execution_count": null,
   "id": "7fdbe627",
   "metadata": {},
   "outputs": [],
   "source": [
    "text = \"Python\"\n",
    "\n",
    "# Positive indexing (starts from 0)\n",
    "print(text[0])\n",
    "print(text[1])\n",
    "print(text[5])\n",
    "\n",
    "# Negative indexing (starts from -1)\n",
    "print(text[-1])\n",
    "print(text[-2])"
   ]
  },
  {
   "cell_type": "markdown",
   "id": "06cc0fe4",
   "metadata": {},
   "source": [
    "### Slicing"
   ]
  },
  {
   "cell_type": "code",
   "execution_count": null,
   "id": "68d1e3ba",
   "metadata": {},
   "outputs": [],
   "source": [
    "sentence = \"Python programming is fun\"\n",
    "\n",
    "# Basic slicing [start:end]\n",
    "print(sentence[0:6])\n",
    "print(sentence[7:18])\n",
    "print(sentence[19:])\n",
    "\n",
    "# Advanced slicing [start:end:step]\n",
    "print(sentence[::2])\n",
    "print(sentence[::-1])"
   ]
  },
  {
   "cell_type": "markdown",
   "id": "2c082084",
   "metadata": {},
   "source": [
    "## Essential String Methods\n",
    "\n",
    "### Case Conversion"
   ]
  },
  {
   "cell_type": "code",
   "execution_count": null,
   "id": "f47b7174",
   "metadata": {},
   "outputs": [],
   "source": [
    "text = \"Hello World\"\n",
    "\n",
    "print(text.upper())\n",
    "print(text.lower())\n",
    "print(text.capitalize())\n",
    "print(text.title())\n",
    "print(text.swapcase())"
   ]
  },
  {
   "cell_type": "markdown",
   "id": "b587da51",
   "metadata": {},
   "source": [
    "### String Cleaning"
   ]
  },
  {
   "cell_type": "code",
   "execution_count": null,
   "id": "402b6e1b",
   "metadata": {},
   "outputs": [],
   "source": [
    "messy_text = \"  Hello, World!  \\n\"\n",
    "\n",
    "print(f\"Original: '{messy_text}'\")\n",
    "print(f\"Stripped: '{messy_text.strip()}'\")\n",
    "print(f\"Left-stripped: '{messy_text.lstrip()}'\")\n",
    "print(f\"Right-stripped: '{messy_text.rstrip()}'\")\n",
    "\n",
    "# Remove specific characters\n",
    "text_with_punctuation = \"Hello, World!!!\"\n",
    "print(f\"Stripped '!!!': '{text_with_punctuation.strip('!')}'\")"
   ]
  },
  {
   "cell_type": "markdown",
   "id": "b77c0ad9",
   "metadata": {},
   "source": [
    "### String Searching and Testing"
   ]
  },
  {
   "cell_type": "code",
   "execution_count": null,
   "id": "0274c785",
   "metadata": {},
   "outputs": [],
   "source": [
    "email = \"alice@university.edu\"\n",
    "\n",
    "# Search methods\n",
    "print(f\"Index of '@': {email.find('@')}\")\n",
    "print(f\"Count of 'e': {email.count('e')}\")\n",
    "print(f\"Starts with 'alice': {email.startswith('alice')}\")\n",
    "print(f\"Ends with '.edu': {email.endswith('.edu')}\")\n",
    "\n",
    "# Testing methods\n",
    "print(f\"Is alphabetic? {'hello'.isalpha()}\")\n",
    "print(f\"Is numeric? {'12345'.isdigit()}\")\n",
    "print(f\"Is alphanumeric? {'Hello123'.isalnum()}\")"
   ]
  },
  {
   "cell_type": "markdown",
   "id": "ea1f50f1",
   "metadata": {},
   "source": [
    "### String Splitting and Joining"
   ]
  },
  {
   "cell_type": "code",
   "execution_count": null,
   "id": "cc209a99",
   "metadata": {},
   "outputs": [],
   "source": [
    "# Splitting strings\n",
    "sentence = \"Python is awesome and powerful\"\n",
    "words = sentence.split()\n",
    "print(f\"Words: {words}\")\n",
    "\n",
    "csv_data = \"apple,banana,cherry,date\"\n",
    "fruits = csv_data.split(\",\")\n",
    "print(f\"Fruits: {fruits}\")\n",
    "\n",
    "# Joining strings\n",
    "word_list = [\"Python\", \"is\", \"great\"]\n",
    "joined = \" \".join(word_list)\n",
    "print(f\"Joined sentence: '{joined}'\")"
   ]
  },
  {
   "cell_type": "markdown",
   "id": "c58d8653",
   "metadata": {},
   "source": [
    "### String Replacement"
   ]
  },
  {
   "cell_type": "code",
   "execution_count": null,
   "id": "7aaba43a",
   "metadata": {},
   "outputs": [],
   "source": [
    "text = \"I love Java programming\"\n",
    "\n",
    "# Replace all occurrences\n",
    "new_text = text.replace(\"Java\", \"Python\")\n",
    "print(new_text)\n",
    "\n",
    "# Replace with limit\n",
    "text_with_multiple = \"ha ha ha ha\"\n",
    "limited_replace = text_with_multiple.replace(\"ha\", \"ho\", 2)\n",
    "print(limited_replace)"
   ]
  },
  {
   "cell_type": "markdown",
   "id": "e9498d25",
   "metadata": {},
   "source": [
    "## String Formatting\n",
    "\n",
    "### F-strings (Recommended - Python 3.6+)"
   ]
  },
  {
   "cell_type": "code",
   "execution_count": null,
   "id": "4b9d4ad4",
   "metadata": {},
   "outputs": [],
   "source": [
    "name = \"Alice\"\n",
    "age = 25\n",
    "gpa = 3.847\n",
    "\n",
    "# Basic f-string formatting\n",
    "message = f\"Hello, {name}! You are {age} years old.\"\n",
    "print(message)\n",
    "\n",
    "# Number formatting\n",
    "formatted_gpa = f\"Your GPA is {gpa:.2f}\"\n",
    "print(formatted_gpa)\n",
    "\n",
    "# Advanced formatting\n",
    "width = 10\n",
    "print(f\"Right aligned: '{name:>{width}}'\")\n",
    "print(f\"Left aligned: '{name:<{width}}'\")\n",
    "print(f\"Center aligned: '{name:^{width}}'\")"
   ]
  },
  {
   "cell_type": "markdown",
   "id": "70d6a450",
   "metadata": {},
   "source": [
    "### Format Method"
   ]
  },
  {
   "cell_type": "code",
   "execution_count": null,
   "id": "bb8fa72f",
   "metadata": {},
   "outputs": [],
   "source": [
    "# Using .format() method\n",
    "template = \"Hello, {}! You scored {:.1f}%\"\n",
    "result = template.format(\"Bob\", 87.5)\n",
    "print(result)\n",
    "\n",
    "# Named placeholders\n",
    "template = \"Hello, {name}! You scored {score:.1f}%\"\n",
    "result = template.format(name=\"Charlie\", score=92.3)\n",
    "print(result)"
   ]
  },
  {
   "cell_type": "markdown",
   "id": "67be64de",
   "metadata": {},
   "source": [
    "## Advanced Practical Examples\n",
    "\n",
    "These examples integrate multiple string concepts to solve practical problems.\n",
    "\n",
    "### Example 1: Email Processor\n",
    "\n",
    "This example parses an email address into its components (username, domain, TLD) and performs basic validation."
   ]
  },
  {
   "cell_type": "code",
   "execution_count": null,
   "id": "102caaf2",
   "metadata": {},
   "outputs": [],
   "source": [
    "def parse_email(email):\n",
    "    \"\"\"Parse email address into components if valid.\"\"\"\n",
    "    if \"@\" not in email or email.count('@') != 1:\n",
    "        return None\n",
    "    \n",
    "    username, domain_part = email.split(\"@\", 1)\n",
    "    \n",
    "    if \".\" not in domain_part:\n",
    "        return None\n",
    "    \n",
    "    domain_parts = domain_part.split(\".\")\n",
    "    domain = \".\".join(domain_parts[:-1])\n",
    "    tld = domain_parts[-1]\n",
    "    \n",
    "    # Basic validation checks\n",
    "    if not username or not domain or not tld:\n",
    "        return None\n",
    "        \n",
    "    return {\n",
    "        \"username\": username,\n",
    "        \"domain\": domain,\n",
    "        \"tld\": tld,\n",
    "    }\n",
    "\n",
    "# Test emails\n",
    "test_emails = [\n",
    "    \"alice@university.edu\",\n",
    "    \"bob.smith@company.com\",\n",
    "    \"invalid-email\",\n",
    "    \"user@domain\",\n",
    "    \"test@site.xyz\"\n",
    "]\n",
    "\n",
    "print(\"\\n--- Email Analysis ---\")\n",
    "for email in test_emails:\n",
    "    parsed = parse_email(email)\n",
    "    print(f\"\\nEmail: {email}\")\n",
    "    if parsed:\n",
    "        print(f\"  Username: {parsed['username']}\")\n",
    "        print(f\"  Domain:   {parsed['domain']}\")\n",
    "        print(f\"  TLD:      {parsed['tld']}\")\n",
    "    else:\n",
    "        print(\"  Result: Invalid email format\")"
   ]
  },
  {
   "cell_type": "markdown",
   "id": "2b032252",
   "metadata": {},
   "source": [
    "### Example 2: Password Validator\n",
    "\n",
    "This example checks a password for several requirements to determine its strength."
   ]
  },
  {
   "cell_type": "code",
   "execution_count": null,
   "id": "c6477d45",
   "metadata": {},
   "outputs": [],
   "source": [
    "def validate_password(password):\n",
    "    \"\"\"Validate password strength based on a set of rules.\"\"\"\n",
    "    requirements = []\n",
    "    score = 0\n",
    "    \n",
    "    # Check length\n",
    "    if len(password) >= 8:\n",
    "        score += 1\n",
    "        requirements.append(\"✓ At least 8 characters\")\n",
    "    else:\n",
    "        requirements.append(\"✗ At least 8 characters\")\n",
    "    \n",
    "    # Check for uppercase\n",
    "    if any(c.isupper() for c in password):\n",
    "        score += 1\n",
    "        requirements.append(\"✓ Contains uppercase letter\")\n",
    "    else:\n",
    "        requirements.append(\"✗ Contains uppercase letter\")\n",
    "    \n",
    "    # Check for lowercase\n",
    "    if any(c.islower() for c in password):\n",
    "        score += 1\n",
    "        requirements.append(\"✓ Contains lowercase letter\")\n",
    "    else:\n",
    "        requirements.append(\"✗ Contains lowercase letter\")\n",
    "    \n",
    "    # Check for digits\n",
    "    if any(c.isdigit() for c in password):\n",
    "        score += 1\n",
    "        requirements.append(\"✓ Contains digit\")\n",
    "    else:\n",
    "        requirements.append(\"✗ Contains digit\")\n",
    "    \n",
    "    # Check for special characters\n",
    "    special_chars = \"!@#$%^&*()_+-=[]{}|;:,.<>?\"\n",
    "    if any(c in special_chars for c in password):\n",
    "        score += 1\n",
    "        requirements.append(\"✓ Contains special character\")\n",
    "    else:\n",
    "        requirements.append(\"✗ Contains special character\")\n",
    "    \n",
    "    # Determine strength\n",
    "    if score >= 4:\n",
    "        strength = \"Strong\"\n",
    "    elif score >= 3:\n",
    "        strength = \"Medium\"\n",
    "    else:\n",
    "        strength = \"Weak\"\n",
    "    \n",
    "    return strength, requirements\n",
    "\n",
    "# Test passwords\n",
    "test_passwords = [\"password\", \"Password123\", \"MySecurePass123!\", \"weak\"]\n",
    "for pwd in test_passwords:\n",
    "    strength, reqs = validate_password(pwd)\n",
    "    print(f\"\\nPassword: '{pwd}'\")\n",
    "    print(f\"Strength: {strength}\")\n",
    "    for req in reqs:\n",
    "        print(f\"  {req}\")"
   ]
  },
  {
   "cell_type": "markdown",
   "id": "8d9a7ca6",
   "metadata": {},
   "source": [
    "## Common Pitfalls and Best Practices\n",
    "\n",
    "### String Immutability\n",
    "\n",
    "Strings are **immutable**, meaning they cannot be changed after creation. Any operation that seems to modify a string actually creates a new one."
   ]
  },
  {
   "cell_type": "code",
   "execution_count": null,
   "id": "c2da4ae7",
   "metadata": {},
   "outputs": [],
   "source": [
    "# This will cause an error!\n",
    "text = \"Hello\"\n",
    "# text[0] = \"h\" # TypeError: 'str' object does not support item assignment\n",
    "\n",
    "# Instead, create a new string\n",
    "text = \"h\" + text[1:]\n",
    "print(text)"
   ]
  },
  {
   "cell_type": "markdown",
   "id": "ca7fc4a7",
   "metadata": {},
   "source": [
    "### Efficient String Building\n",
    "\n",
    "When combining many strings in a loop, using `+` is inefficient because it creates a new string in every iteration. The recommended approach is to append strings to a list and then use `join()`."
   ]
  },
  {
   "cell_type": "code",
   "execution_count": null,
   "id": "d1488123",
   "metadata": {},
   "outputs": [],
   "source": [
    "# Inefficient for many concatenations\n",
    "result = \"\"\n",
    "for i in range(10):\n",
    "    result += str(i)\n",
    "\n",
    "# Efficient approach\n",
    "numbers = []\n",
    "for i in range(10):\n",
    "    numbers.append(str(i))\n",
    "result = \"\".join(numbers)\n",
    "print(f\"Efficiently joined string: {result}\")"
   ]
  },
  {
   "cell_type": "markdown",
   "id": "ce2bd1a9",
   "metadata": {},
   "source": [
    "## Key Takeaways\n",
    "\n",
    "1.  **Strings are immutable**: Operations create new strings rather than modifying existing ones.\n",
    "2.  **F-strings are preferred**: Use them for modern, readable string formatting (Python 3.6+).\n",
    "3.  **Master the methods**: Use built-in methods like `strip()`, `split()`, `replace()`, and `join()` for common tasks.\n",
    "4.  **Be mindful of case sensitivity**: Use `.lower()` or `.upper()` for case-insensitive comparisons.\n",
    "5.  **Build strings efficiently**: Use `join()` for combining many strings.\n",
    "\n",
    "---\n",
    "\n",
    "## Exercises\n",
    "\n",
    "### 1. Whitespace Counter\n",
    "Write a program that reads a string and shows the number of whitespace characters it contains.\n",
    "- **a)** Solve using the `count()` method.\n",
    "- **b)** Solve using string traversal with a `for` loop.\n",
    "\n",
    "### 2. Word Search\n",
    "Write a program that asks for a block of text and then a word to search for. The program should print a message indicating whether the word was found in the text.\n",
    "\n",
    "### 3. Vowel Replacer\n",
    "Write a program that asks for a sentence and returns the same text with all vowels (`a, e, i, o, u`) replaced by an 'x'. Assume the input text is always lowercase.\n",
    "\n",
    "### 4. Binary Validator (Challenge)\n",
    "Write a program that asks for a number in binary format (read as a string) and determines if the input is a valid binary number (i.e., it only contains the characters '0' and '1').\n",
    "\n",
    "```\n",
    "```"
   ]
  }
 ],
 "metadata": {
  "jupytext": {
   "cell_metadata_filter": "-all",
   "main_language": "python",
   "notebook_metadata_filter": "-all"
  }
 },
 "nbformat": 4,
 "nbformat_minor": 5
}
