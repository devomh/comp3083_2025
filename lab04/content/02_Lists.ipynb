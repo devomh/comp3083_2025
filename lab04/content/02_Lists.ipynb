{
 "cells": [
  {
   "cell_type": "markdown",
   "id": "72d6b6f1",
   "metadata": {},
   "source": [
    "# Lists in Python\n",
    "\n",
    "## Overview\n",
    "\n",
    "Lists are ordered, mutable collections that can store multiple items. They are one of the most versatile data structures in Python, allowing you to store different data types, modify contents, and perform various operations on collections of data.\n",
    "\n",
    "## List Creation and Basic Operations\n",
    "\n",
    "### Creating Lists"
   ]
  },
  {
   "cell_type": "code",
   "execution_count": null,
   "id": "530a52c6",
   "metadata": {},
   "outputs": [],
   "source": [
    "# Different ways to create lists\n",
    "numbers = [1, 2, 3, 4, 5]\n",
    "mixed_list = [\"apple\", 42, True, 3.14]\n",
    "empty_list = []\n",
    "nested_list = [[1, 2], [3, 4], [5, 6]]\n",
    "\n",
    "# Using list() constructor\n",
    "from_string = list(\"Hello\")\n",
    "print(f\"From string: {from_string}\")\n",
    "\n",
    "from_range = list(range(1, 6))\n",
    "print(f\"From range: {from_range}\")\n",
    "\n",
    "# List with repeated values\n",
    "zeros = [0] * 5\n",
    "print(f\"Zeros: {zeros}\")"
   ]
  },
  {
   "cell_type": "markdown",
   "id": "fbe2637c",
   "metadata": {},
   "source": [
    "### Basic List Properties"
   ]
  },
  {
   "cell_type": "code",
   "execution_count": null,
   "id": "2d145b1a",
   "metadata": {},
   "outputs": [],
   "source": [
    "fruits = [\"apple\", \"banana\", \"cherry\", \"date\"]\n",
    "\n",
    "# Length of list\n",
    "print(f\"Length: {len(fruits)}\")\n",
    "\n",
    "# Check if item exists\n",
    "print(f\"'apple' in fruits: {\"apple\" in fruits}\")\n",
    "print(f\"'orange' in fruits: {\"orange\" in fruits}\")\n",
    "\n",
    "# List concatenation\n",
    "more_fruits = [\"elderberry\", \"fig\"]\n",
    "all_fruits = fruits + more_fruits\n",
    "print(f\"All fruits: {all_fruits}\")"
   ]
  },
  {
   "cell_type": "markdown",
   "id": "45d093c8",
   "metadata": {},
   "source": [
    "## List Indexing and Slicing\n",
    "\n",
    "### Indexing"
   ]
  },
  {
   "cell_type": "code",
   "execution_count": null,
   "id": "8418fd7c",
   "metadata": {},
   "outputs": [],
   "source": [
    "colors = [\"red\", \"green\", \"blue\", \"yellow\", \"orange\"]\n",
    "\n",
    "# Positive indexing\n",
    "print(f\"First color: {colors[0]}\")\n",
    "print(f\"Third color: {colors[2]}\")\n",
    "\n",
    "# Negative indexing\n",
    "print(f\"Last color: {colors[-1]}\")\n",
    "print(f\"Second to last: {colors[-2]}\")"
   ]
  },
  {
   "cell_type": "markdown",
   "id": "1ce25e69",
   "metadata": {},
   "source": [
    "### Slicing"
   ]
  },
  {
   "cell_type": "code",
   "execution_count": null,
   "id": "2a38b83d",
   "metadata": {},
   "outputs": [],
   "source": [
    "numbers = [0, 1, 2, 3, 4, 5, 6, 7, 8, 9]\n",
    "\n",
    "# Basic slicing [start:end]\n",
    "print(f\"Slice [2:6]: {numbers[2:6]}\")\n",
    "print(f\"Slice [:4]: {numbers[:4]}\")\n",
    "print(f\"Slice [6:]: {numbers[6:]}\")\n",
    "\n",
    "# Slicing with step [start:end:step]\n",
    "print(f\"Every 2nd element: {numbers[::2]}\")\n",
    "print(f\"Reversed list: {numbers[::-1]}\")"
   ]
  },
  {
   "cell_type": "markdown",
   "id": "2498500f",
   "metadata": {},
   "source": [
    "## List Methods and Modification\n",
    "\n",
    "### Adding Elements"
   ]
  },
  {
   "cell_type": "code",
   "execution_count": null,
   "id": "869a075c",
   "metadata": {},
   "outputs": [],
   "source": [
    "fruits = [\"apple\", \"banana\"]\n",
    "print(f\"Initial: {fruits}\")\n",
    "\n",
    "# Add single element to end\n",
    "fruits.append(\"cherry\")\n",
    "print(f\"Appended: {fruits}\")\n",
    "\n",
    "# Insert element at specific position\n",
    "fruits.insert(1, \"apricot\")\n",
    "print(f\"Inserted: {fruits}\")\n",
    "\n",
    "# Add multiple elements\n",
    "fruits.extend([\"date\", \"elderberry\"])\n",
    "print(f\"Extended: {fruits}\")"
   ]
  },
  {
   "cell_type": "markdown",
   "id": "6ec3a6bb",
   "metadata": {},
   "source": [
    "### Removing Elements"
   ]
  },
  {
   "cell_type": "code",
   "execution_count": null,
   "id": "b7a52763",
   "metadata": {},
   "outputs": [],
   "source": [
    "numbers = [1, 2, 3, 2, 4, 5, 2]\n",
    "print(f\"Initial: {numbers}\")\n",
    "\n",
    "# Remove first occurrence of value\n",
    "numbers.remove(2)\n",
    "print(f\"Removed 2: {numbers}\")\n",
    "\n",
    "# Remove and return element at index\n",
    "removed_item = numbers.pop(0)\n",
    "print(f\"Popped index 0: {numbers} (removed: {removed_item})\")\n",
    "\n",
    "# Remove and return last element\n",
    "last_item = numbers.pop()\n",
    "print(f\"Popped last: {numbers} (removed: {last_item})\")\n",
    "\n",
    "# Clear all elements\n",
    "numbers.clear()\n",
    "print(f\"Cleared: {numbers}\")"
   ]
  },
  {
   "cell_type": "markdown",
   "id": "e60d04b6",
   "metadata": {},
   "source": [
    "## List Methods for Organization\n",
    "\n",
    "### Sorting and Reversing"
   ]
  },
  {
   "cell_type": "code",
   "execution_count": null,
   "id": "3990e16f",
   "metadata": {},
   "outputs": [],
   "source": [
    "numbers = [3, 1, 4, 1, 5, 9, 2, 6]\n",
    "names = [\"Alice\", \"Charlie\", \"Bob\", \"Diana\"]\n",
    "\n",
    "# Sort in place (modifies original list)\n",
    "print(f\"Original numbers: {numbers}\")\n",
    "numbers.sort()\n",
    "print(f\"Sorted numbers: {numbers}\")\n",
    "\n",
    "# Sort in descending order\n",
    "numbers.sort(reverse=True)\n",
    "print(f\"Reverse sorted: {numbers}\")\n",
    "\n",
    "# Create sorted copy (doesn\\'t modify original)\n",
    "original = [3, 1, 4, 1, 5]\n",
    "sorted_copy = sorted(original)\n",
    "print(f\"Original list: {original}\")\n",
    "print(f\"Sorted copy: {sorted_copy}\")"
   ]
  },
  {
   "cell_type": "markdown",
   "id": "85deae0d",
   "metadata": {},
   "source": [
    "### Counting and Finding"
   ]
  },
  {
   "cell_type": "code",
   "execution_count": null,
   "id": "fcb6cd14",
   "metadata": {},
   "outputs": [],
   "source": [
    "letters = ['a', 'b', 'a', 'c', 'a', 'b']\n",
    "\n",
    "# Count occurrences\n",
    "print(f\"Count of 'a': {letters.count('a')}\")\n",
    "\n",
    "# Find index of first occurrence\n",
    "print(f\"Index of 'b': {letters.index('b')}\")\n",
    "\n",
    "# Find index with start parameter\n",
    "print(f\"Index of 'a' after index 1: {letters.index('a', 1)}\")"
   ]
  },
  {
   "cell_type": "markdown",
   "id": "8ba9807e",
   "metadata": {},
   "source": [
    "## List Comprehensions\n",
    "\n",
    "List comprehensions provide a concise way to create lists. They are often more readable and performant than using explicit `for` loops.\n",
    "\n",
    "### Basic List Comprehensions"
   ]
  },
  {
   "cell_type": "code",
   "execution_count": null,
   "id": "bf0aa801",
   "metadata": {},
   "outputs": [],
   "source": [
    "# Traditional approach\n",
    "squares = []\n",
    "for x in range(1, 6):\n",
    "    squares.append(x ** 2)\n",
    "\n",
    "# List comprehension approach\n",
    "squares_comp = [x ** 2 for x in range(1, 6)]\n",
    "\n",
    "print(f\"Squares (loop): {squares}\")\n",
    "print(f\"Squares (comprehension): {squares_comp}\")"
   ]
  },
  {
   "cell_type": "markdown",
   "id": "e21fb9a8",
   "metadata": {},
   "source": [
    "### List Comprehensions with Conditions"
   ]
  },
  {
   "cell_type": "code",
   "execution_count": null,
   "id": "8546531f",
   "metadata": {},
   "outputs": [],
   "source": [
    "numbers = [1, 2, 3, 4, 5, 6, 7, 8, 9, 10]\n",
    "\n",
    "# Filter even numbers\n",
    "even_numbers = [x for x in numbers if x % 2 == 0]\n",
    "print(f\"Even numbers: {even_numbers}\")\n",
    "\n",
    "# Square even numbers only\n",
    "even_squares = [x ** 2 for x in numbers if x % 2 == 0]\n",
    "print(f\"Squares of evens: {even_squares}\")"
   ]
  },
  {
   "cell_type": "markdown",
   "id": "d59b2d2b",
   "metadata": {},
   "source": [
    "## Reading Lists from User Input\n",
    "\n",
    "A common task is to read a list of items from a user.\n",
    "\n",
    "### Reading a list element by element"
   ]
  },
  {
   "cell_type": "code",
   "execution_count": null,
   "id": "15e1a1b9",
   "metadata": {},
   "outputs": [],
   "source": [
    "# This example requires user input. \n",
    "# You can run it in a Python environment.\n",
    "\n",
    "# n = int(input('Cantidad de elementos: '))\n",
    "# resultado = []\n",
    "# for i in range(n):\n",
    "#     elemento = int(input('Valor: '))\n",
    "#     resultado.append(elemento)\n",
    "# print(resultado)"
   ]
  },
  {
   "cell_type": "markdown",
   "id": "5d6405b3",
   "metadata": {},
   "source": [
    "### Reading a list from a single line of input\n",
    "\n",
    "This is a more common and efficient method using `split()`."
   ]
  },
  {
   "cell_type": "code",
   "execution_count": null,
   "id": "889576af",
   "metadata": {},
   "outputs": [],
   "source": [
    "# This example requires user input. \n",
    "# You can run it in a Python environment.\n",
    "\n",
    "# cadena = input('Ingrese las notas separadas por comas: ')\n",
    "# # The split() method creates a list of strings\n",
    "# notas_str = cadena.split(',')\n",
    "# # We can use a list comprehension to convert them to numbers\n",
    "# resultado = [int(e) for e in notas_str]\n",
    "# print(resultado)"
   ]
  },
  {
   "cell_type": "markdown",
   "id": "b7d35b37",
   "metadata": {},
   "source": [
    "## Advanced Practical Examples\n",
    "\n",
    "### Example 1: Grade Management System\n",
    "\n",
    "This example uses a list of dictionaries to manage student data, calculates averages, and ranks students."
   ]
  },
  {
   "cell_type": "code",
   "execution_count": null,
   "id": "df551709",
   "metadata": {},
   "outputs": [],
   "source": [
    "students = [\n",
    "    {\"name\": \"Alice\", \"grades\": [85, 92, 78, 90]},\n",
    "    {\"name\": \"Bob\", \"grades\": [91, 88, 95, 87]},\n",
    "    {\"name\": \"Charlie\", \"grades\": [76, 82, 79, 85]},\n",
    "    {\"name\": \"Diana\", \"grades\": [94, 89, 97, 92]}\n",
    "]\n",
    "\n",
    "# Calculate averages and add to each student dictionary\n",
    "for student in students:\n",
    "    avg = sum(student[\"grades\"]) / len(student[\"grades\"])\n",
    "    student[\"average\"] = round(avg, 1)\n",
    "\n",
    "# Sort students by average grade (highest first)\n",
    "# The `key` argument takes a function that returns the value to sort by\n",
    "students.sort(key=lambda s: s[\"average\"], reverse=True)\n",
    "\n",
    "print(\"--- Student Rankings ---\")\n",
    "for i, student in enumerate(students, 1):\n",
    "    print(f\"{i}. {student['name']}: {student['average']} avg\")\n",
    "\n",
    "# Find students who are above the class average\n",
    "class_avg = sum(s[\"average\"] for s in students) / len(students)\n",
    "above_avg_students = [s[\"name\"] for s in students if s[\"average\"] > class_avg]\n",
    "\n",
    "print(f\"\\nClass average: {class_avg:.1f}\")\n",
    "print(f\"Students above average: {above_avg_students}\")"
   ]
  },
  {
   "cell_type": "markdown",
   "id": "4d5460e0",
   "metadata": {},
   "source": [
    "### Example 2: Inventory Management\n",
    "\n",
    "This example uses a list of dictionaries to represent an inventory, calculates total value, and identifies items that need restocking."
   ]
  },
  {
   "cell_type": "code",
   "execution_count": null,
   "id": "695fed48",
   "metadata": {},
   "outputs": [],
   "source": [
    "inventory = [\n",
    "    {\"item\": \"Laptops\", \"quantity\": 15, \"price\": 999.99},\n",
    "    {\"item\": \"Mice\", \"quantity\": 50, \"price\": 25.99},\n",
    "    {\"item\": \"Keyboards\", \"quantity\": 30, \"price\": 79.99},\n",
    "    {\"item\": \"Monitors\", \"quantity\": 8, \"price\": 299.99}\n",
    "]\n",
    "\n",
    "# Calculate total inventory value using a list comprehension and sum()\n",
    "total_value = sum(item[\"quantity\"] * item[\"price\"] for item in inventory)\n",
    "\n",
    "# Find low stock items (quantity < 20)\n",
    "low_stock_items = [item[\"item\"] for item in inventory if item[\"quantity\"] < 20]\n",
    "\n",
    "# Find the most expensive item\n",
    "most_expensive = sorted(inventory, key=lambda x: x[\"price\"], reverse=True)[0]\n",
    "\n",
    "print(\"\\n--- Inventory Report ---\")\n",
    "print(f\"Total inventory value: ${total_value:,.2f}\")\n",
    "print(f\"Low stock items to reorder: {low_stock_items}\")\n",
    "print(f\"Most expensive item: {most_expensive['item']} (${most_expensive['price']:.2f})\")"
   ]
  },
  {
   "cell_type": "markdown",
   "id": "4827fd1a",
   "metadata": {},
   "source": [
    "## Common Pitfalls and Best Practices\n",
    "\n",
    "### List Copying\n",
    "-   Assigning a list to a new variable (`new_list = old_list`) does **not** create a copy. It creates a reference. Both variables point to the same list.\n",
    "-   To create a true copy (a \"shallow copy\"), use `old_list.copy()` or `old_list[:]`.\n",
    "-   For lists containing other lists (nested lists), you need a \"deep copy\" to copy everything. Use `import copy; new_list = copy.deepcopy(old_list)`."
   ]
  },
  {
   "cell_type": "code",
   "execution_count": null,
   "id": "c5e8d300",
   "metadata": {},
   "outputs": [],
   "source": [
    "# Shallow copy vs deep copy\n",
    "import copy\n",
    "\n",
    "original = [[1, 2], [3, 4]]\n",
    "\n",
    "# Shallow copy\n",
    "shallow_copy = original.copy()\n",
    "shallow_copy[0][0] = 99\n",
    "print(f\"Original after shallow copy mod: {original}\") # Original is modified!\n",
    "\n",
    "# Deep copy\n",
    "original = [[1, 2], [3, 4]] # Reset original\n",
    "deep_copy = copy.deepcopy(original)\n",
    "deep_copy[0][0] = 99\n",
    "print(f\"Original after deep copy mod:  {original}\") # Original is NOT modified"
   ]
  },
  {
   "cell_type": "markdown",
   "id": "922344ba",
   "metadata": {},
   "source": [
    "### Modifying Lists During Iteration\n",
    "Avoid removing items from a list while you are looping over it. This can lead to skipping items or other unexpected behavior. The best practice is to loop over a *copy* of the list or create a new list with a list comprehension."
   ]
  },
  {
   "cell_type": "code",
   "execution_count": null,
   "id": "95826c0d",
   "metadata": {},
   "outputs": [],
   "source": [
    "# Problematic approach\n",
    "# numbers = [1, 2, 3, 4, 5, 6]\n",
    "# for num in numbers:\n",
    "#     if num % 2 == 0:\n",
    "#         numbers.remove(num) # This will not work as expected!\n",
    "\n",
    "# Better approach: use a list comprehension\n",
    "numbers = [1, 2, 3, 4, 5, 6]\n",
    "filtered_numbers = [num for num in numbers if num % 2 != 0]\n",
    "print(f\"Correctly filtered numbers: {filtered_numbers}\")"
   ]
  },
  {
   "cell_type": "markdown",
   "id": "9cb3f99b",
   "metadata": {},
   "source": [
    "---\n",
    "\n",
    "## Exercises\n",
    "\n",
    "### 1. List Comprehension Analysis\n",
    "Determine the result of the following list comprehensions. Try to predict the output before running the code."
   ]
  },
  {
   "cell_type": "code",
   "execution_count": null,
   "id": "2a5b4954",
   "metadata": {},
   "outputs": [],
   "source": [
    "# Exercise 1a\n",
    "edades = [45, 33, 55, 30, 25, 33, 25, 40]\n",
    "mayoria = [e-21 for e in edades]\n",
    "print(f\"Result of 1a: {mayoria}\")\n",
    "\n",
    "# Exercise 1b\n",
    "seleccionados = [e for e in edades if e%2==0]\n",
    "print(f\"Result of 1b: {seleccionados}\")\n",
    "\n",
    "# Exercise 1c\n",
    "cadena = 'A, B; C: D.'\n",
    "punt = ['.', ',', ':', ';']\n",
    "resultado = [c for c in cadena if c not in punt and c != ' ']\n",
    "print(f\"Result of 1c: {resultado}\")"
   ]
  },
  {
   "cell_type": "markdown",
   "id": "4e88e007",
   "metadata": {},
   "source": [
    "### 2. List Comprehension Construction\n",
    "Build the following lists using a single list comprehension for each."
   ]
  },
  {
   "cell_type": "code",
   "execution_count": null,
   "id": "46ab5e1f",
   "metadata": {},
   "outputs": [],
   "source": [
    "# Exercise 2a: Find all integers divisible by 11 between 0 and 500.\n",
    "divisible_by_11 = [i for i in range(501) if i % 11 == 0]\n",
    "print(f\"Divisible by 11: {divisible_by_11}\")\n",
    "\n",
    "# Exercise 2b: Find all integers between 1 and 100 that contain the digit '3'.\n",
    "contains_digit_3 = [i for i in range(1, 101) if '3' in str(i)]\n",
    "print(f\"Contains digit 3: {contains_digit_3}\")\n",
    "\n",
    "# Exercise 2c: Calculate the current ages based on a list of birth years.\n",
    "from datetime import date\n",
    "nacimientos = [1985, 1992, 2000, 1995, 1990, 2005, 1998]\n",
    "current_year = date.today().year\n",
    "current_ages = [current_year - year for year in nacimientos]\n",
    "print(f\"Current ages: {current_ages}\")"
   ]
  }
 ],
 "metadata": {
  "jupytext": {
   "cell_metadata_filter": "-all",
   "main_language": "python",
   "notebook_metadata_filter": "-all"
  }
 },
 "nbformat": 4,
 "nbformat_minor": 5
}
