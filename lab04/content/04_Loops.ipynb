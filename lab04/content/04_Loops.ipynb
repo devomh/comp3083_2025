{
 "cells": [
  {
   "cell_type": "markdown",
   "id": "6f5200bf",
   "metadata": {},
   "source": [
    "# Loops in Python\n",
    "\n",
    "## Overview\n",
    "\n",
    "Loops are control structures that allow you to execute a block of code repeatedly. Python provides two main types of loops: `for` loops (for iterating over sequences) and `while` loops (for repeating based on a condition). Mastering loops is essential for processing data, automating repetitive tasks, and implementing algorithms.\n",
    "\n",
    "## For Loops\n",
    "\n",
    "`for` loops are used for iterating over a sequence (such as a list, tuple, dictionary, set, or string).\n",
    "\n",
    "### Looping with `range()`\n",
    "\n",
    "The `range()` function generates a sequence of numbers, which is useful for looping a specific number of times."
   ]
  },
  {
   "cell_type": "code",
   "execution_count": null,
   "id": "94556ee1",
   "metadata": {},
   "outputs": [],
   "source": [
    "# Loop 5 times, with index from 0 to 4\n",
    "for i in range(5):\n",
    "    print(f\"Count: {i}\")\n",
    "\n",
    "# Loop from 2 up to (but not including) 8\n",
    "for i in range(2, 8):\n",
    "    print(f\"Number: {i}\")\n",
    "\n",
    "# Loop from 0 to 10, with a step of 2\n",
    "for i in range(0, 10, 2):\n",
    "    print(f\"Even: {i}\")"
   ]
  },
  {
   "cell_type": "markdown",
   "id": "a34cc9c3",
   "metadata": {},
   "source": [
    "### Looping over Sequences"
   ]
  },
  {
   "cell_type": "code",
   "execution_count": null,
   "id": "09d25a1b",
   "metadata": {},
   "outputs": [],
   "source": [
    "# Looping over a list\n",
    "fruits = [\"apple\", \"banana\", \"cherry\"]\n",
    "for fruit in fruits:\n",
    "    print(f\"I like {fruit}\")\n",
    "\n",
    "# Looping over a string\n",
    "for letter in \"Python\":\n",
    "    print(f\"Letter: {letter}\")"
   ]
  },
  {
   "cell_type": "markdown",
   "id": "28a7409f",
   "metadata": {},
   "source": [
    "### `enumerate()` for Index and Value\n",
    "\n",
    "When you need both the index and the value from a sequence, use `enumerate()`."
   ]
  },
  {
   "cell_type": "code",
   "execution_count": null,
   "id": "f392e8e7",
   "metadata": {},
   "outputs": [],
   "source": [
    "colors = [\"red\", \"green\", \"blue\"]\n",
    "for index, color in enumerate(colors):\n",
    "    print(f\"Color {index}: {color}\")"
   ]
  },
  {
   "cell_type": "markdown",
   "id": "8cf2ab8f",
   "metadata": {},
   "source": [
    "### Looping Through Dictionaries"
   ]
  },
  {
   "cell_type": "code",
   "execution_count": null,
   "id": "691b8244",
   "metadata": {},
   "outputs": [],
   "source": [
    "student_grades = {\"Alice\": 95, \"Bob\": 87, \"Charlie\": 92}\n",
    "\n",
    "# Loop through key-value pairs\n",
    "for student, grade in student_grades.items():\n",
    "    print(f\"{student} scored {grade}\")"
   ]
  },
  {
   "cell_type": "markdown",
   "id": "31067eb8",
   "metadata": {},
   "source": [
    "### Nested For Loops\n",
    "\n",
    "A loop can be nested inside another loop. This is useful for working with nested data structures like a list of lists (a matrix)."
   ]
  },
  {
   "cell_type": "code",
   "execution_count": null,
   "id": "3e75ab4e",
   "metadata": {},
   "outputs": [],
   "source": [
    "matrix = [\n",
    "    [1, 2, 3],\n",
    "    [4, 5, 6], \n",
    "    [7, 8, 9]\n",
    "]\n",
    "\n",
    "for row in matrix:\n",
    "    for item in row:\n",
    "        print(item, end=\" \") # Print items in the same line\n",
    "    print() # Move to the next line after each row"
   ]
  },
  {
   "cell_type": "markdown",
   "id": "cf2d162c",
   "metadata": {},
   "source": [
    "## While Loops\n",
    "\n",
    "`while` loops repeat as long as a certain condition is true.\n",
    "\n",
    "### Basic While Loop Structure"
   ]
  },
  {
   "cell_type": "code",
   "execution_count": null,
   "id": "625f123d",
   "metadata": {},
   "outputs": [],
   "source": [
    "count = 0\n",
    "while count < 5:\n",
    "    print(f\"Count is: {count}\")\n",
    "    count += 1  # Important: update the condition variable to prevent an infinite loop!\n",
    "\n",
    "print(\"Loop finished\")"
   ]
  },
  {
   "cell_type": "markdown",
   "id": "f921fa86",
   "metadata": {},
   "source": [
    "### Input Validation Loop\n",
    "\n",
    "A `while` loop is ideal for repeatedly asking for user input until it meets a certain condition."
   ]
  },
  {
   "cell_type": "code",
   "execution_count": null,
   "id": "c12b690d",
   "metadata": {},
   "outputs": [],
   "source": [
    "# This example requires user input to run.\n",
    "\n",
    "# while True:\n",
    "#     user_input = input(\"Enter a positive number (or 'quit' to exit): \")\n",
    "#     if user_input.lower() == 'quit':\n",
    "#         break\n",
    "#     try:\n",
    "#         number = float(user_input)\n",
    "#         if number > 0:\n",
    "#             print(f\"Thank you! You entered: {number}\")\n",
    "#             break\n",
    "#         else:\n",
    "#             print(\"Please enter a POSITIVE number.\")\n",
    "#     except ValueError:\n",
    "#         print(\"That's not a valid number. Please try again.\")"
   ]
  },
  {
   "cell_type": "markdown",
   "id": "d2d238a8",
   "metadata": {},
   "source": [
    "## Loop Control Statements\n",
    "\n",
    "### `break` Statement\n",
    "\n",
    "The `break` statement exits the current loop immediately."
   ]
  },
  {
   "cell_type": "code",
   "execution_count": null,
   "id": "398fd310",
   "metadata": {},
   "outputs": [],
   "source": [
    "# Find the first even number in a list\n",
    "numbers = [1, 3, 5, 8, 9, 11]\n",
    "for num in numbers:\n",
    "    if num % 2 == 0:\n",
    "        print(f\"Found first even number: {num}\")\n",
    "        break"
   ]
  },
  {
   "cell_type": "markdown",
   "id": "b0995c39",
   "metadata": {},
   "source": [
    "### `continue` Statement\n",
    "\n",
    "The `continue` statement skips the rest of the code in the current iteration and proceeds to the next one."
   ]
  },
  {
   "cell_type": "code",
   "execution_count": null,
   "id": "df833444",
   "metadata": {},
   "outputs": [],
   "source": [
    "# Print only the odd numbers\n",
    "for i in range(1, 11):\n",
    "    if i % 2 == 0:  # If the number is even, skip to the next iteration\n",
    "        continue\n",
    "    print(f\"Odd number: {i}\")"
   ]
  },
  {
   "cell_type": "markdown",
   "id": "ac379bb3",
   "metadata": {},
   "source": [
    "### The `else` Clause in Loops\n",
    "\n",
    "Loops can have an `else` block that executes only if the loop completes normally (i.e., it was not terminated by a `break` statement)."
   ]
  },
  {
   "cell_type": "code",
   "execution_count": null,
   "id": "d111999e",
   "metadata": {},
   "outputs": [],
   "source": [
    "# Search for a number in a list\n",
    "numbers = [2, 4, 6, 8, 10]\n",
    "search_for = 7\n",
    "\n",
    "for num in numbers:\n",
    "    if num == search_for:\n",
    "        print(f\"Found {search_for}\")\n",
    "        break\n",
    "else:\n",
    "    # This runs only if the loop finishes without a break\n",
    "    print(f\"{search_for} was not found in the list.\")"
   ]
  },
  {
   "cell_type": "markdown",
   "id": "d3e6478e",
   "metadata": {},
   "source": [
    "## Practical Loop Patterns\n",
    "\n",
    "### Accumulator Pattern\n",
    "\n",
    "This pattern involves initializing an \"accumulator\" variable before the loop and updating it in each iteration."
   ]
  },
  {
   "cell_type": "code",
   "execution_count": null,
   "id": "b7de5907",
   "metadata": {},
   "outputs": [],
   "source": [
    "# Calculate the sum and product of a list of numbers\n",
    "test_scores = [85, 92, 78, 96, 88]\n",
    "\n",
    "# Initialize accumulators\n",
    "total_sum = 0\n",
    "highest_score = 0\n",
    "\n",
    "for score in test_scores:\n",
    "    # Accumulate sum\n",
    "    total_sum += score\n",
    "    # Find the maximum value\n",
    "    if score > highest_score:\n",
    "        highest_score = score\n",
    "\n",
    "average = total_sum / len(test_scores)\n",
    "\n",
    "print(f\"Scores: {test_scores}\")\n",
    "print(f\"Average: {average:.1f}\")\n",
    "print(f\"Highest Score: {highest_score}\")"
   ]
  },
  {
   "cell_type": "markdown",
   "id": "f204e7a1",
   "metadata": {},
   "source": [
    "### Filter and Transform Pattern\n",
    "\n",
    "This pattern involves iterating through a sequence, filtering out items that meet a certain condition, and then transforming the remaining items."
   ]
  },
  {
   "cell_type": "code",
   "execution_count": null,
   "id": "08d3ab10",
   "metadata": {},
   "outputs": [],
   "source": [
    "# Filter for even numbers and then square them\n",
    "numbers = [1, 2, 3, 4, 5, 6, 7, 8, 9, 10]\n",
    "\n",
    "even_squares = []\n",
    "for num in numbers:\n",
    "    if num % 2 == 0:  # 1. Filter for even numbers\n",
    "        even_squares.append(num ** 2)  # 2. Transform the number (square it)\n",
    "\n",
    "print(f\"Original numbers: {numbers}\")\n",
    "print(f\"Even squares: {even_squares}\")\n",
    "\n",
    "# This is often done more concisely with a list comprehension\n",
    "even_squares_comp = [num ** 2 for num in numbers if num % 2 == 0]\n",
    "print(f\"Even squares (comprehension): {even_squares_comp}\")"
   ]
  },
  {
   "cell_type": "markdown",
   "id": "76f51ae7",
   "metadata": {},
   "source": [
    "## Advanced Loop Techniques\n",
    "\n",
    "### `zip()` for Parallel Iteration\n",
    "\n",
    "Use `zip()` to iterate over multiple sequences at the same time."
   ]
  },
  {
   "cell_type": "code",
   "execution_count": null,
   "id": "c95dbbb1",
   "metadata": {},
   "outputs": [],
   "source": [
    "names = [\"Alice\", \"Bob\", \"Charlie\"]\n",
    "ages = [20, 22, 21]\n",
    "majors = [\"CS\", \"Math\", \"Physics\"]\n",
    "\n",
    "for name, age, major in zip(names, ages, majors):\n",
    "    print(f\"{name} is {age} years old and studies {major}\")"
   ]
  },
  {
   "cell_type": "markdown",
   "id": "d8e92a1b",
   "metadata": {},
   "source": [
    "---\n",
    "\n",
    "## Exercises\n",
    "\n",
    "### `while` Loop Exercises\n",
    "\n",
    "1.  **First n Even Numbers**: Write a program that prints the first `n` even numbers (starting from 2). Let `n=10`.\n",
    "2.  **Sum Formula with `while`**: Using a `while` loop, find the sum of the series: 3 + 6 + 9 + ... + 60.\n",
    "\n",
    "### `for` Loop Exercises\n",
    "\n",
    "1.  **Factorial with `for`**: Using a `for` loop, find the factorial of 15 (1 × 2 × 3 × ... × 15).\n",
    "2.  **Multiplication Table**: Write a program that prints the multiplication table for a number entered by the user. If the user enters `4`, the output should be:\n",
    "    ```\n",
    "    4 x 1 = 4\n",
    "    4 x 2 = 8\n",
    "    ...\n",
    "    4 x 12 = 48\n",
    "    ```\n",
    "3.  **Range Sum**: Write a program that, given two integers `m` and `n` where `m <= n`, finds the sum of all numbers from `m` to `n` (inclusive).\n"
   ]
  }
 ],
 "metadata": {
  "jupytext": {
   "cell_metadata_filter": "-all",
   "main_language": "python",
   "notebook_metadata_filter": "-all"
  }
 },
 "nbformat": 4,
 "nbformat_minor": 5
}
