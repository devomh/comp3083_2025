{
 "cells": [
  {
   "cell_type": "markdown",
   "id": "7bc369fb",
   "metadata": {},
   "source": "# Asignación 01: Ejercicios de Programación Fundamental\n\n## 1. Encontrar Máximo Sin Funciones Integradas\n\n**Enunciado del Problema:**\nEscriba un programa que encuentre el valor máximo en una lista de números sin usar la función integrada `max()`. El programa también debe reportar la posición (índice) donde ocurre el máximo. La lista de números será ingresada como valores separados por comas.\n\n**Entrada:** Una cadena con números separados por comas\n**Salida:** El valor máximo y su posición en la lista\n\n**Ejemplos:**\n\n**Ejemplo 1:**\n```\nNumeros: 5,2,8,1,9,3\nMaximo: 9, Posicion: 4\n```\n\n**Ejemplo 2:**\n```\nNumeros: -3,-1,-5,-2\nMaximo: -1, Posicion: 1\n```\n\n**Ejemplo 3:**\n```\nNumeros: 7,7,3,7,2\nMaximo: 7, Posicion: 0\n```"
  },
  {
   "cell_type": "code",
   "id": "fw6v9869w8",
   "source": "# Solución para Ejercicio 1: Encontrar Máximo Sin Funciones Integradas\n# Escriba su código aquí",
   "metadata": {},
   "execution_count": null,
   "outputs": []
  },
  {
   "cell_type": "markdown",
   "id": "wdxrom1or8",
   "source": "## 2. Calcular Promedio Sin Funciones Integradas\n\n**Enunciado del Problema:**\nEscriba un programa que calcule el promedio aritmético (media) de una lista de números sin usar funciones integradas como `sum()`. El resultado debe mostrarse con 2 decimales de precisión.\n\n**Entrada:** Una cadena con números separados por comas\n**Salida:** El promedio de los números con 2 decimales\n\n**Ejemplos:**\n\n**Ejemplo 1:**\n```\nNumeros: 10,20,30,40,50\nPromedio: 30.00\n```\n\n**Ejemplo 2:**\n```\nNumeros: 85,90,78,92,88\nPromedio: 86.60\n```\n\n**Ejemplo 3:**\n```\nNumeros: 5,7,3,9,1,4,6\nPromedio: 5.00\n```",
   "metadata": {}
  },
  {
   "cell_type": "code",
   "id": "1jwoyykiypj",
   "source": "# Solución para Ejercicio 2: Calcular Promedio Sin Funciones Integradas\n# Escriba su código aquí",
   "metadata": {},
   "execution_count": null,
   "outputs": []
  },
  {
   "cell_type": "markdown",
   "id": "8xqjt70bqu3",
   "source": "## 3. Patrón de Triángulo\n\n**Enunciado del Problema:**\nEscriba un programa que imprima un patrón de triángulo rectángulo usando asteriscos (*). El usuario especifica la altura del triángulo. Cada fila debe tener tantos asteriscos como su número de fila.\n\n**Entrada:** Un número entero positivo (altura del triángulo)\n**Salida:** Patrón de triángulo con asteriscos\n\n**Ejemplos:**\n\n**Ejemplo 1:**\n```\nAltura: 4\n*\n**\n***\n****\n```\n\n**Ejemplo 2:**\n```\nAltura: 3\n*\n**\n***\n```\n\n**Ejemplo 3:**\n```\nAltura: 6\n*\n**\n***\n****\n*****\n******\n```",
   "metadata": {}
  },
  {
   "cell_type": "code",
   "id": "fgwgh4gb0dp",
   "source": "# Solución para Ejercicio 3: Patrón de Triángulo\n# Escriba su código aquí",
   "metadata": {},
   "execution_count": null,
   "outputs": []
  },
  {
   "cell_type": "markdown",
   "id": "7or2en4maal",
   "source": "## 4. Patrón de Tablero de Ajedrez\n\n**Enunciado del Problema:**\nEscriba un programa que cree un patrón de tablero de ajedrez usando dos caracteres diferentes ('X' y 'O'). El usuario especifica el tamaño (n x n cuadrículas). Las posiciones alternas deben usar caracteres diferentes.\n\n**Entrada:** Un número entero positivo (tamaño del tablero)\n**Salida:** Patrón de tablero de ajedrez\n\n**Ejemplos:**\n\n**Ejemplo 1:**\n```\nTamano: 4\nXOXO\nOXOX\nXOXO\nOXOX\n```\n\n**Ejemplo 2:**\n```\nTamano: 3\nXOX\nOXO\nXOX\n```\n\n**Ejemplo 3:**\n```\nTamano: 5\nXOXOX\nOXOXO\nXOXOX\nOXOXO\nXOXOX\n```",
   "metadata": {}
  },
  {
   "cell_type": "code",
   "id": "x7ybpyn6q7e",
   "source": "# Solución para Ejercicio 4: Patrón de Tablero de Ajedrez\n# Escriba su código aquí",
   "metadata": {},
   "execution_count": null,
   "outputs": []
  },
  {
   "cell_type": "markdown",
   "id": "dbggkvtuhl",
   "source": "## 5. Invertir Palabras\n\n**Enunciado del Problema:**\nEscriba un programa que tome una oración y invierta cada palabra individualmente manteniendo el mismo orden de las palabras. Por ejemplo, \"Hola Mundo\" se convierte en \"aloH odnuM\".\n\n**Entrada:** Una oración (cadena de texto)\n**Salida:** La misma oración con cada palabra invertida\n\n**Ejemplos:**\n\n**Ejemplo 1:**\n```\nOracion: Hola Mundo\nResultado: aloH odnuM\n```\n\n**Ejemplo 2:**\n```\nOracion: Python es genial\nResultado: nohtyP se laineg\n```\n\n**Ejemplo 3:**\n```\nOracion: Programar divierte mucho\nResultado: ramargorP etreivid ohcum\n```",
   "metadata": {}
  },
  {
   "cell_type": "code",
   "id": "jz67vsrj28g",
   "source": "# Solución para Ejercicio 5: Invertir Palabras\n# Escriba su código aquí",
   "metadata": {},
   "execution_count": null,
   "outputs": []
  },
  {
   "cell_type": "markdown",
   "id": "2gr26dqa7bw",
   "source": "## 6. Verificador de Anagramas\n\n**Enunciado del Problema:**\nEscriba un programa que determine si dos palabras son anagramas (contienen las mismas letras con la misma frecuencia). El programa debe ignorar las diferencias entre mayúsculas y minúsculas.\n\n**Entrada:** Dos palabras separadas por una coma\n**Salida:** \"Son anagramas\" o \"No son anagramas\"\n\n**Ejemplos:**\n\n**Ejemplo 1:**\n```\nPalabras: amor,roma\nResultado: Son anagramas\n```\n\n**Ejemplo 2:**\n```\nPalabras: casa,saca\nResultado: Son anagramas\n```\n\n**Ejemplo 3:**\n```\nPalabras: perro,gato\nResultado: No son anagramas\n```",
   "metadata": {}
  },
  {
   "cell_type": "code",
   "id": "u89a9igxpqi",
   "source": "# Solución para Ejercicio 6: Verificador de Anagramas\n# Escriba su código aquí",
   "metadata": {},
   "execution_count": null,
   "outputs": []
  },
  {
   "cell_type": "markdown",
   "id": "sasgyevjpya",
   "source": "## 7. Intersección de Listas\n\n**Enunciado del Problema:**\nEscriba un programa que encuentre los elementos comunes entre dos listas (intersección). El resultado no debe contener duplicados y debe estar ordenado de menor a mayor.\n\n**Entrada:** Dos listas de números separados por comas, cada lista en una línea diferente\n**Salida:** Lista con los elementos comunes ordenados\n\n**Ejemplos:**\n\n**Ejemplo 1:**\n```\nLista 1: 1,2,3,4,5\nLista 2: 3,4,5,6,7\nInterseccion: [3, 4, 5]\n```\n\n**Ejemplo 2:**\n```\nLista 1: 10,20,30,40\nLista 2: 15,20,25,30\nInterseccion: [20, 30]\n```\n\n**Ejemplo 3:**\n```\nLista 1: 1,1,2,3,3\nLista 2: 2,2,3,4,4\nInterseccion: [2, 3]\n```",
   "metadata": {}
  },
  {
   "cell_type": "code",
   "id": "y0deee5qxy",
   "source": "# Solución para Ejercicio 7: Intersección de Listas\n# Escriba su código aquí",
   "metadata": {},
   "execution_count": null,
   "outputs": []
  },
  {
   "cell_type": "markdown",
   "id": "nhy2t33wuwi",
   "source": "## 8. Particionador de Listas\n\n**Enunciado del Problema:**\nEscriba un programa que particione una lista en dos listas: una con números pares y otra con números impares. Debe mantener el orden original dentro de cada partición.\n\n**Entrada:** Una lista de números enteros separados por comas\n**Salida:** Dos listas separadas (pares e impares)\n\n**Ejemplos:**\n\n**Ejemplo 1:**\n```\nNumeros: 1,2,3,4,5,6,7,8\nPares: [2, 4, 6, 8]\nImpares: [1, 3, 5, 7]\n```\n\n**Ejemplo 2:**\n```\nNumeros: 10,15,20,25,30\nPares: [10, 20, 30]\nImpares: [15, 25]\n```\n\n**Ejemplo 3:**\n```\nNumeros: 3,7,9,11\nPares: []\nImpares: [3, 7, 9, 11]\n```",
   "metadata": {}
  },
  {
   "cell_type": "code",
   "id": "ao6bj6uf8q",
   "source": "# Solución para Ejercicio 8: Particionador de Listas\n# Escriba su código aquí",
   "metadata": {},
   "execution_count": null,
   "outputs": []
  },
  {
   "cell_type": "markdown",
   "id": "cljjb40di3",
   "source": "**Ejemplo 1:**\n```\nNumeros: 5,2,8,1,9,3\nMaximo: 9, Posicion: 4\n```",
   "metadata": {}
  }
 ],
 "metadata": {
  "jupytext": {
   "cell_metadata_filter": "-all",
   "main_language": "python",
   "notebook_metadata_filter": "-all"
  }
 },
 "nbformat": 4,
 "nbformat_minor": 5
}