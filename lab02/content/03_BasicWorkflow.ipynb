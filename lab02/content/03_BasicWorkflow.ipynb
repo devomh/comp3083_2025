{
 "cells": [
  {
   "cell_type": "markdown",
   "metadata": {},
   "source": [
    "# Basic Programming Workflow - Input, Compute, Output\n",
    "\n",
    "This notebook introduces the fundamental programming paradigm of taking user input, performing computations, and producing output. You'll learn to work with variables, user input, and basic calculations."
   ]
  },
  {
   "cell_type": "markdown",
   "metadata": {},
   "source": [
    "## Input, Variables and Simple Calculations\n",
    "\n",
    "### The `input()` Function\n",
    "\n",
    "The `input()` function allows your program to interact with users by reading text they type.\n",
    "\n",
    "**Key Points:**\n",
    "- `input()` always returns a string, even if the user types numbers\n",
    "- Use `int()` or `float()` to convert strings to numbers\n",
    "- You can provide a prompt message inside the parentheses\n",
    "\n",
    "### Variable Assignment\n",
    "\n",
    "Variables store data that your program can use later.\n",
    "\n",
    "**Naming Rules:**\n",
    "- Start with letter or underscore\n",
    "- Can contain letters, numbers, underscores\n",
    "- Case sensitive (`name` and `Name` are different)\n",
    "- Use descriptive names (`age` not `a`)\n",
    "\n",
    "### Data Type Conversion\n",
    "\n",
    "- `str()` - Convert to string\n",
    "- `int()` - Convert to integer (whole numbers)\n",
    "- `float()` - Convert to floating-point (decimal numbers)"
   ]
  },
  {
   "cell_type": "code",
   "execution_count": null,
   "metadata": {},
   "outputs": [],
   "source": [
    "# Basic input example\n",
    "name = input(\"What is your name? \")\n",
    "print(\"Hello, \" + name + \"!\")"
   ]
  },
  {
   "cell_type": "code",
   "execution_count": null,
   "metadata": {},
   "outputs": [],
   "source": [
    "# Input with number conversion\n",
    "age_text = input(\"How old are you? \")\n",
    "age = int(age_text)  # Convert string to integer\n",
    "next_year = age + 1\n",
    "print(f\"Next year you will be {next_year} years old.\")"
   ]
  },
  {
   "cell_type": "code",
   "execution_count": null,
   "metadata": {},
   "outputs": [],
   "source": [
    "# Shorter version - convert directly\n",
    "current_year = int(input(\"What year is it? \"))\n",
    "birth_year = current_year - age\n",
    "print(f\"You were born in {birth_year}.\")"
   ]
  },
  {
   "cell_type": "code",
   "execution_count": null,
   "metadata": {},
   "outputs": [],
   "source": [
    "# Working with decimal numbers\n",
    "price = float(input(\"Enter the price: $\"))\n",
    "tax_rate = 0.08  # 8% tax\n",
    "tax_amount = price * tax_rate\n",
    "total = price + tax_amount\n",
    "\n",
    "print(f\"Price: ${price:.2f}\")\n",
    "print(f\"Tax: ${tax_amount:.2f}\")\n",
    "print(f\"Total: ${total:.2f}\")"
   ]
  },
  {
   "cell_type": "markdown",
   "metadata": {},
   "source": [
    "### Common Errors and Solutions\n",
    "\n",
    "**ValueError**: Occurs when you try to convert invalid input\n",
    "```python\n",
    "# This will cause an error if user types \"abc\"\n",
    "number = int(input(\"Enter a number: \"))\n",
    "```\n",
    "\n",
    "**Solution**: Always test with valid input first, error handling comes later in the course."
   ]
  },
  {
   "cell_type": "markdown",
   "metadata": {},
   "source": [
    "## More Expression Exercises\n",
    "\n",
    "### Mathematical Operations with Variables\n",
    "\n",
    "Practice combining user input with various mathematical operations and output formatting."
   ]
  },
  {
   "cell_type": "code",
   "execution_count": null,
   "metadata": {},
   "outputs": [],
   "source": [
    "# Multiple inputs and calculations\n",
    "num1 = float(input(\"Enter first number: \"))\n",
    "num2 = float(input(\"Enter second number: \"))\n",
    "\n",
    "# Various operations\n",
    "sum_result = num1 + num2\n",
    "difference = num1 - num2\n",
    "product = num1 * num2\n",
    "quotient = num1 / num2\n",
    "average = (num1 + num2) / 2\n",
    "\n",
    "print(f\"Numbers: {num1} and {num2}\")\n",
    "print(f\"Sum: {sum_result}\")\n",
    "print(f\"Difference: {difference}\")\n",
    "print(f\"Product: {product}\")\n",
    "print(f\"Quotient: {quotient}\")\n",
    "print(f\"Average: {average}\")"
   ]
  },
  {
   "cell_type": "code",
   "execution_count": null,
   "metadata": {},
   "outputs": [],
   "source": [
    "# String operations with numbers\n",
    "first_name = input(\"Enter your first name: \")\n",
    "last_name = input(\"Enter your last name: \")\n",
    "age = int(input(\"Enter your age: \"))\n",
    "\n",
    "full_name = first_name + \" \" + last_name\n",
    "initials = first_name[0] + \".\" + last_name[0] + \".\"\n",
    "name_length = len(full_name)\n",
    "\n",
    "print(f\"Full name: {full_name}\")\n",
    "print(f\"Initials: {initials}\")\n",
    "print(f\"Name length: {name_length} characters\")\n",
    "print(f\"In 10 years, {first_name} will be {age + 10} years old.\")"
   ]
  },
  {
   "cell_type": "code",
   "execution_count": null,
   "metadata": {},
   "outputs": [],
   "source": [
    "# More complex expressions\n",
    "base = float(input(\"Enter base number: \"))\n",
    "exponent = int(input(\"Enter exponent: \"))\n",
    "\n",
    "power_result = base ** exponent\n",
    "square_root = base ** 0.5\n",
    "\n",
    "print(f\"{base} raised to the power of {exponent} = {power_result}\")\n",
    "print(f\"Square root of {base} = {square_root}\")\n",
    "\n",
    "# Demonstrate order of operations\n",
    "expression_result = (base + 5) * 2 - exponent\n",
    "print(f\"({base} + 5) * 2 - {exponent} = {expression_result}\")"
   ]
  },
  {
   "cell_type": "markdown",
   "metadata": {},
   "source": [
    "## Input-Compute-Output Paradigm - Practice Problems\n",
    "\n",
    "### The Three-Step Programming Pattern\n",
    "\n",
    "Most programs follow this pattern:\n",
    "1. **Input**: Get data from the user\n",
    "2. **Compute**: Process the data using formulas or logic\n",
    "3. **Output**: Display the results\n",
    "\n",
    "### Practice Problems\n",
    "\n",
    "Solve each problem by implementing the input-compute-output pattern. Write your code in the empty cells provided."
   ]
  },
  {
   "cell_type": "markdown",
   "metadata": {},
   "source": [
    "### Problem 1: Area of a Rectangle\n",
    "\n",
    "**Description**: Calculate the area of a rectangle given its length and width.\n",
    "\n",
    "**Requirements**:\n",
    "- Ask the user for length and width\n",
    "- Calculate area using the formula: area = length × width\n",
    "- Display the result with appropriate units\n",
    "\n",
    "**Sample Run**:\n",
    "```\n",
    "Enter the length: 5.5\n",
    "Enter the width: 3.2\n",
    "The area of the rectangle is 17.6 square units.\n",
    "```"
   ]
  },
  {
   "cell_type": "code",
   "execution_count": null,
   "metadata": {},
   "outputs": [],
   "source": [
    "# Your solution for Problem 1 here\n"
   ]
  },
  {
   "cell_type": "markdown",
   "metadata": {},
   "source": [
    "### Problem 2: Total Seconds Conversion\n",
    "\n",
    "**Description**: Convert a time given in hours, minutes, and seconds to total seconds.\n",
    "\n",
    "**Requirements**:\n",
    "- Ask the user for hours, minutes, and seconds\n",
    "- Convert to total seconds using: total = (hours × 3600) + (minutes × 60) + seconds\n",
    "- Display the total number of seconds\n",
    "\n",
    "**Sample Run**:\n",
    "```\n",
    "Enter hours: 2\n",
    "Enter minutes: 30\n",
    "Enter seconds: 45\n",
    "Total seconds: 9045\n",
    "```"
   ]
  },
  {
   "cell_type": "code",
   "execution_count": null,
   "metadata": {},
   "outputs": [],
   "source": [
    "# Your solution for Problem 2 here\n"
   ]
  },
  {
   "cell_type": "markdown",
   "metadata": {},
   "source": [
    "### Problem 3: Temperature Conversion (Celsius to Fahrenheit)\n",
    "\n",
    "**Description**: Convert temperature from Celsius to Fahrenheit.\n",
    "\n",
    "**Requirements**:\n",
    "- Ask the user for temperature in Celsius\n",
    "- Convert using the formula: F = (C × 9/5) + 32\n",
    "- Display the temperature in Fahrenheit\n",
    "\n",
    "**Sample Run**:\n",
    "```\n",
    "Enter temperature in Celsius: 25\n",
    "25.0°C is equal to 77.0°F\n",
    "```"
   ]
  },
  {
   "cell_type": "code",
   "execution_count": null,
   "metadata": {},
   "outputs": [],
   "source": [
    "# Your solution for Problem 3 here\n"
   ]
  },
  {
   "cell_type": "markdown",
   "metadata": {},
   "source": [
    "### Problem 4: Circle Area\n",
    "\n",
    "**Description**: Calculate the area of a circle given its radius.\n",
    "\n",
    "**Requirements**:\n",
    "- Ask the user for the radius\n",
    "- Calculate area using the formula: area = π × radius²\n",
    "- Use 3.14159 for π\n",
    "- Display the result rounded to 2 decimal places\n",
    "\n",
    "**Sample Run**:\n",
    "```\n",
    "Enter the radius: 4.5\n",
    "The area of the circle is 63.62 square units.\n",
    "```"
   ]
  },
  {
   "cell_type": "code",
   "execution_count": null,
   "metadata": {},
   "outputs": [],
   "source": [
    "# Your solution for Problem 4 here\n"
   ]
  },
  {
   "cell_type": "markdown",
   "metadata": {},
   "source": [
    "### Problem 5: Simple Interest Calculator\n",
    "\n",
    "**Description**: Calculate simple interest on a loan or investment.\n",
    "\n",
    "**Requirements**:\n",
    "- Ask the user for principal amount, interest rate (as percentage), and time in years\n",
    "- Calculate simple interest using: interest = principal × rate × time / 100\n",
    "- Calculate total amount: total = principal + interest\n",
    "- Display both the interest earned and total amount\n",
    "\n",
    "**Sample Run**:\n",
    "```\n",
    "Enter principal amount: $1000\n",
    "Enter interest rate (%): 5.5\n",
    "Enter time in years: 3\n",
    "Simple interest: $165.00\n",
    "Total amount: $1165.00\n",
    "```"
   ]
  },
  {
   "cell_type": "code",
   "execution_count": null,
   "metadata": {},
   "outputs": [],
   "source": [
    "# Your solution for Problem 5 here\n"
   ]
  },
  {
   "cell_type": "markdown",
   "metadata": {},
   "source": [
    "### Problem 6: BMI Calculator (Imperial Units)\n",
    "\n",
    "**Description**: Calculate Body Mass Index using weight in pounds and height in inches.\n",
    "\n",
    "**Requirements**:\n",
    "- Ask the user for weight in pounds and height in inches\n",
    "- Calculate BMI using the formula: BMI = (weight × 703) / (height²)\n",
    "- Display the BMI rounded to 1 decimal place\n",
    "- Optionally, include BMI category interpretation\n",
    "\n",
    "**Sample Run**:\n",
    "```\n",
    "Enter your weight in pounds: 150\n",
    "Enter your height in inches: 68\n",
    "Your BMI is 22.8\n",
    "```\n",
    "\n",
    "**BMI Categories** (for reference):\n",
    "- Underweight: BMI < 18.5\n",
    "- Normal weight: 18.5 ≤ BMI < 25\n",
    "- Overweight: 25 ≤ BMI < 30\n",
    "- Obese: BMI ≥ 30"
   ]
  },
  {
   "cell_type": "code",
   "execution_count": null,
   "metadata": {},
   "outputs": [],
   "source": [
    "# Your solution for Problem 6 here\n"
   ]
  },
  {
   "cell_type": "markdown",
   "metadata": {},
   "source": [
    "## Summary and Reflection\n",
    "\n",
    "### What You've Learned\n",
    "\n",
    "1. **Input Handling**: Using `input()` function and type conversion\n",
    "2. **Variable Management**: Storing and manipulating data\n",
    "3. **Mathematical Operations**: Applying formulas and calculations\n",
    "4. **Output Formatting**: Displaying results clearly\n",
    "5. **Programming Pattern**: Input → Compute → Output workflow\n",
    "\n",
    "### Key Programming Concepts\n",
    "\n",
    "- **Data Types**: String, integer, float conversions\n",
    "- **Mathematical Operators**: +, -, *, /, **, %\n",
    "- **String Formatting**: f-strings and format specifiers\n",
    "- **Variable Naming**: Descriptive, meaningful names\n",
    "- **Problem Solving**: Breaking down problems into steps\n",
    "\n",
    "### Next Steps\n",
    "\n",
    "- Practice more complex calculations\n",
    "- Learn about conditional statements (if/else)\n",
    "- Explore loops for repetitive tasks\n",
    "- Handle user input errors gracefully\n",
    "- Work with lists and more data structures\n",
    "\n",
    "### Debugging Tips\n",
    "\n",
    "- **Test with simple values** first\n",
    "- **Print intermediate results** to verify calculations\n",
    "- **Check data types** if operations fail\n",
    "- **Read error messages** carefully\n",
    "- **Use descriptive variable names** to avoid confusion"
   ]
  }
 ],
 "metadata": {
  "kernelspec": {
   "display_name": "Python 3",
   "language": "python",
   "name": "python3"
  },
  "language_info": {
   "codemirror_mode": {
    "name": "ipython",
    "version": 3
   },
   "file_extension": ".py",
   "mimetype": "text/x-python",
   "name": "python",
   "nbconvert_exporter": "python",
   "pygments_lexer": "ipython3",
   "version": "3.8.5"
  }
 },
 "nbformat": 4,
 "nbformat_minor": 4
}
