{
 "cells": [
  {
   "cell_type": "markdown",
   "id": "e881a081",
   "metadata": {},
   "source": [
    "# Module 2: Layout and UX Concepts\n",
    "\n",
    "## Making UIs Professional and Usable\n",
    "\n",
    "**Learning Objectives:**\n",
    "- Organize widgets using layout containers (HBox, VBox, GridBox)\n",
    "- Apply UX principles for intuitive interfaces\n",
    "- Implement validation with visual feedback\n",
    "- Integrate matplotlib for data visualization\n",
    "- Build a complete data science application\n",
    "\n",
    "---\n",
    "\n",
    "## The Problem: Vertical Soup\n",
    "\n",
    "In Module 1, we used `display()` to show widgets. The result? Everything stacks vertically:"
   ]
  },
  {
   "cell_type": "code",
   "execution_count": 1,
   "id": "ab3bff88",
   "metadata": {},
   "outputs": [
    {
     "data": {
      "application/vnd.jupyter.widget-view+json": {
       "model_id": "9bae7220cc714809852ec03640b35bc7",
       "version_major": 2,
       "version_minor": 0
      },
      "text/plain": [
       "Text(value='', description='Name:')"
      ]
     },
     "metadata": {},
     "output_type": "display_data"
    },
    {
     "data": {
      "application/vnd.jupyter.widget-view+json": {
       "model_id": "4f89871377fd477d89ef204088e662a5",
       "version_major": 2,
       "version_minor": 0
      },
      "text/plain": [
       "IntText(value=0, description='Age:')"
      ]
     },
     "metadata": {},
     "output_type": "display_data"
    },
    {
     "data": {
      "application/vnd.jupyter.widget-view+json": {
       "model_id": "32a4fd5bc81c46a0b60fbc22fe5d7ac0",
       "version_major": 2,
       "version_minor": 0
      },
      "text/plain": [
       "Dropdown(description='Country:', options=(), value=None)"
      ]
     },
     "metadata": {},
     "output_type": "display_data"
    },
    {
     "data": {
      "application/vnd.jupyter.widget-view+json": {
       "model_id": "952d03a072c340ffb00fba8f7121b965",
       "version_major": 2,
       "version_minor": 0
      },
      "text/plain": [
       "Button(description='Submit', style=ButtonStyle())"
      ]
     },
     "metadata": {},
     "output_type": "display_data"
    },
    {
     "data": {
      "application/vnd.jupyter.widget-view+json": {
       "model_id": "b849ca14d5154717af60911a957b81d0",
       "version_major": 2,
       "version_minor": 0
      },
      "text/plain": [
       "Output()"
      ]
     },
     "metadata": {},
     "output_type": "display_data"
    }
   ],
   "source": [
    "import ipywidgets as W\n",
    "from IPython.display import display\n",
    "\n",
    "# This creates a long vertical list\n",
    "display(W.Text(description='Name:'))\n",
    "display(W.IntText(description='Age:'))\n",
    "display(W.Dropdown(description='Country:'))\n",
    "display(W.Button(description='Submit'))\n",
    "display(W.Output())"
   ]
  },
  {
   "cell_type": "markdown",
   "id": "bf00a646",
   "metadata": {},
   "source": [
    "This works, but it's not professional or organized. **Solution: Layout containers.**\n",
    "\n",
    "---\n",
    "\n",
    "## Layout Containers\n",
    "\n",
    "### HBox: Horizontal Layout\n",
    "\n",
    "Arrange widgets side-by-side."
   ]
  },
  {
   "cell_type": "code",
   "execution_count": 2,
   "id": "54ea57ac",
   "metadata": {},
   "outputs": [
    {
     "data": {
      "application/vnd.jupyter.widget-view+json": {
       "model_id": "cff7c009fd8b42e995d7eafa79e55c18",
       "version_major": 2,
       "version_minor": 0
      },
      "text/plain": [
       "HBox(children=(Text(value='', description='First:'), Text(value='', description='Last:')))"
      ]
     },
     "metadata": {},
     "output_type": "display_data"
    }
   ],
   "source": [
    "import ipywidgets as W\n",
    "from IPython.display import display\n",
    "\n",
    "first_name = W.Text(description='First:')\n",
    "last_name = W.Text(description='Last:')\n",
    "\n",
    "# Put them in a horizontal box\n",
    "name_row = W.HBox([first_name, last_name])\n",
    "display(name_row)"
   ]
  },
  {
   "cell_type": "markdown",
   "id": "14f36cdd",
   "metadata": {},
   "source": [
    "**Use HBox when:** Related inputs should be on the same line (first/last name, city/state, etc.)\n",
    "\n",
    "---\n",
    "\n",
    "### VBox: Vertical Layout\n",
    "\n",
    "Arrange widgets top-to-bottom (explicit vertical stacking)."
   ]
  },
  {
   "cell_type": "code",
   "execution_count": 3,
   "id": "a26e8631",
   "metadata": {},
   "outputs": [
    {
     "data": {
      "application/vnd.jupyter.widget-view+json": {
       "model_id": "0579e423e8974cfe812bb25d45216351",
       "version_major": 2,
       "version_minor": 0
      },
      "text/plain": [
       "VBox(children=(HTML(value='<h3>Contact Form</h3>'), Text(value='', description='Name:'), Text(value='', descri…"
      ]
     },
     "metadata": {},
     "output_type": "display_data"
    }
   ],
   "source": [
    "import ipywidgets as W\n",
    "from IPython.display import display\n",
    "\n",
    "title = W.HTML('<h3>Contact Form</h3>')\n",
    "name = W.Text(description='Name:')\n",
    "email = W.Text(description='Email:')\n",
    "submit = W.Button(description='Submit', button_style='success')\n",
    "\n",
    "# Put them in a vertical box\n",
    "form = W.VBox([title, name, email, submit])\n",
    "display(form)"
   ]
  },
  {
   "cell_type": "markdown",
   "id": "28114867",
   "metadata": {},
   "source": [
    "**Use VBox when:** You want explicit control over vertical spacing and grouping.\n",
    "\n",
    "---\n",
    "\n",
    "### Nesting Layouts: The Real Power\n",
    "\n",
    "Combine HBox and VBox to create complex layouts."
   ]
  },
  {
   "cell_type": "code",
   "execution_count": null,
   "id": "c5892b72",
   "metadata": {},
   "outputs": [
    {
     "data": {
      "application/vnd.jupyter.widget-view+json": {
       "model_id": "7d5e300d00434a53b7d9c0ec092eb80c",
       "version_major": 2,
       "version_minor": 0
      },
      "text/plain": [
       "VBox(children=(HTML(value='<h3>Temperature Converter</h3>'), HBox(children=(FloatText(value=0.0, description='…"
      ]
     },
     "metadata": {},
     "output_type": "display_data"
    }
   ],
   "source": [
    "import ipywidgets as W\n",
    "from IPython.display import display\n",
    "\n",
    "# Title section\n",
    "title = W.HTML('<h3>Temperature Converter</h3>')\n",
    "\n",
    "# Input row (horizontal)\n",
    "temp_input = W.FloatText(description='Value:', value=0)\n",
    "unit_input = W.Dropdown(\n",
    "    options=['Celsius', 'Fahrenheit', 'Kelvin'],\n",
    "    description='From:'\n",
    ")\n",
    "input_row = W.HBox([temp_input, unit_input])\n",
    "\n",
    "# Output selection row (horizontal)\n",
    "unit_output = W.Dropdown(\n",
    "    options=['Celsius', 'Fahrenheit', 'Kelvin'],\n",
    "    description='To:',\n",
    "    value='Fahrenheit'\n",
    ")\n",
    "convert_btn = W.Button(description='Convert', button_style='primary')\n",
    "output_row = W.HBox([unit_output, convert_btn])\n",
    "\n",
    "# Result area\n",
    "result = W.Output()\n",
    "\n",
    "# Combine everything vertically\n",
    "app = W.VBox([title, input_row, output_row, result])\n",
    "\n",
    "# Event handler\n",
    "def on_convert(b):\n",
    "    with result:\n",
    "        result.clear_output()\n",
    "        # Add conversion logic here\n",
    "        print(f\"Converting {temp_input.value} {unit_input.value} to {unit_output.value}\")\n",
    "\n",
    "convert_btn.on_click(on_convert)\n",
    "\n",
    "display(app)"
   ]
  },
  {
   "cell_type": "markdown",
   "id": "f3a3a49c",
   "metadata": {},
   "source": [
    "**Pattern:** Related inputs → HBox. Sections/steps → VBox.\n",
    "\n",
    "---\n",
    "\n",
    "### GridBox: Grid Layout\n",
    "\n",
    "For more complex arrangements."
   ]
  },
  {
   "cell_type": "code",
   "execution_count": 25,
   "id": "812e118c",
   "metadata": {},
   "outputs": [
    {
     "data": {
      "application/vnd.jupyter.widget-view+json": {
       "model_id": "1d2b9eed56ba4911a4e8b4fa45cf9ce2",
       "version_major": 2,
       "version_minor": 0
      },
      "text/plain": [
       "VBox(children=(Text(value='', description='Display:', disabled=True), GridBox(children=(Button(description='7'…"
      ]
     },
     "metadata": {},
     "output_type": "display_data"
    }
   ],
   "source": [
    "import ipywidgets as W\n",
    "from IPython.display import display\n",
    "\n",
    "# Create a calculator layout\n",
    "buttons = [\n",
    "    [W.Button(description='7'), W.Button(description='8'), W.Button(description='9'), W.Button(description='/')],\n",
    "    [W.Button(description='4'), W.Button(description='5'), W.Button(description='6'), W.Button(description='*')],\n",
    "    [W.Button(description='1'), W.Button(description='2'), W.Button(description='3'), W.Button(description='-')],\n",
    "    [W.Button(description='0'), W.Button(description='.'), W.Button(description='='), W.Button(description='+')],\n",
    "]\n",
    "\n",
    "# Flatten for GridBox\n",
    "flat_buttons = [btn for row in buttons for btn in row]\n",
    "\n",
    "grid = W.GridBox(\n",
    "    flat_buttons,\n",
    "    layout=W.Layout(grid_template_columns='repeat(4, 120px)')\n",
    ")\n",
    "\n",
    "display(W.VBox([\n",
    "    W.Text(description='Display:', disabled=True),\n",
    "    grid\n",
    "]))"
   ]
  },
  {
   "cell_type": "markdown",
   "id": "62a21bf7",
   "metadata": {
    "lines_to_next_cell": 0
   },
   "source": [
    "---\n",
    "\n",
    "## UX Principles for Better Interfaces\n",
    "\n",
    "### 1. Grouping and Visual Hierarchy\n",
    "\n",
    "**Principle:** Related items should be visually grouped.\n",
    "\n",
    "**Bad Example:**"
   ]
  },
  {
   "cell_type": "code",
   "execution_count": 6,
   "id": "77cd018b",
   "metadata": {},
   "outputs": [
    {
     "data": {
      "application/vnd.jupyter.widget-view+json": {
       "model_id": "ca610c0ceeb043efb896c3486a88370f",
       "version_major": 2,
       "version_minor": 0
      },
      "text/plain": [
       "Text(value='', description='First Name:')"
      ]
     },
     "metadata": {},
     "output_type": "display_data"
    },
    {
     "data": {
      "application/vnd.jupyter.widget-view+json": {
       "model_id": "19c86998b6c0401da123b310649beee1",
       "version_major": 2,
       "version_minor": 0
      },
      "text/plain": [
       "Text(value='', description='Email:')"
      ]
     },
     "metadata": {},
     "output_type": "display_data"
    },
    {
     "data": {
      "application/vnd.jupyter.widget-view+json": {
       "model_id": "f6edac2a2045451a8146492801743990",
       "version_major": 2,
       "version_minor": 0
      },
      "text/plain": [
       "Text(value='', description='Last Name:')"
      ]
     },
     "metadata": {},
     "output_type": "display_data"
    },
    {
     "data": {
      "application/vnd.jupyter.widget-view+json": {
       "model_id": "7117670607934dc9a310c52b303ef86b",
       "version_major": 2,
       "version_minor": 0
      },
      "text/plain": [
       "Text(value='', description='Phone:')"
      ]
     },
     "metadata": {},
     "output_type": "display_data"
    }
   ],
   "source": [
    "# Everything mixed together\n",
    "display(W.Text(description='First Name:'))\n",
    "display(W.Text(description='Email:'))\n",
    "display(W.Text(description='Last Name:'))\n",
    "display(W.Text(description='Phone:'))"
   ]
  },
  {
   "cell_type": "markdown",
   "id": "5dbc9f78",
   "metadata": {
    "lines_to_next_cell": 0
   },
   "source": [
    "**Good Example:**"
   ]
  },
  {
   "cell_type": "code",
   "execution_count": 7,
   "id": "3bbbf0ef",
   "metadata": {},
   "outputs": [
    {
     "data": {
      "application/vnd.jupyter.widget-view+json": {
       "model_id": "c176b624567e4048b245dae7dfb3e55e",
       "version_major": 2,
       "version_minor": 0
      },
      "text/plain": [
       "VBox(children=(HTML(value='<b>Personal Information</b>'), HBox(children=(Text(value='', description='First Nam…"
      ]
     },
     "metadata": {},
     "output_type": "display_data"
    }
   ],
   "source": [
    "# Grouped logically\n",
    "name_section = W.HBox([\n",
    "    W.Text(description='First Name:'),\n",
    "    W.Text(description='Last Name:')\n",
    "])\n",
    "\n",
    "contact_section = W.HBox([\n",
    "    W.Text(description='Email:'),\n",
    "    W.Text(description='Phone:')\n",
    "])\n",
    "\n",
    "form = W.VBox([\n",
    "    W.HTML('<b>Personal Information</b>'),\n",
    "    name_section,\n",
    "    W.HTML('<b>Contact Information</b>'),\n",
    "    contact_section\n",
    "])\n",
    "\n",
    "display(form)"
   ]
  },
  {
   "cell_type": "markdown",
   "id": "2ca8a9cc",
   "metadata": {},
   "source": [
    "---\n",
    "\n",
    "### 2. Affordances: Making Actions Obvious\n",
    "\n",
    "**Principle:** Users should know what's clickable and what's not."
   ]
  },
  {
   "cell_type": "code",
   "execution_count": 8,
   "id": "991e8b4b",
   "metadata": {},
   "outputs": [
    {
     "data": {
      "application/vnd.jupyter.widget-view+json": {
       "model_id": "8e450e90904a4f8d847752b224ceaca4",
       "version_major": 2,
       "version_minor": 0
      },
      "text/plain": [
       "HBox(children=(Button(button_style='success', description='Save', icon='check', style=ButtonStyle()), Button(b…"
      ]
     },
     "metadata": {},
     "output_type": "display_data"
    }
   ],
   "source": [
    "import ipywidgets as W\n",
    "\n",
    "# Good: Clear button styles indicate purpose\n",
    "save_btn = W.Button(description='Save', button_style='success', icon='check')\n",
    "cancel_btn = W.Button(description='Cancel', button_style='danger', icon='times')\n",
    "reset_btn = W.Button(description='Reset', button_style='warning', icon='refresh')\n",
    "\n",
    "display(W.HBox([save_btn, cancel_btn, reset_btn]))"
   ]
  },
  {
   "cell_type": "markdown",
   "id": "7d02b9ec",
   "metadata": {},
   "source": [
    "**Use button styles consistently:**\n",
    "- `success` (green) - positive actions (save, submit, confirm)\n",
    "- `danger` (red) - destructive actions (delete, remove)\n",
    "- `warning` (orange) - caution actions (reset, clear)\n",
    "- `info` (blue) - informational actions (help, details)\n",
    "- `primary` (blue) - main action\n",
    "\n",
    "---\n",
    "\n",
    "### 3. Feedback: Confirm User Actions\n",
    "\n",
    "**Principle:** Always let users know what happened."
   ]
  },
  {
   "cell_type": "code",
   "execution_count": 26,
   "id": "22a545e7",
   "metadata": {},
   "outputs": [
    {
     "data": {
      "application/vnd.jupyter.widget-view+json": {
       "model_id": "26d304fa483444798558335871fe0f9c",
       "version_major": 2,
       "version_minor": 0
      },
      "text/plain": [
       "Button(button_style='primary', description='Submit', style=ButtonStyle())"
      ]
     },
     "metadata": {},
     "output_type": "display_data"
    },
    {
     "data": {
      "application/vnd.jupyter.widget-view+json": {
       "model_id": "81ea4f214e16492995f5cdabde8246ab",
       "version_major": 2,
       "version_minor": 0
      },
      "text/plain": [
       "HTML(value='')"
      ]
     },
     "metadata": {},
     "output_type": "display_data"
    }
   ],
   "source": [
    "import ipywidgets as W\n",
    "from IPython.display import display\n",
    "import time\n",
    "\n",
    "submit_btn = W.Button(description='Submit', button_style='primary')\n",
    "feedback = W.HTML()\n",
    "\n",
    "def on_submit(b):\n",
    "    # Show processing\n",
    "    submit_btn.disabled = True\n",
    "    submit_btn.description = 'Processing...'\n",
    "\n",
    "    # Simulate work\n",
    "    time.sleep(1)\n",
    "\n",
    "    # Show success\n",
    "    submit_btn.description = 'Submitted!'\n",
    "    submit_btn.button_style = 'success'\n",
    "    feedback.value = '<p style=\"color: green;\">✓ Form submitted successfully!</p>'\n",
    "\n",
    "    # Reset after delay\n",
    "    time.sleep(2)\n",
    "    submit_btn.disabled = False\n",
    "    submit_btn.description = 'Submit'\n",
    "    submit_btn.button_style = 'primary'\n",
    "    feedback.value = ''\n",
    "\n",
    "submit_btn.on_click(on_submit)\n",
    "display(submit_btn, feedback)"
   ]
  },
  {
   "cell_type": "markdown",
   "id": "fb0ee94a",
   "metadata": {},
   "source": [
    "---\n",
    "\n",
    "### 4. Validation: Prevent and Guide\n",
    "\n",
    "**Principle:** Prevent errors before they happen. Guide users to correct input."
   ]
  },
  {
   "cell_type": "code",
   "execution_count": 27,
   "id": "a71fc95c",
   "metadata": {},
   "outputs": [
    {
     "data": {
      "application/vnd.jupyter.widget-view+json": {
       "model_id": "fdf3d0d592d14f359ccfaf145ddd3ea7",
       "version_major": 2,
       "version_minor": 0
      },
      "text/plain": [
       "Text(value='', description='Email:', placeholder='user@example.com')"
      ]
     },
     "metadata": {},
     "output_type": "display_data"
    },
    {
     "data": {
      "application/vnd.jupyter.widget-view+json": {
       "model_id": "1a8460297c0f4b089bddf5bc396dc53f",
       "version_major": 2,
       "version_minor": 0
      },
      "text/plain": [
       "HTML(value='')"
      ]
     },
     "metadata": {},
     "output_type": "display_data"
    },
    {
     "data": {
      "application/vnd.jupyter.widget-view+json": {
       "model_id": "f454cb81e5dd4b86962863930acd666a",
       "version_major": 2,
       "version_minor": 0
      },
      "text/plain": [
       "Button(button_style='success', description='Submit', disabled=True, style=ButtonStyle())"
      ]
     },
     "metadata": {},
     "output_type": "display_data"
    }
   ],
   "source": [
    "import ipywidgets as W\n",
    "from IPython.display import display\n",
    "\n",
    "email_input = W.Text(description='Email:', placeholder='user@example.com')\n",
    "validation_msg = W.HTML()\n",
    "submit_btn = W.Button(description='Submit', button_style='success', disabled=True)\n",
    "\n",
    "def validate_email(change):\n",
    "    email = change['new']\n",
    "    if '@' in email and '.' in email:\n",
    "        validation_msg.value = '<p style=\"color: green;\">✓ Valid email</p>'\n",
    "        submit_btn.disabled = False\n",
    "    elif email == '':\n",
    "        validation_msg.value = ''\n",
    "        submit_btn.disabled = True\n",
    "    else:\n",
    "        validation_msg.value = '<p style=\"color: red;\">✗ Invalid email format</p>'\n",
    "        submit_btn.disabled = True\n",
    "\n",
    "email_input.observe(validate_email, names='value')\n",
    "display(email_input, validation_msg, submit_btn)"
   ]
  },
  {
   "cell_type": "markdown",
   "id": "5ef7c697",
   "metadata": {},
   "source": [
    "**Key pattern:** Disable action buttons until input is valid.\n",
    "\n",
    "---\n",
    "\n",
    "### 5. Continuous vs. Discrete Updates\n",
    "\n",
    "**Principle:** Choose update timing based on operation cost."
   ]
  },
  {
   "cell_type": "code",
   "execution_count": 28,
   "id": "41f4caed",
   "metadata": {},
   "outputs": [
    {
     "data": {
      "application/vnd.jupyter.widget-view+json": {
       "model_id": "6f596ec8ffeb419c9d6c46bc8af2b5ef",
       "version_major": 2,
       "version_minor": 0
      },
      "text/plain": [
       "IntSlider(value=0, description='Continuous:')"
      ]
     },
     "metadata": {},
     "output_type": "display_data"
    },
    {
     "data": {
      "application/vnd.jupyter.widget-view+json": {
       "model_id": "c31ff7f119384c4cace310106906e95a",
       "version_major": 2,
       "version_minor": 0
      },
      "text/plain": [
       "IntSlider(value=0, continuous_update=False, description='Discrete:')"
      ]
     },
     "metadata": {},
     "output_type": "display_data"
    },
    {
     "data": {
      "application/vnd.jupyter.widget-view+json": {
       "model_id": "eff0947f196240ed8691f567917016fd",
       "version_major": 2,
       "version_minor": 0
      },
      "text/plain": [
       "Output()"
      ]
     },
     "metadata": {},
     "output_type": "display_data"
    }
   ],
   "source": [
    "import ipywidgets as W\n",
    "from IPython.display import display\n",
    "\n",
    "# Continuous: updates while dragging (cheap operations)\n",
    "slider_continuous = W.IntSlider(\n",
    "    description='Continuous:',\n",
    "    continuous_update=True,  # Default\n",
    "    min=0, max=100\n",
    ")\n",
    "\n",
    "# Discrete: updates only when released (expensive operations)\n",
    "slider_discrete = W.IntSlider(\n",
    "    description='Discrete:',\n",
    "    continuous_update=False,  # Only on release\n",
    "    min=0, max=100\n",
    ")\n",
    "\n",
    "output = W.Output()\n",
    "\n",
    "def show_value(change):\n",
    "    with output:\n",
    "        output.clear_output()\n",
    "        print(f\"Continuous: {slider_continuous.value}, Discrete: {slider_discrete.value}\")\n",
    "\n",
    "slider_continuous.observe(show_value, names='value')\n",
    "slider_discrete.observe(show_value, names='value')\n",
    "\n",
    "display(slider_continuous, slider_discrete, output)"
   ]
  },
  {
   "cell_type": "markdown",
   "id": "c239ab7f",
   "metadata": {},
   "source": [
    "**Use `continuous_update=False` when:**\n",
    "- Calculating statistics on large datasets\n",
    "- Making API calls\n",
    "- Generating plots\n",
    "- Any expensive operation\n",
    "\n",
    "---\n",
    "\n",
    "## Data Science Example: Interactive Data Filter & Visualizer\n",
    "\n",
    "Let's build a complete data science tool that combines everything we've learned."
   ]
  },
  {
   "cell_type": "code",
   "execution_count": 29,
   "id": "e100a416",
   "metadata": {},
   "outputs": [
    {
     "data": {
      "application/vnd.jupyter.widget-view+json": {
       "model_id": "3ca2d2e10e134f6eb91dfc2cdff609a7",
       "version_major": 2,
       "version_minor": 0
      },
      "text/plain": [
       "VBox(children=(HTML(value='<b>Dataset:</b> 500 samples, 4 variables'), VBox(children=(HBox(children=(Dropdown(…"
      ]
     },
     "metadata": {},
     "output_type": "display_data"
    }
   ],
   "source": [
    "import ipywidgets as W\n",
    "from IPython.display import display\n",
    "import pandas as pd\n",
    "import numpy as np\n",
    "import matplotlib.pyplot as plt\n",
    "\n",
    "# Generate sample dataset (500 samples for realistic distributions)\n",
    "np.random.seed(42)\n",
    "n_samples = 500\n",
    "\n",
    "data = pd.DataFrame({\n",
    "    'age': np.random.normal(35, 12, n_samples).clip(18, 70),\n",
    "    'income': np.random.gamma(5, 10000, n_samples).clip(20000, 150000),\n",
    "    'score': np.random.beta(5, 2, n_samples) * 100,\n",
    "    'experience': np.random.exponential(5, n_samples).clip(0, 30)\n",
    "})\n",
    "\n",
    "# Widgets\n",
    "column_select = W.Dropdown(\n",
    "    options=list(data.columns),\n",
    "    value='age',\n",
    "    description='Variable:'\n",
    ")\n",
    "\n",
    "stat_select = W.Dropdown(\n",
    "    options=['Mean', 'Median', 'Std Dev', 'Min', 'Max', 'Count'],\n",
    "    value='Mean',\n",
    "    description='Statistic:'\n",
    ")\n",
    "\n",
    "min_slider = W.IntSlider(\n",
    "    min=0, max=100, value=0,\n",
    "    description='Min %ile:',\n",
    "    continuous_update=False  # Don't update while dragging\n",
    ")\n",
    "\n",
    "max_slider = W.IntSlider(\n",
    "    min=0, max=100, value=100,\n",
    "    description='Max %ile:',\n",
    "    continuous_update=False\n",
    ")\n",
    "\n",
    "plot_type = W.ToggleButtons(\n",
    "    options=['Histogram', 'Box Plot', 'Both'],\n",
    "    value='Histogram',\n",
    "    description='View:',\n",
    "    button_style='info'\n",
    ")\n",
    "\n",
    "calculate_btn = W.Button(\n",
    "    description='Update',\n",
    "    button_style='success',\n",
    "    icon='refresh'\n",
    ")\n",
    "\n",
    "reset_btn = W.Button(\n",
    "    description='Reset',\n",
    "    button_style='warning'\n",
    ")\n",
    "\n",
    "output = W.Output()\n",
    "info = W.HTML(value=f\"<b>Dataset:</b> {len(data)} samples, {len(data.columns)} variables\")\n",
    "\n",
    "# Event handler with plotting\n",
    "def on_calculate(_):\n",
    "    with output:\n",
    "        output.clear_output(wait=True)\n",
    "\n",
    "        try:\n",
    "            col = column_select.value\n",
    "            stat = stat_select.value\n",
    "\n",
    "            # Filter by percentile range\n",
    "            p_min = np.percentile(data[col], min_slider.value)\n",
    "            p_max = np.percentile(data[col], max_slider.value)\n",
    "            filtered = data[(data[col] >= p_min) & (data[col] <= p_max)]\n",
    "\n",
    "            # Calculate statistic\n",
    "            stat_funcs = {\n",
    "                'Mean': lambda x: x.mean(),\n",
    "                'Median': lambda x: x.median(),\n",
    "                'Std Dev': lambda x: x.std(),\n",
    "                'Min': lambda x: x.min(),\n",
    "                'Max': lambda x: x.max(),\n",
    "                'Count': lambda x: len(x)\n",
    "            }\n",
    "            result = stat_funcs[stat](filtered[col])\n",
    "\n",
    "            # Create visualization\n",
    "            if plot_type.value == 'Both':\n",
    "                fig, (ax1, ax2) = plt.subplots(1, 2, figsize=(12, 4))\n",
    "            else:\n",
    "                fig, ax1 = plt.subplots(1, 1, figsize=(8, 4))\n",
    "                ax2 = None\n",
    "\n",
    "            # Histogram\n",
    "            if plot_type.value in ['Histogram', 'Both']:\n",
    "                ax1.hist(data[col], bins=30, alpha=0.5, label='All data',\n",
    "                        color='lightblue', edgecolor='black')\n",
    "                ax1.hist(filtered[col], bins=30, alpha=0.7, label='Filtered',\n",
    "                        color='orange', edgecolor='black')\n",
    "                ax1.axvline(result, color='red', linestyle='--', linewidth=2,\n",
    "                           label=f'{stat}: {result:.2f}')\n",
    "                ax1.set_xlabel(col.capitalize())\n",
    "                ax1.set_ylabel('Frequency')\n",
    "                ax1.set_title(f'Distribution of {col.capitalize()}')\n",
    "                ax1.legend()\n",
    "                ax1.grid(True, alpha=0.3)\n",
    "\n",
    "            # Box plot\n",
    "            if plot_type.value in ['Box Plot', 'Both']:\n",
    "                ax_box = ax2 if ax2 else ax1\n",
    "                box_data = [data[col], filtered[col]]\n",
    "                bp = ax_box.boxplot(box_data, labels=['All Data', 'Filtered'],\n",
    "                                    patch_artist=True)\n",
    "                bp['boxes'][0].set_facecolor('lightblue')\n",
    "                bp['boxes'][1].set_facecolor('orange')\n",
    "                ax_box.set_ylabel(col.capitalize())\n",
    "                ax_box.set_title(f'Box Plot: {col.capitalize()}')\n",
    "                ax_box.grid(True, alpha=0.3, axis='y')\n",
    "\n",
    "            plt.tight_layout()\n",
    "            plt.show()\n",
    "\n",
    "            # Print statistics\n",
    "            print(f\"📊 Statistics Summary\")\n",
    "            print(f\"─\" * 40)\n",
    "            print(f\"Filtered: {len(filtered)}/{len(data)} samples ({len(filtered)/len(data)*100:.1f}%)\")\n",
    "            print(f\"{stat}: {result:.2f}\")\n",
    "            print(f\"Range: [{p_min:.2f}, {p_max:.2f}]\")\n",
    "\n",
    "            if len(filtered) < 10:\n",
    "                print(f\"\\n⚠️  Warning: Only {len(filtered)} samples in range\")\n",
    "\n",
    "        except Exception as e:\n",
    "            print(f\"❌ Error: {e}\")\n",
    "\n",
    "def on_reset(_):\n",
    "    min_slider.value = 0\n",
    "    max_slider.value = 100\n",
    "    column_select.value = 'age'\n",
    "    stat_select.value = 'Mean'\n",
    "    plot_type.value = 'Histogram'\n",
    "    with output:\n",
    "        output.clear_output()\n",
    "\n",
    "calculate_btn.on_click(on_calculate)\n",
    "reset_btn.on_click(on_reset)\n",
    "\n",
    "# Layout - organized and professional\n",
    "controls_row1 = W.HBox([column_select, stat_select])\n",
    "controls_row2 = W.HBox([min_slider, max_slider])\n",
    "controls_row3 = plot_type\n",
    "controls_row4 = W.HBox([calculate_btn, reset_btn])\n",
    "\n",
    "controls = W.VBox([controls_row1, controls_row2, controls_row3, controls_row4])\n",
    "\n",
    "ui = W.VBox([info, controls, output])\n",
    "display(ui)\n",
    "\n",
    "# Show initial plot\n",
    "on_calculate(None)"
   ]
  },
  {
   "cell_type": "markdown",
   "id": "8d7c8820",
   "metadata": {},
   "source": [
    "**Try it!**\n",
    "- Change the variable and see different distributions\n",
    "- Adjust percentile sliders to filter data\n",
    "- Switch between visualization types\n",
    "- Notice how the orange (filtered) data changes\n",
    "\n",
    "---\n",
    "\n",
    "## Understanding the Data Science Example\n",
    "\n",
    "### Why This Example is Effective\n",
    "\n",
    "1. **Realistic Data**: 500 samples with different statistical distributions\n",
    "   - Age: Normal distribution (bell curve)\n",
    "   - Income: Gamma distribution (skewed right)\n",
    "   - Score: Beta distribution (skewed left)\n",
    "   - Experience: Exponential distribution\n",
    "\n",
    "2. **Visual Feedback**: Immediately see the impact of filtering\n",
    "   - Blue histogram: all data\n",
    "   - Orange histogram: filtered subset\n",
    "   - Red line: calculated statistic\n",
    "\n",
    "3. **Multiple Views**: Histogram shows distribution, box plot shows quartiles\n",
    "\n",
    "4. **Statistical Learning**: Understand percentiles, distributions, and summary statistics\n",
    "\n",
    "5. **Professional Layout**: Organized controls, clear hierarchy, good UX\n",
    "\n",
    "---\n",
    "\n",
    "## Layout Best Practices from the Example\n",
    "\n",
    "```python\n",
    "# ✅ Group related controls horizontally\n",
    "controls_row1 = W.HBox([column_select, stat_select])\n",
    "\n",
    "# ✅ Separate sections vertically\n",
    "controls = W.VBox([controls_row1, controls_row2, controls_row3, controls_row4])\n",
    "\n",
    "# ✅ Info at top, controls in middle, output at bottom\n",
    "ui = W.VBox([info, controls, output])\n",
    "```"
   ]
  },
  {
   "cell_type": "markdown",
   "id": "415c55ab",
   "metadata": {},
   "source": [
    "**Hierarchy:**\n",
    "1. Dataset info (context)\n",
    "2. Controls (grouped logically)\n",
    "3. Output (results)\n",
    "\n",
    "---\n",
    "\n",
    "## Exercise 1: Improve a Layout\n",
    "\n",
    "**Task:** Take this poorly organized interface and improve it using HBox/VBox:"
   ]
  },
  {
   "cell_type": "code",
   "execution_count": 14,
   "id": "1a4a3ccb",
   "metadata": {},
   "outputs": [
    {
     "data": {
      "application/vnd.jupyter.widget-view+json": {
       "model_id": "54fa79bb24534485af70e2e9e6839e3a",
       "version_major": 2,
       "version_minor": 0
      },
      "text/plain": [
       "HTML(value='<h3>Order Form</h3>')"
      ]
     },
     "metadata": {},
     "output_type": "display_data"
    },
    {
     "data": {
      "application/vnd.jupyter.widget-view+json": {
       "model_id": "106d689d4f814073abb0e8c756ff2a0a",
       "version_major": 2,
       "version_minor": 0
      },
      "text/plain": [
       "Text(value='', description='Product:')"
      ]
     },
     "metadata": {},
     "output_type": "display_data"
    },
    {
     "data": {
      "application/vnd.jupyter.widget-view+json": {
       "model_id": "09a52b6acf734bb78d855e27bc807909",
       "version_major": 2,
       "version_minor": 0
      },
      "text/plain": [
       "IntText(value=0, description='Quantity:')"
      ]
     },
     "metadata": {},
     "output_type": "display_data"
    },
    {
     "data": {
      "application/vnd.jupyter.widget-view+json": {
       "model_id": "5b5d3dcb35cc4194bab1a7cdfa8fc817",
       "version_major": 2,
       "version_minor": 0
      },
      "text/plain": [
       "FloatText(value=0.0, description='Price:')"
      ]
     },
     "metadata": {},
     "output_type": "display_data"
    },
    {
     "data": {
      "application/vnd.jupyter.widget-view+json": {
       "model_id": "f3986b655ef5405283c5cc0566b62dec",
       "version_major": 2,
       "version_minor": 0
      },
      "text/plain": [
       "Dropdown(description='Shipping:', options=('Standard', 'Express'), value='Standard')"
      ]
     },
     "metadata": {},
     "output_type": "display_data"
    },
    {
     "data": {
      "application/vnd.jupyter.widget-view+json": {
       "model_id": "4aeaf473d1cb41a29ebdc5abed45abc3",
       "version_major": 2,
       "version_minor": 0
      },
      "text/plain": [
       "Checkbox(value=False, description='Gift wrap')"
      ]
     },
     "metadata": {},
     "output_type": "display_data"
    },
    {
     "data": {
      "application/vnd.jupyter.widget-view+json": {
       "model_id": "b3d0f92eddda4516a007156180aba554",
       "version_major": 2,
       "version_minor": 0
      },
      "text/plain": [
       "Button(description='Calculate Total', style=ButtonStyle())"
      ]
     },
     "metadata": {},
     "output_type": "display_data"
    },
    {
     "data": {
      "application/vnd.jupyter.widget-view+json": {
       "model_id": "e82135bf891b4e7aa10e76f9abd9adbb",
       "version_major": 2,
       "version_minor": 0
      },
      "text/plain": [
       "Output()"
      ]
     },
     "metadata": {},
     "output_type": "display_data"
    }
   ],
   "source": [
    "# Current (bad) layout\n",
    "display(W.HTML('<h3>Order Form</h3>'))\n",
    "display(W.Text(description='Product:'))\n",
    "display(W.IntText(description='Quantity:'))\n",
    "display(W.FloatText(description='Price:'))\n",
    "display(W.Dropdown(description='Shipping:', options=['Standard', 'Express']))\n",
    "display(W.Checkbox(description='Gift wrap'))\n",
    "display(W.Button(description='Calculate Total'))\n",
    "display(W.Output())\n",
    "\n",
    "# Your improved layout here using HBox and VBox"
   ]
  },
  {
   "cell_type": "markdown",
   "id": "4c504cb4",
   "metadata": {},
   "source": [
    "---\n",
    "\n",
    "## Exercise 2: Add Validation\n",
    "\n",
    "**Task:** Enhance the order form with validation:\n",
    "- Quantity must be > 0\n",
    "- Price must be > 0\n",
    "- Calculate button disabled until valid\n",
    "- Show validation messages"
   ]
  },
  {
   "cell_type": "code",
   "execution_count": 15,
   "id": "936233f4",
   "metadata": {},
   "outputs": [],
   "source": [
    "# Your code here"
   ]
  },
  {
   "cell_type": "markdown",
   "id": "e1e29f78",
   "metadata": {},
   "source": [
    "---\n",
    "\n",
    "## Exercise 3: BMI Calculator with Visualization\n",
    "\n",
    "**Task:** Build a BMI calculator that:\n",
    "- Has inputs for weight (kg) and height (cm)\n",
    "- Uses sliders for input (realistic ranges)\n",
    "- Calculates BMI on button click\n",
    "- Shows result with color coding:\n",
    "  - Underweight (< 18.5): blue\n",
    "  - Normal (18.5-25): green\n",
    "  - Overweight (25-30): orange\n",
    "  - Obese (> 30): red"
   ]
  },
  {
   "cell_type": "code",
   "execution_count": 16,
   "id": "ec9cc580",
   "metadata": {},
   "outputs": [],
   "source": [
    "# Your code here"
   ]
  },
  {
   "cell_type": "markdown",
   "id": "e12ff754",
   "metadata": {},
   "source": [
    "---\n",
    "\n",
    "## Exercise 4: Multi-Step Form\n",
    "\n",
    "**Task:** Create a multi-step form using layout:\n",
    "1. Step 1: Personal info (name, age)\n",
    "2. Step 2: Contact (email, phone)\n",
    "3. Step 3: Preferences (notifications checkbox, theme dropdown)\n",
    "4. \"Next\" buttons that validate before proceeding\n",
    "5. \"Back\" buttons to return to previous step\n",
    "6. Final \"Submit\" shows all collected data\n",
    "\n",
    "**Hint:** Use a variable to track current step and update the displayed VBox."
   ]
  },
  {
   "cell_type": "code",
   "execution_count": 18,
   "id": "86a8308a",
   "metadata": {},
   "outputs": [],
   "source": [
    "# Your code here"
   ]
  },
  {
   "cell_type": "markdown",
   "id": "4ab6d469",
   "metadata": {
    "lines_to_next_cell": 0
   },
   "source": [
    "---\n",
    "\n",
    "## Key Takeaways\n",
    "\n",
    "✅ **HBox for horizontal**, **VBox for vertical**, **GridBox for grid**\n",
    "\n",
    "✅ **Nest layouts** to create complex, organized interfaces\n",
    "\n",
    "✅ **Group related controls** - visually and logically\n",
    "\n",
    "✅ **Use button styles** consistently to communicate purpose\n",
    "\n",
    "✅ **Provide feedback** - users should always know what's happening\n",
    "\n",
    "✅ **Validate early** - disable actions until input is valid\n",
    "\n",
    "✅ **Choose update timing** - continuous vs discrete based on cost\n",
    "\n",
    "✅ **Visual hierarchy** - important info at top, actions at bottom\n",
    "\n",
    "---\n",
    "\n",
    "## Common Layout Patterns\n",
    "\n",
    "### Form Pattern\n",
    "\n",
    "```python\n",
    "W.VBox([\n",
    "    W.HTML('<h3>Title</h3>'),\n",
    "    W.HBox([field1, field2]),  # Related inputs\n",
    "    W.HBox([field3, field4]),\n",
    "    W.HBox([submit_btn, cancel_btn]),  # Actions\n",
    "    W.Output()  # Results\n",
    "])\n",
    "```"
   ]
  },
  {
   "cell_type": "markdown",
   "id": "c9d77888",
   "metadata": {
    "lines_to_next_cell": 0
   },
   "source": [
    "### Dashboard Pattern\n",
    "```python\n",
    "W.VBox([\n",
    "    W.HTML('<h2>Dashboard</h2>'),\n",
    "    W.HBox([metric1, metric2, metric3]),  # Metrics row\n",
    "    W.HBox([chart1, chart2]),  # Charts row\n",
    "    controls  # Control panel\n",
    "])\n",
    "```"
   ]
  },
  {
   "cell_type": "markdown",
   "id": "25210636",
   "metadata": {
    "lines_to_next_cell": 0
   },
   "source": [
    "### Filter-Results Pattern\n",
    "\n",
    "```python\n",
    "W.VBox([\n",
    "    W.HBox([filter1, filter2, apply_btn]),  # Filters\n",
    "    W.Output()  # Filtered results\n",
    "])\n",
    "```"
   ]
  },
  {
   "cell_type": "markdown",
   "id": "29e6ea07",
   "metadata": {},
   "source": [
    "---\n",
    "\n",
    "## Desktop UI Connection\n",
    "\n",
    "These layout concepts map directly to desktop frameworks:\n",
    "\n",
    "| Colab | Qt Designer | Concept |\n",
    "|-------|-------------|---------|\n",
    "| HBox | Horizontal Layout | Side-by-side widgets |\n",
    "| VBox | Vertical Layout | Stacked widgets |\n",
    "| GridBox | Grid Layout | Grid arrangement |\n",
    "| nested layouts | Layout within layout | Complex hierarchies |\n",
    "\n",
    "**In Module 3**, you'll apply these exact same patterns using Qt Designer's visual layout tools!\n",
    "\n",
    "---\n",
    "\n",
    "**Module Complete!** You now understand professional UI layout and UX principles. You're ready to transition to desktop development in Module 3."
   ]
  }
 ],
 "metadata": {
  "kernelspec": {
   "display_name": "base",
   "language": "python",
   "name": "python3"
  },
  "language_info": {
   "codemirror_mode": {
    "name": "ipython",
    "version": 3
   },
   "file_extension": ".py",
   "mimetype": "text/x-python",
   "name": "python",
   "nbconvert_exporter": "python",
   "pygments_lexer": "ipython3",
   "version": "3.12.7"
  }
 },
 "nbformat": 4,
 "nbformat_minor": 5
}
