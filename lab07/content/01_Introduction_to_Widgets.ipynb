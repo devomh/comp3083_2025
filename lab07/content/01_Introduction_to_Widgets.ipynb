{
 "cells": [
  {
   "cell_type": "markdown",
   "id": "cfe5246d",
   "metadata": {},
   "source": [
    "# Module 1: Introduction to ipywidgets\n",
    "\n",
    "## Your First Interactive UI in Google Colab\n",
    "\n",
    "**Learning Objectives:**\n",
    "- Create and display basic widgets in Colab\n",
    "- Handle user events with `.on_click()` and `.observe()`\n",
    "- Use the Output widget for displaying results\n",
    "- Implement basic validation and error handling\n",
    "- Build a working temperature converter\n",
    "\n",
    "---\n",
    "\n",
    "## What Are Widgets?\n",
    "\n",
    "**Widgets** are interactive UI elements that users can manipulate. Think of them as the building blocks of graphical interfaces:\n",
    "\n",
    "- **Buttons** - clickable elements that trigger actions\n",
    "- **Text inputs** - fields where users type information\n",
    "- **Dropdowns** - menus for selecting from options\n",
    "- **Sliders** - visual controls for numeric ranges\n",
    "- **Checkboxes** - toggle switches for yes/no options\n",
    "\n",
    "In Google Colab, we use the `ipywidgets` library to create these interactive elements.\n",
    "\n",
    "### Why Start with ipywidgets?\n",
    "\n",
    "1. **Familiar environment** - You already know Colab\n",
    "2. **Instant feedback** - See results immediately without setup\n",
    "3. **Same concepts** - Patterns transfer directly to desktop GUIs\n",
    "4. **Rapid prototyping** - Test ideas quickly before building desktop apps\n",
    "\n",
    "---\n",
    "\n",
    "## Getting Started: Your First Widget\n",
    "\n",
    "Let's create a simple button that responds to clicks."
   ]
  },
  {
   "cell_type": "code",
   "execution_count": null,
   "id": "17e50774",
   "metadata": {},
   "outputs": [],
   "source": [
    "import ipywidgets as W\n",
    "from IPython.display import display\n",
    "\n",
    "# Create a button widget\n",
    "button = W.Button(description='Click Me!', button_style='success')\n",
    "\n",
    "# Create an output area\n",
    "output = W.Output()\n",
    "\n",
    "# Define what happens when clicked\n",
    "def on_button_click(b):\n",
    "    with output:\n",
    "        print(\"Button was clicked!\")\n",
    "\n",
    "# Connect the event handler\n",
    "button.on_click(on_button_click)\n",
    "\n",
    "# Display widgets\n",
    "display(button, output)"
   ]
  },
  {
   "cell_type": "markdown",
   "id": "f98cf51d",
   "metadata": {},
   "source": [
    "**Try it!** Run this cell and click the button several times. What do you notice?\n",
    "\n",
    "### Understanding the Pattern\n",
    "\n",
    "This demonstrates the fundamental event-driven pattern:\n",
    "\n",
    "1. **Create widgets** - Define the UI elements\n",
    "2. **Define handlers** - Write functions that respond to events\n",
    "3. **Connect them** - Use `.on_click()` to link widgets to handlers\n",
    "4. **Display** - Show the widgets to the user\n",
    "\n",
    "---\n",
    "\n",
    "## Essential Widget Types\n",
    "\n",
    "### 1. Button Widget\n",
    "\n",
    "Buttons trigger actions when clicked."
   ]
  },
  {
   "cell_type": "code",
   "execution_count": null,
   "id": "6db89bdb",
   "metadata": {},
   "outputs": [],
   "source": [
    "# Different button styles\n",
    "buttons = [\n",
    "    W.Button(description='Default'),\n",
    "    W.Button(description='Primary', button_style='primary'),\n",
    "    W.Button(description='Success', button_style='success'),\n",
    "    W.Button(description='Info', button_style='info'),\n",
    "    W.Button(description='Warning', button_style='warning', icon='exclamation-triangle'),\n",
    "    W.Button(description='Danger', button_style='danger', icon='danger'),\n",
    "]\n",
    "\n",
    "for btn in buttons:\n",
    "    display(btn)"
   ]
  },
  {
   "cell_type": "markdown",
   "id": "24377f2d",
   "metadata": {},
   "source": [
    "**Attributes:**\n",
    "- `description` - text displayed on button\n",
    "- `button_style` - visual style ('success', 'danger', etc.)\n",
    "- `disabled` - whether button can be clicked\n",
    "- `icon` - optional icon name (e.g., 'check', 'times')\n",
    "\n",
    "---\n",
    "\n",
    "### 2. Text Input Widgets\n",
    "\n",
    "For entering text or numbers."
   ]
  },
  {
   "cell_type": "code",
   "execution_count": null,
   "id": "a163913f",
   "metadata": {},
   "outputs": [],
   "source": [
    "# Text input\n",
    "text_input = W.Text(\n",
    "    value='',\n",
    "    placeholder='Enter your name',\n",
    "    description='Name:',\n",
    ")\n",
    "\n",
    "# Integer input with constraints\n",
    "age_input = W.IntText(\n",
    "    value=0,\n",
    "    description='Age:',\n",
    "    min=0,\n",
    "    max=120\n",
    ")\n",
    "\n",
    "# Float input for decimals\n",
    "price_input = W.FloatText(\n",
    "    value=0.0,\n",
    "    description='Price:',\n",
    "    step=0.01\n",
    ")\n",
    "\n",
    "display(text_input, age_input, price_input)"
   ]
  },
  {
   "cell_type": "markdown",
   "id": "a5de09e3",
   "metadata": {},
   "source": [
    "**Try it!** Type in each field. Notice how IntText and FloatText validate input automatically.\n",
    "\n",
    "---\n",
    "\n",
    "### 3. Dropdown Widget\n",
    "\n",
    "For selecting from predefined options."
   ]
  },
  {
   "cell_type": "code",
   "execution_count": null,
   "id": "53903f52",
   "metadata": {},
   "outputs": [],
   "source": [
    "unit_dropdown = W.Dropdown(\n",
    "    options=['Celsius', 'Fahrenheit', 'Kelvin'],\n",
    "    value='Celsius',\n",
    "    description='Unit:',\n",
    ")\n",
    "\n",
    "# Can also use a dictionary for label-value pairs\n",
    "conversion_dropdown = W.Dropdown(\n",
    "    options={\n",
    "        'Celsius to Fahrenheit': 'c_to_f',\n",
    "        'Fahrenheit to Celsius': 'f_to_c',\n",
    "        'Celsius to Kelvin': 'c_to_k',\n",
    "    },\n",
    "    description='Convert:',\n",
    ")\n",
    "\n",
    "display(unit_dropdown, conversion_dropdown)"
   ]
  },
  {
   "cell_type": "markdown",
   "id": "6fe9d5a7",
   "metadata": {},
   "source": [
    "**Key point:** Dropdown prevents invalid input - users can only select valid options.\n",
    "\n",
    "---\n",
    "\n",
    "### 4. Slider Widgets\n",
    "\n",
    "For selecting numeric values visually."
   ]
  },
  {
   "cell_type": "code",
   "execution_count": null,
   "id": "6df05939",
   "metadata": {},
   "outputs": [],
   "source": [
    "# Integer slider\n",
    "int_slider = W.IntSlider(\n",
    "    value=50,\n",
    "    min=0,\n",
    "    max=100,\n",
    "    step=1,\n",
    "    description='Amount:',\n",
    "    continuous_update=False  # Only update when released\n",
    ")\n",
    "\n",
    "# Float slider with custom formatting\n",
    "price_slider = W.FloatSlider(\n",
    "    value=5.0,\n",
    "    min=0.0,\n",
    "    max=10.0,\n",
    "    step=0.1,\n",
    "    description='Tip $:',\n",
    "    readout_format='.2f',\n",
    ")\n",
    "\n",
    "display(int_slider, price_slider)"
   ]
  },
  {
   "cell_type": "markdown",
   "id": "5f0d1882",
   "metadata": {},
   "source": [
    "**Important:** `continuous_update=False` means the value only updates when you release the slider, not while dragging. This is useful when the update triggers expensive operations.\n",
    "\n",
    "---\n",
    "\n",
    "### 5. Checkbox Widget\n",
    "\n",
    "For boolean (yes/no) options."
   ]
  },
  {
   "cell_type": "code",
   "execution_count": null,
   "id": "e57242a8",
   "metadata": {},
   "outputs": [],
   "source": [
    "agree_checkbox = W.Checkbox(\n",
    "    value=False,\n",
    "    description='I agree to the terms',\n",
    "    indent=False\n",
    ")\n",
    "\n",
    "show_details = W.Checkbox(\n",
    "    value=True,\n",
    "    description='Show details',\n",
    ")\n",
    "\n",
    "display(agree_checkbox, show_details)"
   ]
  },
  {
   "cell_type": "markdown",
   "id": "771ac806",
   "metadata": {},
   "source": [
    "---\n",
    "\n",
    "### 6. Output Widget\n",
    "\n",
    "Special widget for displaying results, prints, or plots."
   ]
  },
  {
   "cell_type": "code",
   "execution_count": null,
   "id": "d8274b47",
   "metadata": {},
   "outputs": [],
   "source": [
    "output = W.Output()\n",
    "\n",
    "# Use 'with output:' to capture prints\n",
    "with output:\n",
    "    print(\"This appears in the output widget\")\n",
    "    print(\"Not in the regular cell output!\")\n",
    "\n",
    "display(output)\n",
    "\n",
    "# Clear output\n",
    "# output.clear_output()"
   ]
  },
  {
   "cell_type": "markdown",
   "id": "659fae69",
   "metadata": {},
   "source": [
    "**Best practice:** Always use an Output widget for results. It keeps your UI clean and controllable.\n",
    "\n",
    "---\n",
    "\n",
    "## Event Handling: Making Widgets Interactive\n",
    "\n",
    "### The `.on_click()` Method\n",
    "\n",
    "For buttons, use `.on_click()` to attach a handler function."
   ]
  },
  {
   "cell_type": "code",
   "execution_count": null,
   "id": "8a8047e9",
   "metadata": {},
   "outputs": [],
   "source": [
    "counter = 0\n",
    "count_button = W.Button(description='Count')\n",
    "count_output = W.Output()\n",
    "\n",
    "def on_count_click(b):\n",
    "    global counter # Declare we want to use a global variable\n",
    "    counter += 1\n",
    "    with count_output:\n",
    "        count_output.clear_output()\n",
    "        print(f\"Clicked {counter} times\")\n",
    "\n",
    "count_button.on_click(on_count_click)\n",
    "display(count_button, count_output)"
   ]
  },
  {
   "cell_type": "markdown",
   "id": "c7a4a665",
   "metadata": {},
   "source": [
    "**Note:** The handler function receives the button object as parameter (conventionally named `b`).\n",
    "\n",
    "---\n",
    "\n",
    "### The `.observe()` Method\n",
    "\n",
    "For other widgets (text, sliders, dropdowns), use `.observe()` to watch for value changes."
   ]
  },
  {
   "cell_type": "code",
   "execution_count": null,
   "id": "c4568f9c",
   "metadata": {},
   "outputs": [],
   "source": [
    "name_input = W.Text(description='Name:')\n",
    "greeting_output = W.Output()\n",
    "\n",
    "def on_name_change(change):\n",
    "    with greeting_output:\n",
    "        greeting_output.clear_output()\n",
    "        new_name = change['new']  # The new value\n",
    "        if new_name:\n",
    "            print(f\"Hello, {new_name}!\")\n",
    "        else:\n",
    "            print(\"Enter your name above\")\n",
    "\n",
    "name_input.observe(on_name_change, names='value')\n",
    "display(name_input, greeting_output)"
   ]
  },
  {
   "cell_type": "markdown",
   "id": "eeb3f465",
   "metadata": {},
   "source": [
    "**Understanding the `change` parameter:**\n",
    "- `change['new']` - the new value\n",
    "- `change['old']` - the previous value\n",
    "- `change['owner']` - the widget that changed\n",
    "\n",
    "Signature: `widget.observe(handler, names='value', type='change')`\n",
    "- `handler`: a function that accepts one argument, change (a dict describing the event).\n",
    "- `names`: which trait(s) to watch. Commonly 'value'. Can be a string or a list like ['value', 'options']. If omitted, all trait changes trigger the handler.\n",
    "- `type`: event type filter, usually 'change' (the default).\n",
    "\n",
    "---\n",
    "\n",
    "## Complete Example: Temperature Converter\n",
    "\n",
    "Let's build a full application combining multiple widgets."
   ]
  },
  {
   "cell_type": "code",
   "execution_count": null,
   "id": "cd894e3d",
   "metadata": {},
   "outputs": [],
   "source": [
    "import ipywidgets as W\n",
    "from IPython.display import display\n",
    "\n",
    "# Create widgets\n",
    "temp_input = W.FloatText(\n",
    "    value=0,\n",
    "    description='Temperature:',\n",
    "    step=0.1\n",
    ")\n",
    "\n",
    "conversion_type = W.Dropdown(\n",
    "    options={\n",
    "        'Celsius → Fahrenheit': 'c_to_f',\n",
    "        'Fahrenheit → Celsius': 'f_to_c',\n",
    "        'Celsius → Kelvin': 'c_to_k',\n",
    "        'Kelvin → Celsius': 'k_to_c',\n",
    "    },\n",
    "    value='c_to_f',\n",
    "    description='Conversion:',\n",
    ")\n",
    "\n",
    "convert_button = W.Button(\n",
    "    description='Convert',\n",
    "    button_style='primary',\n",
    "    icon='calculator'\n",
    ")\n",
    "\n",
    "result_output = W.Output()\n",
    "\n",
    "# Conversion functions\n",
    "def convert_temperature(value, conversion):\n",
    "    if conversion == 'c_to_f':\n",
    "        return (value * 9/5) + 32, 'F'\n",
    "    elif conversion == 'f_to_c':\n",
    "        return (value - 32) * 5/9, 'C'\n",
    "    elif conversion == 'c_to_k':\n",
    "        return value + 273.15, 'K'\n",
    "    elif conversion == 'k_to_c':\n",
    "        return value - 273.15, 'C'\n",
    "\n",
    "# Event handler\n",
    "def on_convert_click(b):\n",
    "    with result_output:\n",
    "        result_output.clear_output()\n",
    "        try:\n",
    "            input_value = temp_input.value\n",
    "            conversion = conversion_type.value\n",
    "\n",
    "            result, unit = convert_temperature(input_value, conversion)\n",
    "\n",
    "            print(f\"✓ Result: {result:.2f}° {unit}\")\n",
    "\n",
    "        except Exception as e:\n",
    "            print(f\"✗ Error: {e}\")\n",
    "\n",
    "# Connect and display\n",
    "convert_button.on_click(on_convert_click)\n",
    "display(temp_input, conversion_type, convert_button, result_output)"
   ]
  },
  {
   "cell_type": "markdown",
   "id": "d2ed4056",
   "metadata": {},
   "source": [
    "**Try it!**\n",
    "- Convert 0°C to Fahrenheit (should be 32°F)\n",
    "- Convert 100°C to Kelvin (should be 373.15K)\n",
    "- Try different conversions\n",
    "\n",
    "---\n",
    "\n",
    "## Validation and Error Handling\n",
    "\n",
    "Good UIs provide clear feedback and prevent errors.\n",
    "\n",
    "### Example: Validating Input"
   ]
  },
  {
   "cell_type": "code",
   "execution_count": null,
   "id": "d2d84096",
   "metadata": {},
   "outputs": [],
   "source": [
    "import ipywidgets as W\n",
    "from IPython.display import display\n",
    "\n",
    "age_input = W.IntText(description='Age:', value=0)\n",
    "submit_button = W.Button(description='Submit', button_style='success')\n",
    "output = W.Output()\n",
    "\n",
    "def on_submit(b):\n",
    "    with output:\n",
    "        output.clear_output()\n",
    "        age = age_input.value\n",
    "\n",
    "        # Validation\n",
    "        if age <= 0:\n",
    "            print(\"✗ Please enter a valid age\")\n",
    "            return\n",
    "        elif age < 18:\n",
    "            print(f\"Age: {age} - You are a minor\")\n",
    "        elif age < 65:\n",
    "            print(f\"Age: {age} - You are an adult\")\n",
    "        else:\n",
    "            print(f\"Age: {age} - You are a senior\")\n",
    "\n",
    "submit_button.on_click(on_submit)\n",
    "display(age_input, submit_button, output)"
   ]
  },
  {
   "cell_type": "markdown",
   "id": "8d020b82",
   "metadata": {},
   "source": [
    "### Visual Feedback\n",
    "\n",
    "You can change widget properties to provide feedback:"
   ]
  },
  {
   "cell_type": "code",
   "execution_count": null,
   "id": "ca31c92b",
   "metadata": {},
   "outputs": [],
   "source": [
    "import ipywidgets as W\n",
    "from IPython.display import display\n",
    "\n",
    "password_input = W.Password(description='Password:', placeholder='Enter password')\n",
    "check_button = W.Button(description='Check', button_style='info')\n",
    "output = W.Output()\n",
    "\n",
    "def on_check(b):\n",
    "    with output:\n",
    "        output.clear_output()\n",
    "        pwd = password_input.value\n",
    "\n",
    "        if len(pwd) < 8:\n",
    "            check_button.button_style = 'danger'\n",
    "            print(\"✗ Password must be at least 8 characters\")\n",
    "        else:\n",
    "            check_button.button_style = 'success'\n",
    "            print(\"✓ Password is valid\")\n",
    "\n",
    "check_button.on_click(on_check)\n",
    "display(password_input, check_button, output)"
   ]
  },
  {
   "cell_type": "markdown",
   "id": "5b61e6f2",
   "metadata": {},
   "source": [
    "---\n",
    "\n",
    "## Exercise 1: Widget Explorer\n",
    "\n",
    "**Task:** Create an example of each widget type we've learned:\n",
    "1. Button with click handler\n",
    "2. Text input with observe\n",
    "3. Dropdown with at least 3 options\n",
    "4. IntSlider with range 0-100\n",
    "5. Checkbox\n",
    "6. Output widget to display results\n",
    "\n",
    "Display all widgets and make them functional."
   ]
  },
  {
   "cell_type": "code",
   "execution_count": null,
   "id": "b4d955c5",
   "metadata": {},
   "outputs": [],
   "source": [
    "# Your code here"
   ]
  },
  {
   "cell_type": "markdown",
   "id": "b9de88f7",
   "metadata": {},
   "source": [
    "---\n",
    "\n",
    "## Exercise 2: Event Detective\n",
    "\n",
    "**Task:** Create a widget that shows information about events."
   ]
  },
  {
   "cell_type": "code",
   "execution_count": null,
   "id": "266f9935",
   "metadata": {},
   "outputs": [],
   "source": [
    "import ipywidgets as W\n",
    "from IPython.display import display\n",
    "\n",
    "# Create a slider\n",
    "slider = W.IntSlider(description='Value:', min=0, max=100)\n",
    "output = W.Output()\n",
    "\n",
    "def on_value_change(change):\n",
    "    with output:\n",
    "        # Print BOTH old and new values\n",
    "        # Print the owner widget's description\n",
    "        # Add your code here\n",
    "        pass\n",
    "\n",
    "slider.observe(on_value_change, names='value')\n",
    "display(slider, output)"
   ]
  },
  {
   "cell_type": "markdown",
   "id": "2a749565",
   "metadata": {},
   "source": [
    "---\n",
    "\n",
    "## Exercise 3: Simple Calculator\n",
    "\n",
    "**Task:** Build a calculator with:\n",
    "- Two FloatText inputs for numbers\n",
    "- Dropdown for operation (+, -, *, /)\n",
    "- Button to calculate\n",
    "- Output widget for result\n",
    "- Proper error handling (division by zero!)"
   ]
  },
  {
   "cell_type": "code",
   "execution_count": null,
   "id": "ffe2a464",
   "metadata": {},
   "outputs": [],
   "source": [
    "# Your code here"
   ]
  },
  {
   "cell_type": "markdown",
   "id": "64b35cea",
   "metadata": {},
   "source": [
    "---\n",
    "\n",
    "## Exercise 4: Input Validator\n",
    "\n",
    "**Task:** Create a form that validates a user's input before submitting:\n",
    "- Name (must not be empty)\n",
    "- Email (must contain '@')\n",
    "- Age (must be between 13 and 120)\n",
    "- Submit button that only works if all inputs are valid\n",
    "- Clear feedback about what's wrong"
   ]
  },
  {
   "cell_type": "code",
   "execution_count": null,
   "id": "4a1272d1",
   "metadata": {},
   "outputs": [],
   "source": [
    "# Your code here"
   ]
  },
  {
   "cell_type": "markdown",
   "id": "f280718f",
   "metadata": {},
   "source": [
    "---\n",
    "\n",
    "## Exercise 5: Multi-Widget Interaction\n",
    "\n",
    "**Task:** Create a tip calculator:\n",
    "- FloatText for bill amount\n",
    "- IntSlider for tip percentage (0-30%)\n",
    "- Checkbox for \"Split bill?\"\n",
    "- IntText for number of people (if splitting)\n",
    "- Button to calculate\n",
    "- Output showing:\n",
    "  - Tip amount\n",
    "  - Total bill\n",
    "  - Per person amount (if splitting)"
   ]
  },
  {
   "cell_type": "code",
   "execution_count": null,
   "id": "87476d20",
   "metadata": {},
   "outputs": [],
   "source": [
    "# Your code here"
   ]
  },
  {
   "cell_type": "markdown",
   "id": "8ae26ee6",
   "metadata": {
    "lines_to_next_cell": 0
   },
   "source": [
    "---\n",
    "\n",
    "## Key Takeaways\n",
    "\n",
    "✅ **Widgets are objects** - They have properties (value, description, etc.) and methods (on_click, observe)\n",
    "\n",
    "✅ **Event-driven pattern** - Create widgets → define handlers → connect → display\n",
    "\n",
    "✅ **Two event methods:**\n",
    "   - `.on_click(handler)` for buttons\n",
    "   - `.observe(handler, names='value')` for value changes\n",
    "\n",
    "✅ **Output widget** - Use `with output:` to capture prints and keep UI clean\n",
    "\n",
    "✅ **Validation matters** - Always check user input and provide clear feedback\n",
    "\n",
    "✅ **Error handling** - Use try/except to gracefully handle invalid inputs\n",
    "\n",
    "---\n",
    "\n",
    "## Common Mistakes to Avoid\n",
    "\n",
    "❌ **Calling the handler instead of passing it**\n",
    "\n",
    "```python\n",
    "# Wrong\n",
    "button.on_click(my_handler())  # Executes immediately!\n",
    "\n",
    "# Correct\n",
    "button.on_click(my_handler)  # Passes function reference\n",
    "```"
   ]
  },
  {
   "cell_type": "markdown",
   "id": "7509ff1f",
   "metadata": {
    "lines_to_next_cell": 0
   },
   "source": [
    "❌ **Forgetting to clear output**\n",
    "\n",
    "```python\n",
    "# Results keep appending\n",
    "with output:\n",
    "    print(\"Result\")  # New results append\n",
    "\n",
    "# Use clear_output()\n",
    "with output:\n",
    "    output.clear_output()  # Clear old results\n",
    "    print(\"Result\")\n",
    "```"
   ]
  },
  {
   "cell_type": "markdown",
   "id": "d1160a4b",
   "metadata": {
    "lines_to_next_cell": 0
   },
   "source": [
    "❌ **Not handling errors**\n",
    "\n",
    "```python\n",
    "# Bad - crashes on invalid input\n",
    "result = int(text_input.value)\n",
    "\n",
    "# Good - graceful error handling\n",
    "try:\n",
    "    result = int(text_input.value)\n",
    "except ValueError:\n",
    "    print(\"Please enter a valid number\")\n",
    "```"
   ]
  },
  {
   "cell_type": "markdown",
   "id": "daaa5761",
   "metadata": {
    "lines_to_next_cell": 0
   },
   "source": [
    "---\n",
    "\n",
    "## Next Steps\n",
    "\n",
    "In **Module 2: Layout and UX Concepts**, you'll learn to:\n",
    "- Organize widgets with HBox, VBox, and GridBox\n",
    "- Apply professional UI/UX principles\n",
    "- Integrate matplotlib for data visualization\n",
    "- Build a complete data science application\n",
    "\n",
    "**Before proceeding:**\n",
    "- Complete all 5 exercises above\n",
    "- Experiment with different widget combinations\n",
    "- Think about how these concepts apply to desktop apps\n",
    "\n",
    "---\n",
    "\n",
    "## Quick Reference\n",
    "\n",
    "### Import Statement"
   ]
  },
  {
   "cell_type": "code",
   "execution_count": null,
   "id": "5ef8014f",
   "metadata": {},
   "outputs": [],
   "source": [
    "import ipywidgets as W\n",
    "from IPython.display import display"
   ]
  },
  {
   "cell_type": "markdown",
   "id": "abe327cd",
   "metadata": {},
   "source": [
    "### Common Widgets\n",
    "- `W.Button()` - clickable button\n",
    "- `W.Text()` - single-line text input\n",
    "- `W.IntText()` - integer input\n",
    "- `W.FloatText()` - decimal input\n",
    "- `W.Dropdown()` - selection menu\n",
    "- `W.IntSlider()` - integer slider\n",
    "- `W.FloatSlider()` - decimal slider\n",
    "- `W.Checkbox()` - boolean toggle\n",
    "- `W.Output()` - display area\n",
    "\n",
    "### Event Handling\n",
    "- `widget.on_click(handler)` - for buttons\n",
    "- `widget.observe(handler, names='value')` - for value changes\n",
    "- Use `with output:` for clean result display\n",
    "- Always use `output.clear_output()` before new results\n",
    "\n",
    "---\n",
    "\n",
    "**Module Complete!** You now understand the fundamentals of interactive widgets. Move on to Module 2 to learn professional layout and UX techniques."
   ]
  }
 ],
 "metadata": {
  "kernelspec": {
   "display_name": "base",
   "language": "python",
   "name": "python3"
  },
  "language_info": {
   "codemirror_mode": {
    "name": "ipython",
    "version": 3
   },
   "file_extension": ".py",
   "mimetype": "text/x-python",
   "name": "python",
   "nbconvert_exporter": "python",
   "pygments_lexer": "ipython3",
   "version": "3.12.7"
  }
 },
 "nbformat": 4,
 "nbformat_minor": 5
}
