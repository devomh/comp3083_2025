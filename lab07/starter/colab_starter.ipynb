{
 "cells": [
  {
   "cell_type": "markdown",
   "metadata": {},
   "source": [
    "# Lab 07 - Colab Starter Template\n",
    "\n",
    "Use this template to build your interactive prototype in Google Colab.\n",
    "\n",
    "## Instructions\n",
    "\n",
    "1. Choose a project (temperature converter, tip calculator, BMI calculator, or your own idea)\n",
    "2. Design the UI using ipywidgets\n",
    "3. Implement event handling with validation\n",
    "4. Apply layout principles (HBox/VBox)\n",
    "5. Test thoroughly with different inputs\n",
    "\n",
    "---"
   ]
  },
  {
   "cell_type": "markdown",
   "metadata": {},
   "source": [
    "## Setup\n",
    "\n",
    "Import required libraries:"
   ]
  },
  {
   "cell_type": "code",
   "execution_count": null,
   "metadata": {},
   "outputs": [],
   "source": [
    "import ipywidgets as W\n",
    "from IPython.display import display\n",
    "\n",
    "# Optional: for data science projects\n",
    "# import pandas as pd\n",
    "# import numpy as np\n",
    "# import matplotlib.pyplot as plt"
   ]
  },
  {
   "cell_type": "markdown",
   "metadata": {},
   "source": [
    "## Create Widgets\n",
    "\n",
    "Define your input and output widgets:"
   ]
  },
  {
   "cell_type": "code",
   "execution_count": null,
   "metadata": {},
   "outputs": [],
   "source": [
    "# Example widgets - replace with your own\n",
    "\n",
    "# Input widgets\n",
    "input1 = W.FloatText(\n",
    "    value=0,\n",
    "    description='Input 1:',\n",
    "    step=0.1\n",
    ")\n",
    "\n",
    "input2 = W.Dropdown(\n",
    "    options=['Option A', 'Option B', 'Option C'],\n",
    "    description='Select:',\n",
    ")\n",
    "\n",
    "# Action button\n",
    "action_button = W.Button(\n",
    "    description='Calculate',\n",
    "    button_style='success',\n",
    "    icon='calculator'\n",
    ")\n",
    "\n",
    "# Output area\n",
    "output = W.Output()"
   ]
  },
  {
   "cell_type": "markdown",
   "metadata": {},
   "source": [
    "## Define Event Handlers\n",
    "\n",
    "Write functions that respond to user actions:"
   ]
  },
  {
   "cell_type": "code",
   "execution_count": null,
   "metadata": {},
   "outputs": [],
   "source": [
    "def on_button_click(b):\n",
    "    \"\"\"\n",
    "    Handle button click event.\n",
    "    \n",
    "    Add your logic here:\n",
    "    1. Get values from input widgets\n",
    "    2. Validate inputs\n",
    "    3. Perform calculations\n",
    "    4. Display results\n",
    "    5. Handle errors gracefully\n",
    "    \"\"\"\n",
    "    with output:\n",
    "        output.clear_output()\n",
    "        \n",
    "        try:\n",
    "            # Get input values\n",
    "            value1 = input1.value\n",
    "            value2 = input2.value\n",
    "            \n",
    "            # TODO: Add your validation\n",
    "            if value1 < 0:\n",
    "                print(\"✗ Input must be positive\")\n",
    "                return\n",
    "            \n",
    "            # TODO: Add your calculation logic\n",
    "            result = value1 * 2  # Replace with actual logic\n",
    "            \n",
    "            # Display result\n",
    "            print(f\"✓ Result: {result:.2f}\")\n",
    "            \n",
    "        except Exception as e:\n",
    "            print(f\"✗ Error: {e}\")"
   ]
  },
  {
   "cell_type": "markdown",
   "metadata": {},
   "source": [
    "## Connect and Display\n",
    "\n",
    "Connect event handlers and display the UI:"
   ]
  },
  {
   "cell_type": "code",
   "execution_count": null,
   "metadata": {},
   "outputs": [],
   "source": [
    "# Connect event handlers\n",
    "action_button.on_click(on_button_click)\n",
    "\n",
    "# Create layout using HBox and VBox\n",
    "input_row = W.HBox([input1, input2])\n",
    "\n",
    "ui = W.VBox([\n",
    "    W.HTML('<h3>My Application</h3>'),  # Title\n",
    "    input_row,                          # Inputs\n",
    "    action_button,                      # Action\n",
    "    output                              # Results\n",
    "])\n",
    "\n",
    "# Display\n",
    "display(ui)"
   ]
  },
  {
   "cell_type": "markdown",
   "metadata": {},
   "source": [
    "## Testing\n",
    "\n",
    "Test your application:\n",
    "\n",
    "- [ ] Normal inputs work correctly\n",
    "- [ ] Edge cases handled (zero, negative, very large numbers)\n",
    "- [ ] Error messages are clear\n",
    "- [ ] Layout is organized and professional\n",
    "- [ ] Button can't be clicked when invalid input\n",
    "\n",
    "---\n",
    "\n",
    "## Next Steps\n",
    "\n",
    "Once your Colab prototype works:\n",
    "\n",
    "1. Review Module 3 for Qt Designer instructions\n",
    "2. Design the same UI in Qt Designer\n",
    "3. Convert your logic to a desktop application\n",
    "4. Complete Deliverable B\n",
    "\n",
    "---\n",
    "\n",
    "**Good luck!**"
   ]
  }
 ],
 "metadata": {
  "kernelspec": {
   "display_name": "Python 3",
   "language": "python",
   "name": "python3"
  },
  "language_info": {
   "codemirror_mode": {
    "name": "ipython",
    "version": 3
   },
   "file_extension": ".py",
   "mimetype": "text/x-python",
   "name": "python",
   "nbconvert_exporter": "python",
   "pygments_lexer": "ipython3",
   "version": "3.8.0"
  }
 },
 "nbformat": 4,
 "nbformat_minor": 4
}
